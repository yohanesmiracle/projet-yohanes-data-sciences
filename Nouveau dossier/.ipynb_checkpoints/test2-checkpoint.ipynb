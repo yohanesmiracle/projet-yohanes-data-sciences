{
 "cells": [
  {
   "cell_type": "code",
   "execution_count": null,
   "id": "e1320d19",
   "metadata": {},
   "outputs": [],
   "source": [
    "# import numpy as np\n",
    "# import pandas as pd\n",
    "# import matplotlib.pyplot as plt\n",
    "# import seaborn as sns\n",
    "\n",
    "# import plotly.express as px\n",
    "# import plotly.graph_objects as go\n",
    "\n",
    "# import statsmodels.api as sm\n",
    "# import statsmodels.formula.api as smf\n",
    "\n",
    "# from scipy import stats\n",
    "\n",
    "# import wbgapi as wb"
   ]
  },
  {
   "cell_type": "code",
   "execution_count": null,
   "id": "39a243af",
   "metadata": {},
   "outputs": [],
   "source": []
  },
  {
   "cell_type": "markdown",
   "id": "4f468aec",
   "metadata": {},
   "source": [
    "---\n",
    "\n",
    "\n",
    "<img decoding=\"async\" src=\"https://salonimmigration.com/wp-content/uploads/2021/07/Universite_Teluq_Logo_255x158-1.png\" alt=\"Logo Universite TELUQ\" width=\"355\" height=\"258\" class=\"size-full wp-image-1922 alignleft\" />\n",
    "\n",
    "\n",
    "\n",
    "---\n",
    "\n",
    "\n",
    "\n",
    "\n",
    "# c'est ici que tout mon code commence\n",
    "\n"
   ]
  },
  {
   "cell_type": "code",
   "execution_count": 2,
   "id": "40294498",
   "metadata": {},
   "outputs": [],
   "source": [
    "import wbgapi as wb\n",
    "import requests\n",
    "import plotly.express as px"
   ]
  },
  {
   "cell_type": "code",
   "execution_count": null,
   "id": "1bb58521",
   "metadata": {},
   "outputs": [],
   "source": []
  },
  {
   "cell_type": "code",
   "execution_count": null,
   "id": "d6161427",
   "metadata": {},
   "outputs": [],
   "source": [
    "\n",
    "# wb.source.info()\n",
    "index_togo = list(wb.region.members('AFR')).index('TGO')\n",
    "index_togo\n",
    "countries = []\n",
    "\n",
    "for country in wb.region.members('AFR'):\n",
    "    if country in ('TGO'):\n",
    "        countries.append(country)\n",
    "countries = set(countries)\n",
    "value_input_country = input(\"Please, enter country code: \")\n",
    "gdp_indicator = wb.data.DataFrame('NY.GNP.PCAP.PP.KD', value_input_country, range(1990, 2022))  # PIB par habitant\n",
    "\n",
    "\n",
    "gdp_indicator"
   ]
  },
  {
   "cell_type": "code",
   "execution_count": null,
   "id": "194fca32",
   "metadata": {},
   "outputs": [],
   "source": [
    "wb.data.DataFrame(['NY.GDP.PCAP.PP.KD'],\n",
    "                     countries,\n",
    "                      time=range(1990,2021,5)).plot.bar()"
   ]
  },
  {
   "cell_type": "code",
   "execution_count": null,
   "id": "4a2673c7",
   "metadata": {},
   "outputs": [],
   "source": [
    "life_expectancy_indicator = wb.data.DataFrame('SP.DYN.LE00.IN', countries, range(1990, 2021))  #Espérance de vie à la naissance, total (années)\n",
    "life_expectancy_indicator"
   ]
  },
  {
   "cell_type": "code",
   "execution_count": null,
   "id": "885660f2",
   "metadata": {},
   "outputs": [],
   "source": [
    "wb.data.DataFrame(['SP.DYN.LE00.IN'],\n",
    "                     countries,\n",
    "                      time=range(1990,2021,5)).plot.bar() "
   ]
  },
  {
   "cell_type": "code",
   "execution_count": null,
   "id": "ce7aaacf",
   "metadata": {},
   "outputs": [],
   "source": [
    "co2_emissions_indicator = wb.data.DataFrame('EN.ATM.CO2E.PC', countries, range(1990, 2021), numericTimeKeys=True,)  #Émissions de CO2 (tonnes métriques par habitant)\n",
    "co2_emissions_indicator"
   ]
  },
  {
   "cell_type": "code",
   "execution_count": null,
   "id": "4a0ae578",
   "metadata": {},
   "outputs": [],
   "source": [
    "wb.data.DataFrame(['EN.ATM.CO2E.PC'],\n",
    "                     countries,\n",
    "                      time=range(1990,2021,5)).plot.bar()"
   ]
  },
  {
   "cell_type": "code",
   "execution_count": null,
   "id": "ebcc2ac4",
   "metadata": {},
   "outputs": [],
   "source": [
    "list_values_gdp = []\n",
    "\n",
    "gdp=wb.data.DataFrame('NY.GDP.PCAP.PP.KD', \n",
    "                    economy = countries,\n",
    "                      \n",
    "                    time = range(1990, 2021), numericTimeKeys = True,\n",
    "                    labels = True).set_index('Country')\n",
    "\n",
    "for (column_name, column_data) in gdp.items():\n",
    "\n",
    "    list_values_gdp.append(column_data.values)\n",
    "    \n",
    "list_values_gdp    "
   ]
  },
  {
   "cell_type": "code",
   "execution_count": null,
   "id": "8b1bd520",
   "metadata": {},
   "outputs": [],
   "source": [
    "import matplotlib.pyplot as plt\n",
    "import numpy as np\n",
    "\n",
    "years=np.arange(1990, 2021)\n",
    "fig, ax1=plt.subplots()\n",
    "\n",
    "ax1.set_xlabel('Year')\n",
    "ax1.set_ylabel('GDP per capita', color='tab:blue')\n",
    "ax1.plot(years, list_values_gdp, color='tab:blue', label='GDP per cap')\n",
    "ax1.tick_params(axis='y', labelcolor='tab:blue')\n",
    "\n",
    "plt.title('GDP per capita')\n",
    "fig.tight_layout()\n",
    "plt.show()"
   ]
  },
  {
   "cell_type": "code",
   "execution_count": null,
   "id": "63856852",
   "metadata": {
    "scrolled": true
   },
   "outputs": [],
   "source": [
    "list_values_life_expectancy = []\n",
    "\n",
    "life_expectancy=wb.data.DataFrame('SP.DYN.LE00.IN', \n",
    "                    economy = countries, \n",
    "                    time = range(1990, 2021), numericTimeKeys = True,\n",
    "                    labels = True).set_index('Country')\n",
    "\n",
    "\n",
    "for (column_name, column_data) in life_expectancy.items():\n",
    "\n",
    "    list_values_life_expectancy.append(column_data.values)\n",
    "    \n",
    "list_values_life_expectancy"
   ]
  },
  {
   "cell_type": "code",
   "execution_count": null,
   "id": "bec501e8",
   "metadata": {},
   "outputs": [],
   "source": [
    "import matplotlib.pyplot as plt\n",
    "import numpy as np\n",
    "\n",
    "years=np.arange(1990, 2021)\n",
    "fig, ax1=plt.subplots()\n",
    "\n",
    "ax1.set_xlabel('Year')\n",
    "ax1.set_ylabel('Life expectancy at birth in Togo', color='tab:blue')\n",
    "ax1.plot(years, list_values_life_expectancy, color='tab:blue', label='Life expectancy at birth in Togo')\n",
    "ax1.tick_params(axis='y', labelcolor='tab:blue')\n",
    "\n",
    "plt.title('Life expectancy at birth in Togo')\n",
    "fig.tight_layout()\n",
    "plt.show()"
   ]
  },
  {
   "cell_type": "code",
   "execution_count": null,
   "id": "40d9457d",
   "metadata": {},
   "outputs": [],
   "source": [
    "list_values_CO2_emissions = []\n",
    "\n",
    "CO2_emissions=wb.data.DataFrame('EN.ATM.CO2E.PC', \n",
    "                    economy = countries, \n",
    "                    time = range(1990, 2021), numericTimeKeys = True,\n",
    "                    labels = True).set_index('Country')\n",
    "\n",
    "\n",
    "for (column_name, column_data) in CO2_emissions.items():\n",
    "\n",
    "    list_values_CO2_emissions.append(column_data.values)\n",
    "\n",
    "list_values_CO2_emissions\n"
   ]
  },
  {
   "cell_type": "code",
   "execution_count": null,
   "id": "c7d5a001",
   "metadata": {},
   "outputs": [],
   "source": [
    "import matplotlib.pyplot as plt\n",
    "import numpy as np\n",
    "\n",
    "years=np.arange(1990, 2021)\n",
    "fig, ax1=plt.subplots()\n",
    "\n",
    "ax1.set_xlabel('Year')\n",
    "ax1.set_ylabel('Émissions de CO2 (tonnes métriques par habitant', color='tab:blue')\n",
    "ax1.plot(years, list_values_CO2_emissions, color='tab:blue', label='Émissions de CO2 (tonnes métriques par habitant')\n",
    "ax1.tick_params(axis='y', labelcolor='tab:blue')\n",
    "\n",
    "plt.title('Émissions de CO2 (tonnes métriques par habitant')\n",
    "fig.tight_layout()\n",
    "plt.show()"
   ]
  },
  {
   "cell_type": "code",
   "execution_count": null,
   "id": "9989c9f8",
   "metadata": {},
   "outputs": [],
   "source": [
    "import matplotlib.pyplot as plt\n",
    "import numpy as np\n",
    "\n",
    "years=np.arange(1990, 2021)\n",
    "fig, ax1=plt.subplots()\n",
    "\n",
    "ax1.set_xlabel('Year')\n",
    "ax1.set_ylabel('GDP per capita', color='tab:blue')\n",
    "ax1.plot(years, list_values_gdp, color='tab:blue', label='GDP per cap')\n",
    "ax1.tick_params(axis='y', labelcolor='tab:blue')\n",
    "\n",
    "ax2=ax1.twinx()\n",
    "ax2.set_ylabel('Émissions de CO2 (tonnes métriques par habitant)', color='tab:red')\n",
    "ax2.plot(years, list_values_CO2_emissions, color='tab:red', label='CO2 emission')\n",
    "ax2.tick_params(axis='y', labelcolor='tab:red')\n",
    "\n",
    "plt.title('GDP and CO2')\n",
    "fig.tight_layout()\n",
    "plt.show()"
   ]
  },
  {
   "cell_type": "code",
   "execution_count": null,
   "id": "d5098ec8",
   "metadata": {},
   "outputs": [],
   "source": [
    "import matplotlib.pyplot as plt\n",
    "import numpy as np\n",
    "\n",
    "years=np.arange(1990, 2021)\n",
    "fig, ax1=plt.subplots()\n",
    "\n",
    "ax1.set_xlabel('Year')\n",
    "ax1.set_ylabel('GDP per capita', color='tab:blue')\n",
    "ax1.plot(years, list_values_gdp, color='tab:green', label='GDP per cap')\n",
    "ax1.tick_params(axis='y', labelcolor='tab:green')\n",
    "\n",
    "ax2=ax1.twinx()\n",
    "ax2.set_ylabel('Life expectancy', color='tab:red')\n",
    "ax2.plot(years, list_values_life_expectancy, color='tab:red', label='Life expectancy')\n",
    "ax2.tick_params(axis='y', labelcolor='tab:red')\n",
    "\n",
    "plt.title('GDP and Life expectancy')\n",
    "fig.tight_layout()\n",
    "plt.show()"
   ]
  },
  {
   "cell_type": "code",
   "execution_count": null,
   "id": "9324a61d",
   "metadata": {},
   "outputs": [],
   "source": [
    "import matplotlib.pyplot as plt\n",
    "import numpy as np\n",
    "\n",
    "years=np.arange(1990, 2021)\n",
    "fig, ax1=plt.subplots()\n",
    "\n",
    "ax1.set_xlabel('Year')\n",
    "ax1.set_ylabel('Life expectancy', color='tab:blue')\n",
    "ax1.plot(years, list_values_life_expectancy, color='tab:blue', label='GDP per cap')\n",
    "ax1.tick_params(axis='y', labelcolor='tab:blue')\n",
    "\n",
    "ax2=ax1.twinx()\n",
    "ax2.set_ylabel('Émissions de CO2 (tonnes métriques par habitant)', color='tab:red')\n",
    "ax2.plot(years, list_values_CO2_emissions, color='tab:green', label='Émissions de CO2')\n",
    "ax2.tick_params(axis='y', labelcolor='tab:red')\n",
    "\n",
    "plt.title('Life expectancy and Émissions de CO2')\n",
    "fig.tight_layout()\n",
    "plt.show()"
   ]
  },
  {
   "cell_type": "code",
   "execution_count": null,
   "id": "c3a4787e",
   "metadata": {},
   "outputs": [],
   "source": [
    "import matplotlib.pyplot as plt\n",
    "import numpy as np\n",
    "\n",
    "years=np.arange(1990, 2021)\n",
    "fig, ax1=plt.subplots(figsize=(12, 6))\n",
    "\n",
    "ax1.set_xlabel('Year')\n",
    "ax1.set_ylabel('GDP per capita', color='tab:green')\n",
    "ax1.plot(years, list_values_gdp, color='tab:green', label='GDP per cap')\n",
    "ax1.tick_params(axis='y', labelcolor='tab:green')\n",
    "\n",
    "ax2=ax1.twinx()\n",
    "ax2.set_xlabel('Year')\n",
    "ax2.set_ylabel('Life expectancy', color='tab:blue')\n",
    "ax2.plot(years, list_values_life_expectancy, color='tab:blue', label='GDP per cap')\n",
    "ax2.tick_params(axis='y', labelcolor='tab:blue')\n",
    "\n",
    "ax3=ax1.twinx()\n",
    "ax3.spines['right'].set_position(('outward', 60))\n",
    "ax3.set_ylabel('Émissions de CO2 (tonnes métriques par habitant)', color='tab:red')\n",
    "ax3.plot(years, list_values_CO2_emissions, color='tab:red', label='Émissions de CO2')\n",
    "ax3.tick_params(axis='y', labelcolor='tab:red')\n",
    "\n",
    "plt.title('GDP and CO2 and life expectancy')\n",
    "fig.tight_layout()\n",
    "plt.show()"
   ]
  },
  {
   "cell_type": "code",
   "execution_count": null,
   "id": "45630a87",
   "metadata": {},
   "outputs": [],
   "source": []
  },
  {
   "cell_type": "code",
   "execution_count": null,
   "id": "20bcb2b1",
   "metadata": {},
   "outputs": [],
   "source": [
    "#QUESTION 2 : Analyse Temporelle des Tendances Économiques\n",
    "\n",
    "# PIB par habitant, ($ PPA internationaux courants). NY.GDP.PCAP.PP.CD\n",
    "# Inflation, prix à la consommation (% annuel). FP.CPI.TOTL.ZG\n",
    "# Chômage (% de la population active) (estimation nationale). SL.UEM.TOTL.NE.ZS"
   ]
  },
  {
   "cell_type": "code",
   "execution_count": null,
   "id": "91d0916e",
   "metadata": {},
   "outputs": [],
   "source": [
    "PIB_indicator = wb.data.DataFrame('NY.GDP.PCAP.PP.CD', countries, range(1990, 2021))  # PIB par habitant, ($ PPA internationaux courants)\n",
    "\n",
    "PIB_indicator"
   ]
  },
  {
   "cell_type": "code",
   "execution_count": null,
   "id": "ab0dd765",
   "metadata": {},
   "outputs": [],
   "source": [
    "wb.data.DataFrame(['NY.GDP.PCAP.PP.CD'],\n",
    "                     countries,\n",
    "                      time=range(1990,2021,5)).plot.bar()"
   ]
  },
  {
   "cell_type": "code",
   "execution_count": null,
   "id": "7783cb83",
   "metadata": {},
   "outputs": [],
   "source": [
    "Inflation_indicator = wb.data.DataFrame('FP.CPI.TOTL.ZG', countries, range(1990, 2021))  # Inflation, prix à la consommation (% annuel). \n",
    "\n",
    "Inflation_indicator "
   ]
  },
  {
   "cell_type": "code",
   "execution_count": null,
   "id": "174dece5",
   "metadata": {},
   "outputs": [],
   "source": [
    "wb.data.DataFrame(['FP.CPI.TOTL.ZG'],\n",
    "                     countries,\n",
    "                      time=range(1990,2021,5)).plot.bar()"
   ]
  },
  {
   "cell_type": "code",
   "execution_count": null,
   "id": "c0e9a8a4",
   "metadata": {},
   "outputs": [],
   "source": [
    "Chomage_indicator = wb.data.DataFrame('SL.UEM.TOTL.NE.ZS', countries, range(1990, 2021))  # Chômage (% de la population active) (estimation nationale).\n",
    "\n",
    "Chomage_indicator  "
   ]
  },
  {
   "cell_type": "code",
   "execution_count": null,
   "id": "ec325a77",
   "metadata": {},
   "outputs": [],
   "source": [
    "wb.data.DataFrame(['SL.UEM.TOTL.NE.ZS'],\n",
    "                     countries,\n",
    "                      time=range(1990,2021)).plot.bar()"
   ]
  },
  {
   "cell_type": "code",
   "execution_count": null,
   "id": "44a2dc73",
   "metadata": {},
   "outputs": [],
   "source": [
    "list_values_PIB = []\n",
    "\n",
    "PIB=wb.data.DataFrame('NY.GDP.PCAP.PP.CD', \n",
    "                    economy = countries,\n",
    "                      \n",
    "                    time = range(1990, 2021), numericTimeKeys = True,\n",
    "                    labels = True).set_index('Country')\n",
    "\n",
    "for (column_name, column_data) in PIB.items():\n",
    "\n",
    "    list_values_PIB.append(column_data.values)\n",
    "    \n",
    "list_values_PIB "
   ]
  },
  {
   "cell_type": "code",
   "execution_count": null,
   "id": "101a9c7c",
   "metadata": {},
   "outputs": [],
   "source": [
    "list_values_Inflation = []\n",
    "\n",
    "Inflation=wb.data.DataFrame('FP.CPI.TOTL.ZG', \n",
    "                    economy = countries,\n",
    "                      \n",
    "                    time = range(1990, 2021), numericTimeKeys = True,\n",
    "                    labels = True).set_index('Country')\n",
    "\n",
    "for (column_name, column_data) in Inflation.items():\n",
    "\n",
    "    list_values_Inflation.append(column_data.values)\n",
    "    \n",
    "list_values_Inflation"
   ]
  },
  {
   "cell_type": "code",
   "execution_count": null,
   "id": "78424582",
   "metadata": {},
   "outputs": [],
   "source": [
    "\n",
    "list_values_Chomage = []\n",
    "\n",
    "Chomage=wb.data.DataFrame('SL.UEM.TOTL.NE.ZS', \n",
    "                    economy = countries,\n",
    "                      \n",
    "                    time = range(1990, 2021), numericTimeKeys = True,\n",
    "                    labels = True).set_index('Country')\n",
    "\n",
    "for (column_name, column_data) in Chomage.items():\n",
    "\n",
    "    list_values_Chomage.append(column_data.values)\n",
    "    \n",
    "list_values_Chomage \n",
    "\n",
    "# les données sur le chômage du Togo sont manquantes"
   ]
  },
  {
   "cell_type": "code",
   "execution_count": null,
   "id": "c5dc28ef",
   "metadata": {},
   "outputs": [],
   "source": [
    "import matplotlib.pyplot as plt\n",
    "import numpy as np\n",
    "\n",
    "years=np.arange(1990, 2021)\n",
    "fig, ax1=plt.subplots()\n",
    "\n",
    "ax1.set_xlabel('Year')\n",
    "ax1.set_ylabel('PIB par habitant, ($ PPA internationaux courants)', color='tab:blue')\n",
    "ax1.plot(years, list_values_PIB, color='tab:blue', label='PIB par habitant, ($ PPA internationaux courants)')\n",
    "ax1.tick_params(axis='y', labelcolor='tab:blue')\n",
    "\n",
    "plt.title('PIB par habitant, ($ PPA internationaux courants)')\n",
    "fig.tight_layout()\n",
    "plt.show()"
   ]
  },
  {
   "cell_type": "code",
   "execution_count": null,
   "id": "10258e9f",
   "metadata": {},
   "outputs": [],
   "source": [
    "import matplotlib.pyplot as plt\n",
    "import numpy as np\n",
    "\n",
    "years=np.arange(1990, 2021)\n",
    "fig, ax1=plt.subplots()\n",
    "\n",
    "ax1.set_xlabel('Year')\n",
    "ax1.set_ylabel('Inflation au Togo', color='tab:blue')\n",
    "ax1.plot(years, list_values_Inflation, color='tab:blue', label='Inflation au Togo')\n",
    "ax1.tick_params(axis='y', labelcolor='tab:blue')\n",
    "\n",
    "plt.title('Inflation au Togo')\n",
    "fig.tight_layout()\n",
    "plt.show()"
   ]
  },
  {
   "cell_type": "code",
   "execution_count": null,
   "id": "2922538b",
   "metadata": {},
   "outputs": [],
   "source": [
    "import matplotlib.pyplot as plt\n",
    "import numpy as np\n",
    "\n",
    "years=np.arange(1990, 2021)\n",
    "fig, ax1=plt.subplots(figsize=(12, 6))\n",
    "\n",
    "ax1.set_xlabel('Year')\n",
    "ax1.set_ylabel('PIB par habitant, ($ PPA internationaux courants)', color='tab:green')\n",
    "ax1.plot(years, list_values_PIB, color='tab:green', label='PIB par habitant, ($ PPA internationaux courants)')\n",
    "ax1.tick_params(axis='y', labelcolor='tab:green')\n",
    "\n",
    "ax2=ax1.twinx()\n",
    "ax2.set_xlabel('Year')\n",
    "ax2.set_ylabel('Inflation au Togo', color='tab:blue')\n",
    "ax2.plot(years, list_values_Inflation, color='tab:blue', label='Inflation au Togo')\n",
    "ax2.tick_params(axis='y', labelcolor='tab:blue')\n",
    "\n",
    "ax3=ax1.twinx()\n",
    "ax3.spines['right'].set_position(('outward', 40))\n",
    "ax3.set_ylabel('Chômage au Togo', color='tab:red')\n",
    "ax3.plot(years, list_values_Chomage, color='tab:red', label='Chômage au Togo')\n",
    "ax3.tick_params(axis='y', labelcolor='tab:red')\n",
    "\n",
    "plt.title('PIB par habitant et Inflation au Togo')\n",
    "fig.tight_layout()\n",
    "plt.show()"
   ]
  },
  {
   "cell_type": "code",
   "execution_count": null,
   "id": "e2f2cabf",
   "metadata": {},
   "outputs": [],
   "source": []
  },
  {
   "cell_type": "code",
   "execution_count": null,
   "id": "a64a51c6",
   "metadata": {},
   "outputs": [],
   "source": [
    "#QUESTION 3 : Analyse de Cluster\n",
    "\n",
    "# PIB par habitant. NY.GDP.PCAP.PP.KD\n",
    "# Pauvreté à $ 1,90 par jour (2011 PPA) (%). SI.POV.GAPS\n",
    "# Indice du capital humain, limite supérieure (échelle comprise entre 0 et 1). HD.HCI.OVRL.UB\n",
    "# Indice du capital humain, limite inférieure (échelle comprise entre 0 et 1). HD.HCI.OVRL.LB"
   ]
  },
  {
   "cell_type": "code",
   "execution_count": null,
   "id": "3e5f3f81",
   "metadata": {},
   "outputs": [],
   "source": []
  },
  {
   "cell_type": "code",
   "execution_count": null,
   "id": "204dff44",
   "metadata": {},
   "outputs": [],
   "source": [
    "PIB_HA = wb.data.DataFrame('NY.GDP.PCAP.PP.KD', countries, range(1990, 2021)) # PIB par habitant\n",
    "PIB_HA"
   ]
  },
  {
   "cell_type": "code",
   "execution_count": null,
   "id": "88a2519c",
   "metadata": {},
   "outputs": [],
   "source": [
    "Pauvrete_indic = wb.data.DataFrame('SI.POV.GAPS', countries, range(1990, 2021))  # Pauvreté à $ 1,90 par jour (2011 PPA) (%)\n",
    "Pauvrete_indic"
   ]
  },
  {
   "cell_type": "code",
   "execution_count": null,
   "id": "0a2160e8",
   "metadata": {},
   "outputs": [],
   "source": [
    "ICH_lim_sup_indicator = wb.data.DataFrame('HD.HCI.OVRL.UB', countries, range(1990, 2021))  # Indice du capital humain, limite supérieure (échelle comprise entre 0 et 1)\n",
    "ICH_lim_sup_indicator"
   ]
  },
  {
   "cell_type": "code",
   "execution_count": null,
   "id": "77853ddd",
   "metadata": {},
   "outputs": [],
   "source": [
    "ICH_lim_inf_indicator = wb.data.DataFrame('HD.HCI.OVRL.LB', countries, range(1990, 2021))  # Indice du capital humain, limite inférieure (échelle comprise entre 0 et 1)\n",
    "ICH_lim_inf_indicator"
   ]
  },
  {
   "cell_type": "code",
   "execution_count": null,
   "id": "cd0d53e7",
   "metadata": {},
   "outputs": [],
   "source": []
  },
  {
   "cell_type": "code",
   "execution_count": null,
   "id": "e11c2ed3",
   "metadata": {},
   "outputs": [],
   "source": [
    "wb.data.DataFrame(['NY.GDP.PCAP.PP.KD'],\n",
    "                     countries,\n",
    "                      time=range(1990,2021,5)).plot.bar() "
   ]
  },
  {
   "cell_type": "code",
   "execution_count": null,
   "id": "8f6b4f11",
   "metadata": {},
   "outputs": [],
   "source": [
    "wb.data.DataFrame(['SI.POV.GAPS'],\n",
    "                     countries,\n",
    "                      time=range(1990,2021,5)).plot.bar() "
   ]
  },
  {
   "cell_type": "code",
   "execution_count": null,
   "id": "78e74ff6",
   "metadata": {},
   "outputs": [],
   "source": [
    "wb.data.DataFrame(['HD.HCI.OVRL.UB'],\n",
    "                     countries,\n",
    "                      time=range(1990,2021,5)).plot.bar() "
   ]
  },
  {
   "cell_type": "code",
   "execution_count": null,
   "id": "820a70ff",
   "metadata": {},
   "outputs": [],
   "source": [
    "wb.data.DataFrame(['HD.HCI.OVRL.LB'],\n",
    "                     countries,\n",
    "                      time=range(1990,2021,5)).plot.bar() "
   ]
  },
  {
   "cell_type": "code",
   "execution_count": null,
   "id": "61172fa8",
   "metadata": {},
   "outputs": [],
   "source": []
  },
  {
   "cell_type": "code",
   "execution_count": null,
   "id": "5933bb45",
   "metadata": {},
   "outputs": [],
   "source": [
    "list_values_PIB_HA = []\n",
    "\n",
    "PIB_HA=wb.data.DataFrame('NY.GDP.PCAP.PP.KD', \n",
    "                    economy = countries,\n",
    "                      \n",
    "                    time = range(1990, 2021), numericTimeKeys = True,\n",
    "                    labels = True).set_index('Country')\n",
    "\n",
    "for (column_name, column_data) in PIB_HA.items():\n",
    "\n",
    "    list_values_PIB_HA.append(column_data.values)\n",
    "    \n",
    "list_values_PIB_HA    "
   ]
  },
  {
   "cell_type": "code",
   "execution_count": null,
   "id": "cdec6d48",
   "metadata": {},
   "outputs": [],
   "source": [
    "list_values_Pauvrete_indic = []\n",
    "\n",
    "Pauvrete_indic=wb.data.DataFrame('SI.POV.GAPS', \n",
    "                    economy = countries,\n",
    "                      \n",
    "                    time = range(1990, 2021), numericTimeKeys = True,\n",
    "                    labels = True).set_index('Country')\n",
    "\n",
    "for (column_name, column_data) in Pauvrete_indic.items():\n",
    "\n",
    "    list_values_Pauvrete_indic.append(column_data.values)\n",
    "    \n",
    "list_values_Pauvrete_indic  \n",
    "\n",
    "# Données manquantes"
   ]
  },
  {
   "cell_type": "code",
   "execution_count": null,
   "id": "d2cf861b",
   "metadata": {},
   "outputs": [],
   "source": [
    "list_values_ICH_lim_sup_indicator = []\n",
    "\n",
    "ICH_lim_sup_indicator=wb.data.DataFrame('HD.HCI.OVRL.UB', \n",
    "                    economy = countries,\n",
    "                      \n",
    "                    time = range(1990, 2021), numericTimeKeys = True,\n",
    "                    labels = True).set_index('Country')\n",
    "\n",
    "for (column_name, column_data) in ICH_lim_sup_indicator.items():\n",
    "\n",
    "    list_values_ICH_lim_sup_indicator.append(column_data.values)\n",
    "    \n",
    "list_values_ICH_lim_sup_indicator  # Données manquantes"
   ]
  },
  {
   "cell_type": "code",
   "execution_count": null,
   "id": "c339edff",
   "metadata": {},
   "outputs": [],
   "source": [
    "list_values_ICH_lim_inf_indicator = []\n",
    "\n",
    "ICH_lim_inf_indicator=wb.data.DataFrame('HD.HCI.OVRL.LB', \n",
    "                    economy = countries,\n",
    "                      \n",
    "                    time = range(1990, 2021), numericTimeKeys = True,\n",
    "                    labels = True).set_index('Country')\n",
    "\n",
    "for (column_name, column_data) in ICH_lim_inf_indicator.items():\n",
    "\n",
    "    list_values_ICH_lim_inf_indicator.append(column_data.values)\n",
    "    \n",
    "list_values_ICH_lim_inf_indicator  # Données manquantes"
   ]
  },
  {
   "cell_type": "code",
   "execution_count": null,
   "id": "8cc0d30c",
   "metadata": {},
   "outputs": [],
   "source": []
  },
  {
   "cell_type": "code",
   "execution_count": null,
   "id": "33900a82",
   "metadata": {},
   "outputs": [],
   "source": [
    "import matplotlib.pyplot as plt\n",
    "import numpy as np\n",
    "\n",
    "years=np.arange(1990, 2021)\n",
    "fig, ax1=plt.subplots()\n",
    "\n",
    "ax1.set_xlabel('Year')\n",
    "ax1.set_ylabel('GDP per capita', color='tab:blue')\n",
    "ax1.plot(years, list_values_PIB_HA, color='tab:blue', label='GDP per cap')\n",
    "ax1.tick_params(axis='y', labelcolor='tab:blue')\n",
    "\n",
    "plt.title('GDP per capita')\n",
    "fig.tight_layout()\n",
    "plt.show()"
   ]
  },
  {
   "cell_type": "code",
   "execution_count": null,
   "id": "0d8fea4b",
   "metadata": {},
   "outputs": [],
   "source": [
    "import matplotlib.pyplot as plt\n",
    "import numpy as np\n",
    "\n",
    "years=np.arange(1990, 2021)\n",
    "fig, ax1=plt.subplots()\n",
    "\n",
    "ax1.set_xlabel('Year')\n",
    "ax1.set_ylabel('Indice de pauvreté', color='tab:blue')\n",
    "ax1.plot(years, list_values_Pauvrete_indic , color='tab:blue', label='Indice de pauvreté')\n",
    "ax1.tick_params(axis='y', labelcolor='tab:blue')\n",
    "\n",
    "plt.title('Indice de pauvreté')\n",
    "fig.tight_layout()\n",
    "plt.show()"
   ]
  },
  {
   "cell_type": "code",
   "execution_count": null,
   "id": "29802f0b",
   "metadata": {},
   "outputs": [],
   "source": [
    "import matplotlib.pyplot as plt\n",
    "import numpy as np\n",
    "\n",
    "years=np.arange(1990, 2021)\n",
    "fig, ax1=plt.subplots()\n",
    "\n",
    "ax1.set_xlabel('Year')\n",
    "ax1.set_ylabel('ICH limite supérieure', color='tab:blue')\n",
    "ax1.plot(years, list_values_ICH_lim_sup_indicator, color='tab:blue', label='ICH limite supérieure')\n",
    "ax1.tick_params(axis='y', labelcolor='tab:blue')\n",
    "\n",
    "plt.title('ICH limite supérieure')\n",
    "fig.tight_layout()\n",
    "plt.show()"
   ]
  },
  {
   "cell_type": "code",
   "execution_count": null,
   "id": "3dfc0097",
   "metadata": {},
   "outputs": [],
   "source": [
    "import matplotlib.pyplot as plt\n",
    "import numpy as np\n",
    "\n",
    "years=np.arange(1990, 2021)\n",
    "fig, ax1=plt.subplots()\n",
    "\n",
    "ax1.set_xlabel('Year')\n",
    "ax1.set_ylabel('ICH limite inférieure', color='tab:blue')\n",
    "ax1.plot(years, list_values_ICH_lim_inf_indicator, color='tab:blue', label='ICH limite inférieure')\n",
    "ax1.tick_params(axis='y', labelcolor='tab:blue')\n",
    "\n",
    "plt.title('ICH limite inférieure')\n",
    "fig.tight_layout()\n",
    "plt.show()"
   ]
  },
  {
   "cell_type": "code",
   "execution_count": null,
   "id": "053aa28c",
   "metadata": {},
   "outputs": [],
   "source": []
  },
  {
   "cell_type": "code",
   "execution_count": null,
   "id": "cc08b22c",
   "metadata": {},
   "outputs": [],
   "source": [
    "import matplotlib.pyplot as plt\n",
    "import numpy as np\n",
    "\n",
    "years=np.arange(1990, 2021)\n",
    "fig, ax1=plt.subplots(figsize=(12, 6))\n",
    "\n",
    "ax1.set_xlabel('Year')\n",
    "ax1.set_ylabel('GDP per capita', color='tab:green')\n",
    "ax1.plot(years, list_values_gdp, color='tab:green', label='GDP per cap')\n",
    "ax1.tick_params(axis='y', labelcolor='tab:green')\n",
    "\n",
    "ax2=ax1.twinx()\n",
    "ax2.set_xlabel('Year')\n",
    "ax2.set_ylabel('ICH limite supérieure', color='tab:blue')\n",
    "ax2.plot(years, list_values_ICH_lim_sup_indicator, color='tab:blue', label='ICH limite supérieure')\n",
    "ax2.tick_params(axis='y', labelcolor='tab:blue')\n",
    "\n",
    "ax3=ax1.twinx()\n",
    "ax3.spines['right'].set_position(('outward', 60))\n",
    "ax3.set_ylabel('ICH limite inférieure', color='tab:red')\n",
    "ax3.plot(years, list_values_ICH_lim_inf_indicator, color='tab:red', label='ICH limite inférieure')\n",
    "ax3.tick_params(axis='y', labelcolor='tab:red')\n",
    "\n",
    "plt.title('GDP et ICH au Togo')\n",
    "fig.tight_layout()\n",
    "plt.show()"
   ]
  },
  {
   "cell_type": "code",
   "execution_count": null,
   "id": "51cf6adf",
   "metadata": {},
   "outputs": [],
   "source": []
  },
  {
   "cell_type": "code",
   "execution_count": null,
   "id": "f50f8c82",
   "metadata": {},
   "outputs": [],
   "source": []
  },
  {
   "cell_type": "code",
   "execution_count": null,
   "id": "fdc113eb",
   "metadata": {},
   "outputs": [],
   "source": [
    "###QUESTION 4 : Prédictions des Tendances Futures\n",
    "\n",
    "# Agriculture, valeur ajoutée (% de croissance annuelle). NV.AGR.TOTL.KD.ZG\n",
    "\n",
    "# Industrie, valeur ajoutée (en $ US actuels). NV.IND.TOTL.CD\n",
    "# Industrie, valeur ajoutée (% du PIB). NV.IND.TOTL.ZS\n",
    "\n",
    "# Industrie, valeur ajoutée (% de croissance annuelle). NV.IND.TOTL.KD.ZG\n",
    "\n",
    "# Inflation, prix à la consommation (% annuel). FP.CPI.TOTL.ZG\n"
   ]
  },
  {
   "cell_type": "code",
   "execution_count": null,
   "id": "7932368d",
   "metadata": {},
   "outputs": [],
   "source": [
    "Agriculture = wb.data.DataFrame('NV.AGR.TOTL.KD.ZG', countries, range(1990, 2021)) # PIB par habitant\n",
    "Agriculture"
   ]
  },
  {
   "cell_type": "code",
   "execution_count": null,
   "id": "9c9a4efa",
   "metadata": {},
   "outputs": [],
   "source": [
    "Industrie_actu = wb.data.DataFrame('NV.IND.TOTL.CD', countries, range(1990, 2021)) # PIB par habitant\n",
    "Industrie_actu"
   ]
  },
  {
   "cell_type": "code",
   "execution_count": null,
   "id": "97a34b52",
   "metadata": {},
   "outputs": [],
   "source": [
    "Industrie_PIB = wb.data.DataFrame('NV.IND.TOTL.ZS', countries, range(1990, 2021)) # PIB par habitant\n",
    "Industrie_PIB"
   ]
  },
  {
   "cell_type": "code",
   "execution_count": null,
   "id": "5d1f1cd7",
   "metadata": {},
   "outputs": [],
   "source": [
    "Industrie_croissance_annuelle = wb.data.DataFrame('NV.IND.TOTL.KD.ZG', countries, range(1990, 2021)) # PIB par habitant\n",
    "Industrie_croissance_annuelle"
   ]
  },
  {
   "cell_type": "code",
   "execution_count": null,
   "id": "f228eb6b",
   "metadata": {},
   "outputs": [],
   "source": [
    "Inflation_conso = wb.data.DataFrame('FP.CPI.TOTL.ZG', countries, range(1990, 2021)) # PIB par habitant\n",
    "Inflation_conso"
   ]
  },
  {
   "cell_type": "code",
   "execution_count": null,
   "id": "20aeb450",
   "metadata": {},
   "outputs": [],
   "source": []
  },
  {
   "cell_type": "code",
   "execution_count": null,
   "id": "338a4dd9",
   "metadata": {},
   "outputs": [],
   "source": [
    "wb.data.DataFrame(['NV.AGR.TOTL.KD.ZG'],\n",
    "                     countries,\n",
    "                      time=range(1990,2021,5)).plot.bar() "
   ]
  },
  {
   "cell_type": "code",
   "execution_count": null,
   "id": "06033b53",
   "metadata": {},
   "outputs": [],
   "source": [
    "wb.data.DataFrame(['NV.IND.TOTL.CD'],\n",
    "                     countries,\n",
    "                      time=range(1990,2021,5)).plot.bar() "
   ]
  },
  {
   "cell_type": "code",
   "execution_count": null,
   "id": "0f4580b4",
   "metadata": {},
   "outputs": [],
   "source": [
    "wb.data.DataFrame(['NV.IND.TOTL.ZS'],\n",
    "                     countries,\n",
    "                      time=range(1990,2021,5)).plot.bar() "
   ]
  },
  {
   "cell_type": "code",
   "execution_count": null,
   "id": "cd82c257",
   "metadata": {},
   "outputs": [],
   "source": [
    "wb.data.DataFrame(['NV.IND.TOTL.KD.ZG'],\n",
    "                     countries,\n",
    "                      time=range(1990,2021,5)).plot.bar() "
   ]
  },
  {
   "cell_type": "code",
   "execution_count": null,
   "id": "42809e02",
   "metadata": {},
   "outputs": [],
   "source": [
    "wb.data.DataFrame(['FP.CPI.TOTL.ZG'],\n",
    "                     countries,\n",
    "                      time=range(1990,2021,5)).plot.bar() "
   ]
  },
  {
   "cell_type": "code",
   "execution_count": null,
   "id": "0d8567bd",
   "metadata": {},
   "outputs": [],
   "source": []
  },
  {
   "cell_type": "code",
   "execution_count": null,
   "id": "782a2488",
   "metadata": {},
   "outputs": [],
   "source": [
    "list_values_Agriculture = []\n",
    "\n",
    "Agriculture=wb.data.DataFrame('NV.AGR.TOTL.KD.ZG', \n",
    "                    economy = countries,\n",
    "                      \n",
    "                    time = range(1990, 2021), numericTimeKeys = True,\n",
    "                    labels = True).set_index('Country')\n",
    "\n",
    "for (column_name, column_data) in Agriculture.items():\n",
    "\n",
    "    list_values_Agriculture.append(column_data.values)\n",
    "    \n",
    "list_values_Agriculture "
   ]
  },
  {
   "cell_type": "code",
   "execution_count": null,
   "id": "4023cbcd",
   "metadata": {},
   "outputs": [],
   "source": [
    "import matplotlib.pyplot as plt\n",
    "import numpy as np\n",
    "\n",
    "years=np.arange(1990, 2021)\n",
    "fig, ax1=plt.subplots()\n",
    "\n",
    "ax1.set_xlabel('Year')\n",
    "ax1.set_ylabel('Agriculture, valeur ajoutée (% de croissance annuelle)', color='tab:blue')\n",
    "ax1.plot(years, list_values_Agriculture, color='tab:blue', label='Agriculture, valeur ajoutée (% de croissance annuelle)')\n",
    "ax1.tick_params(axis='y', labelcolor='tab:blue')\n",
    "\n",
    "plt.title('Agriculture, valeur ajoutée (% de croissance annuelle)')\n",
    "fig.tight_layout()\n",
    "plt.show()"
   ]
  },
  {
   "cell_type": "code",
   "execution_count": null,
   "id": "7a2b0d70",
   "metadata": {},
   "outputs": [],
   "source": [
    "list_values_Industrie_actu = []\n",
    "\n",
    "Industrie_actu=wb.data.DataFrame('NV.IND.TOTL.CD', \n",
    "                    economy = countries,\n",
    "                      \n",
    "                    time = range(1990, 2021), numericTimeKeys = True,\n",
    "                    labels = True).set_index('Country')\n",
    "\n",
    "for (column_name, column_data) in Industrie_actu.items():\n",
    "\n",
    "    list_values_Industrie_actu.append(column_data.values)\n",
    "    \n",
    "list_values_Industrie_actu "
   ]
  },
  {
   "cell_type": "code",
   "execution_count": null,
   "id": "82050148",
   "metadata": {},
   "outputs": [],
   "source": [
    "import matplotlib.pyplot as plt\n",
    "import numpy as np\n",
    "\n",
    "years=np.arange(1990, 2021)\n",
    "fig, ax1=plt.subplots()\n",
    "\n",
    "ax1.set_xlabel('Year')\n",
    "ax1.set_ylabel('Industrie, valeur ajoutée (en $ US actuels)', color='tab:blue')\n",
    "ax1.plot(years, list_values_Industrie_actu, color='tab:blue', label='Industrie, valeur ajoutée (en $ US actuels)')\n",
    "ax1.tick_params(axis='y', labelcolor='tab:blue')\n",
    "\n",
    "plt.title('Industrie, valeur ajoutée (en $ US actuels)')\n",
    "fig.tight_layout()\n",
    "plt.show()"
   ]
  },
  {
   "cell_type": "code",
   "execution_count": null,
   "id": "19e949df",
   "metadata": {},
   "outputs": [],
   "source": [
    "list_values_Industrie_PIB = []\n",
    "\n",
    "gdp=wb.data.DataFrame('NV.IND.TOTL.ZS', \n",
    "                    economy = countries,\n",
    "                      \n",
    "                    time = range(1990, 2021), numericTimeKeys = True,\n",
    "                    labels = True).set_index('Country')\n",
    "\n",
    "for (column_name, column_data) in Industrie_PIB.items():\n",
    "\n",
    "    list_values_Industrie_PIB.append(column_data.values)\n",
    "    \n",
    "list_values_Industrie_PIB "
   ]
  },
  {
   "cell_type": "code",
   "execution_count": null,
   "id": "3ea8462e",
   "metadata": {},
   "outputs": [],
   "source": [
    "import matplotlib.pyplot as plt\n",
    "import numpy as np\n",
    "\n",
    "years=np.arange(1990, 2021)\n",
    "fig, ax1=plt.subplots()\n",
    "\n",
    "ax1.set_xlabel('Year')\n",
    "ax1.set_ylabel('Industrie, valeur ajoutée (% du PIB)', color='tab:blue')\n",
    "ax1.plot(years, list_values_Industrie_PIB, color='tab:blue', label='Industrie, valeur ajoutée (% du PIB)')\n",
    "ax1.tick_params(axis='y', labelcolor='tab:blue')\n",
    "\n",
    "plt.title('Industrie, valeur ajoutée (% du PIB)')\n",
    "fig.tight_layout()\n",
    "plt.show()"
   ]
  },
  {
   "cell_type": "code",
   "execution_count": null,
   "id": "a8c24d86",
   "metadata": {},
   "outputs": [],
   "source": [
    "list_values_Industrie_croissance_annuelle = []\n",
    "\n",
    "Industrie_croissance_annuelle=wb.data.DataFrame('NV.IND.TOTL.KD.ZG', \n",
    "                    economy = countries,\n",
    "                      \n",
    "                    time = range(1990, 2021), numericTimeKeys = True,\n",
    "                    labels = True).set_index('Country')\n",
    "\n",
    "for (column_name, column_data) in Industrie_croissance_annuelle.items():\n",
    "\n",
    "    list_values_Industrie_croissance_annuelle.append(column_data.values)\n",
    "    \n",
    "list_values_Industrie_croissance_annuelle "
   ]
  },
  {
   "cell_type": "code",
   "execution_count": null,
   "id": "d0d16d04",
   "metadata": {},
   "outputs": [],
   "source": [
    "import matplotlib.pyplot as plt\n",
    "import numpy as np\n",
    "\n",
    "years=np.arange(1990, 2021)\n",
    "fig, ax1=plt.subplots()\n",
    "\n",
    "ax1.set_xlabel('Year')\n",
    "ax1.set_ylabel('Industrie, valeur ajoutée (% de croissance annuelle)', color='tab:blue')\n",
    "ax1.plot(years, list_values_Industrie_croissance_annuelle, color='tab:blue', label='Industrie, valeur ajoutée (% de croissance annuelle)')\n",
    "ax1.tick_params(axis='y', labelcolor='tab:blue')\n",
    "\n",
    "plt.title('Industrie, valeur ajoutée (% de croissance annuelle)')\n",
    "fig.tight_layout()\n",
    "plt.show()"
   ]
  },
  {
   "cell_type": "code",
   "execution_count": null,
   "id": "711a1536",
   "metadata": {},
   "outputs": [],
   "source": [
    "list_values_Inflation_conso = []\n",
    "\n",
    "Inflation_conso=wb.data.DataFrame('FP.CPI.TOTL.ZG', \n",
    "                    economy = countries,\n",
    "                      \n",
    "                    time = range(1990, 2021), numericTimeKeys = True,\n",
    "                    labels = True).set_index('Country')\n",
    "\n",
    "for (column_name, column_data) in Inflation_conso.items():\n",
    "\n",
    "    list_values_Inflation_conso.append(column_data.values)\n",
    "    \n",
    "list_values_Inflation_conso "
   ]
  },
  {
   "cell_type": "code",
   "execution_count": null,
   "id": "55348273",
   "metadata": {},
   "outputs": [],
   "source": [
    "import matplotlib.pyplot as plt\n",
    "import numpy as np\n",
    "\n",
    "years=np.arange(1990, 2021)\n",
    "fig, ax1=plt.subplots()\n",
    "\n",
    "ax1.set_xlabel('Year')\n",
    "ax1.set_ylabel('Inflation, prix à la consommation (% annuel)', color='tab:blue')\n",
    "ax1.plot(years, list_values_Inflation_conso, color='tab:blue', label='Inflation, prix à la consommation (% annuel)')\n",
    "ax1.tick_params(axis='y', labelcolor='tab:blue')\n",
    "\n",
    "plt.title('Inflation, prix à la consommation (% annuel)')\n",
    "fig.tight_layout()\n",
    "plt.show()"
   ]
  },
  {
   "cell_type": "code",
   "execution_count": null,
   "id": "aab9c84d",
   "metadata": {},
   "outputs": [],
   "source": [
    "import matplotlib.pyplot as plt\n",
    "import numpy as np\n",
    "\n",
    "years=np.arange(1990, 2021)\n",
    "fig, ax1=plt.subplots(figsize=(12, 6))\n",
    "\n",
    "ax1.set_xlabel('Year')\n",
    "ax1.set_ylabel('Agriculture, valeur ajoutée', color='tab:green')\n",
    "ax1.plot(years, list_values_Agriculture, color='tab:green', label='Agriculture')\n",
    "ax1.tick_params(axis='y', labelcolor='tab:green')\n",
    "\n",
    "ax2=ax1.twinx()\n",
    "ax2.set_xlabel('Year')\n",
    "ax2.set_ylabel('Industrie, valeur ajoutée (en $ US actuels)', color='tab:blue')\n",
    "ax2.plot(years, list_values_Industrie_actu, color='tab:blue', label='Industrie, valeur ajoutée (en $ US actuels)')\n",
    "ax2.tick_params(axis='y', labelcolor='tab:blue')\n",
    "\n",
    "ax3=ax1.twinx()\n",
    "ax3.spines['right'].set_position(('outward', 40))\n",
    "ax3.set_ylabel('Industrie, valeur ajoutée (% du PIB)', color='tab:red')\n",
    "ax3.plot(years, list_values_Industrie_PIB, color='tab:red', label='Industrie, valeur ajoutée (% du PIB)')\n",
    "ax3.tick_params(axis='y', labelcolor='tab:red')\n",
    "\n",
    "ax4=ax1.twinx()\n",
    "ax4.spines['right'].set_position(('outward', 60))\n",
    "ax4.set_ylabel('Industrie, valeur ajoutée (% de croissance annuelle)', color='tab:cyan')\n",
    "ax4.plot(years, list_values_Industrie_croissance_annuelle, color='tab:cyan', label='Industrie, valeur ajoutée (% de croissance annuelle)')\n",
    "ax4.tick_params(axis='y', labelcolor='tab:cyan')\n",
    "\n",
    "ax5=ax1.twinx()\n",
    "ax5.spines['right'].set_position(('outward', 80))\n",
    "ax5.set_ylabel('Inflation, prix à la consommation (% annuel)', color='tab:gray')\n",
    "ax5.plot(years, list_values_Inflation_conso, color='tab:gray', label='Inflation, prix à la consommation (% annuel)')\n",
    "ax5.tick_params(axis='y', labelcolor='tab:gray')\n",
    "\n",
    "plt.title('Agriculture, Industrie et inflation au Togo')\n",
    "fig.tight_layout()\n",
    "plt.show()"
   ]
  },
  {
   "cell_type": "code",
   "execution_count": null,
   "id": "3ac4793d",
   "metadata": {},
   "outputs": [],
   "source": []
  },
  {
   "cell_type": "code",
   "execution_count": null,
   "id": "b790054a",
   "metadata": {},
   "outputs": [],
   "source": [
    "\n",
    "# Migration nette. SM.POP.NETM\n",
    "# Population urbaine (% du total). SP.URB.TOTL.IN.ZS\n",
    "# Croissance de la population rurale (% annuel). SP.RUR.TOTL.ZG\n",
    "# Population, total. SP.POP.TOTL\n",
    "# Croissance de la population (% annuel). SP.POP.GROW\n",
    "# Croissance de la population urbaine (% annuel). SP.URB.GROW"
   ]
  },
  {
   "cell_type": "code",
   "execution_count": null,
   "id": "786e3502",
   "metadata": {},
   "outputs": [],
   "source": [
    "Migration_nette = wb.data.DataFrame('SM.POP.NETM', countries, range(1990, 2021)) \n",
    "Migration_nette"
   ]
  },
  {
   "cell_type": "code",
   "execution_count": null,
   "id": "487a68cf",
   "metadata": {},
   "outputs": [],
   "source": [
    "Population_urbaine = wb.data.DataFrame('SP.URB.TOTL.IN.ZS', countries, range(1990, 2021)) \n",
    "Population_urbaine"
   ]
  },
  {
   "cell_type": "code",
   "execution_count": null,
   "id": "d28f6652",
   "metadata": {},
   "outputs": [],
   "source": [
    "Croissance_pop_rurale = wb.data.DataFrame('SP.RUR.TOTL.ZG', countries, range(1990, 2021)) \n",
    "Croissance_pop_rurale"
   ]
  },
  {
   "cell_type": "code",
   "execution_count": null,
   "id": "15bbdca6",
   "metadata": {},
   "outputs": [],
   "source": [
    "Population_total = wb.data.DataFrame('SP.POP.TOTL', countries, range(1990, 2021)) # PIB par habitant\n",
    "Population_total"
   ]
  },
  {
   "cell_type": "code",
   "execution_count": null,
   "id": "4926d4c4",
   "metadata": {},
   "outputs": [],
   "source": [
    "Croissance_population = wb.data.DataFrame('SP.POP.GROW', countries, range(1990, 2021))\n",
    "Croissance_population"
   ]
  },
  {
   "cell_type": "code",
   "execution_count": null,
   "id": "3fa14240",
   "metadata": {},
   "outputs": [],
   "source": [
    "Croissance_population_urbaine = wb.data.DataFrame('SP.URB.GROW', countries, range(1990, 2021))\n",
    "Croissance_population_urbaine"
   ]
  },
  {
   "cell_type": "code",
   "execution_count": null,
   "id": "630bedeb",
   "metadata": {},
   "outputs": [],
   "source": []
  },
  {
   "cell_type": "code",
   "execution_count": null,
   "id": "05581bc4",
   "metadata": {},
   "outputs": [],
   "source": []
  },
  {
   "cell_type": "code",
   "execution_count": null,
   "id": "73bdd198",
   "metadata": {},
   "outputs": [],
   "source": [
    "wb.data.DataFrame(['SM.POP.NETM'],\n",
    "                     countries,\n",
    "                      time=range(1990,2021,5)).plot.bar() "
   ]
  },
  {
   "cell_type": "code",
   "execution_count": null,
   "id": "a3e1268a",
   "metadata": {},
   "outputs": [],
   "source": [
    "wb.data.DataFrame(['SP.URB.TOTL.IN.ZS'],\n",
    "                     countries,\n",
    "                      time=range(1990,2021,5)).plot.bar() "
   ]
  },
  {
   "cell_type": "code",
   "execution_count": null,
   "id": "23e08238",
   "metadata": {},
   "outputs": [],
   "source": [
    "wb.data.DataFrame(['SP.RUR.TOTL.ZG'],\n",
    "                     countries,\n",
    "                      time=range(1990,2021,5)).plot.bar() "
   ]
  },
  {
   "cell_type": "code",
   "execution_count": null,
   "id": "256b54f9",
   "metadata": {},
   "outputs": [],
   "source": [
    "wb.data.DataFrame(['SP.POP.TOTL'],\n",
    "                     countries,\n",
    "                      time=range(1990,2021,5)).plot.bar() "
   ]
  },
  {
   "cell_type": "code",
   "execution_count": null,
   "id": "96b7771d",
   "metadata": {},
   "outputs": [],
   "source": [
    "wb.data.DataFrame(['SP.POP.GROW'],\n",
    "                     countries,\n",
    "                      time=range(1990,2021,5)).plot.bar() "
   ]
  },
  {
   "cell_type": "code",
   "execution_count": null,
   "id": "f0e0231a",
   "metadata": {},
   "outputs": [],
   "source": [
    "wb.data.DataFrame(['SP.URB.GROW'],\n",
    "                     countries,\n",
    "                      time=range(1990,2021,5)).plot.bar() "
   ]
  },
  {
   "cell_type": "code",
   "execution_count": null,
   "id": "47c5a74e",
   "metadata": {},
   "outputs": [],
   "source": []
  },
  {
   "cell_type": "code",
   "execution_count": null,
   "id": "6705ce20",
   "metadata": {},
   "outputs": [],
   "source": [
    "list_values_Migration_nette = []\n",
    "\n",
    "Migration_nette=wb.data.DataFrame('SM.POP.NETM', \n",
    "                    economy = countries,\n",
    "                      \n",
    "                    time = range(1990, 2021), numericTimeKeys = True,\n",
    "                    labels = True).set_index('Country')\n",
    "\n",
    "for (column_name, column_data) in Migration_nette.items():\n",
    "\n",
    "    list_values_Migration_nette.append(column_data.values)\n",
    "    \n",
    "list_values_Migration_nette "
   ]
  },
  {
   "cell_type": "code",
   "execution_count": null,
   "id": "f74f236c",
   "metadata": {},
   "outputs": [],
   "source": [
    "list_values_Population_urbaine = []\n",
    "\n",
    "Population_urbaine=wb.data.DataFrame('SP.URB.TOTL.IN.ZS', \n",
    "                    economy = countries,\n",
    "                      \n",
    "                    time = range(1990, 2021), numericTimeKeys = True,\n",
    "                    labels = True).set_index('Country')\n",
    "\n",
    "for (column_name, column_data) in Population_urbaine.items():\n",
    "\n",
    "    list_values_Population_urbaine.append(column_data.values)\n",
    "    \n",
    "list_values_Population_urbaine "
   ]
  },
  {
   "cell_type": "code",
   "execution_count": null,
   "id": "acb8b5d4",
   "metadata": {},
   "outputs": [],
   "source": [
    "list_values_Croissance_pop_rurale = []\n",
    "\n",
    "Croissance_pop_rurale=wb.data.DataFrame('SP.RUR.TOTL.ZG', \n",
    "                    economy = countries,\n",
    "                      \n",
    "                    time = range(1990, 2021), numericTimeKeys = True,\n",
    "                    labels = True).set_index('Country')\n",
    "\n",
    "for (column_name, column_data) in Croissance_pop_rurale.items():\n",
    "\n",
    "    list_values_Croissance_pop_rurale.append(column_data.values)\n",
    "    \n",
    "list_values_Croissance_pop_rurale "
   ]
  },
  {
   "cell_type": "code",
   "execution_count": null,
   "id": "ff211e84",
   "metadata": {},
   "outputs": [],
   "source": [
    "list_values_Population_total = []\n",
    "\n",
    "Population_total=wb.data.DataFrame('SP.POP.TOTL', \n",
    "                    economy = countries,\n",
    "                      \n",
    "                    time = range(1990, 2021), numericTimeKeys = True,\n",
    "                    labels = True).set_index('Country')\n",
    "\n",
    "for (column_name, column_data) in Population_total.items():\n",
    "\n",
    "    list_values_Population_total.append(column_data.values)\n",
    "    \n",
    "list_values_Population_total"
   ]
  },
  {
   "cell_type": "code",
   "execution_count": null,
   "id": "ac653c05",
   "metadata": {
    "scrolled": true
   },
   "outputs": [],
   "source": [
    "list_values_Croissance_population_urbaine = []\n",
    "\n",
    "Croissance_population_urbaine=wb.data.DataFrame('SP.URB.GROW', \n",
    "                    economy = countries,\n",
    "                      \n",
    "                    time = range(1990, 2021), numericTimeKeys = True,\n",
    "                    labels = True).set_index('Country')\n",
    "\n",
    "for (column_name, column_data) in Croissance_population_urbaine.items():\n",
    "\n",
    "    list_values_Croissance_population_urbaine.append(column_data.values)\n",
    "    \n",
    "list_values_Croissance_population_urbaine "
   ]
  },
  {
   "cell_type": "code",
   "execution_count": null,
   "id": "501a84d2",
   "metadata": {},
   "outputs": [],
   "source": [
    "list_values_Croissance_population = []\n",
    "\n",
    "Croissance_population=wb.data.DataFrame('SP.POP.GROW', \n",
    "                    economy = countries,\n",
    "                      \n",
    "                    time = range(1990, 2021), numericTimeKeys = True,\n",
    "                    labels = True).set_index('Country')\n",
    "\n",
    "for (column_name, column_data) in Croissance_population.items():\n",
    "\n",
    "    list_values_Croissance_population.append(column_data.values)\n",
    "    \n",
    "list_values_Croissance_population "
   ]
  },
  {
   "cell_type": "code",
   "execution_count": null,
   "id": "272decf9",
   "metadata": {},
   "outputs": [],
   "source": []
  },
  {
   "cell_type": "code",
   "execution_count": null,
   "id": "88adcc94",
   "metadata": {},
   "outputs": [],
   "source": [
    "import matplotlib.pyplot as plt\n",
    "import numpy as np\n",
    "\n",
    "years=np.arange(1990, 2021)\n",
    "fig, ax1=plt.subplots()\n",
    "\n",
    "ax1.set_xlabel('Year')\n",
    "ax1.set_ylabel('Migration nette', color='tab:blue')\n",
    "ax1.plot(years, list_values_Migration_nette, color='tab:blue', label='Migration nette')\n",
    "ax1.tick_params(axis='y', labelcolor='tab:blue')\n",
    "\n",
    "plt.title('Migration nette')\n",
    "fig.tight_layout()\n",
    "plt.show()"
   ]
  },
  {
   "cell_type": "code",
   "execution_count": null,
   "id": "8544061f",
   "metadata": {},
   "outputs": [],
   "source": [
    "import matplotlib.pyplot as plt\n",
    "import numpy as np\n",
    "\n",
    "years=np.arange(1990, 2021)\n",
    "fig, ax1=plt.subplots()\n",
    "\n",
    "ax1.set_xlabel('Year')\n",
    "ax1.set_ylabel('Population urbaine (% du total)', color='tab:blue')\n",
    "ax1.plot(years, list_values_Population_urbaine, color='tab:blue', label='Population urbaine (% du total)')\n",
    "ax1.tick_params(axis='y', labelcolor='tab:blue')\n",
    "\n",
    "plt.title('Population urbaine (% du total)')\n",
    "fig.tight_layout()\n",
    "plt.show()"
   ]
  },
  {
   "cell_type": "code",
   "execution_count": null,
   "id": "6762a285",
   "metadata": {},
   "outputs": [],
   "source": [
    "import matplotlib.pyplot as plt\n",
    "import numpy as np\n",
    "\n",
    "years=np.arange(1990, 2021)\n",
    "fig, ax1=plt.subplots()\n",
    "\n",
    "ax1.set_xlabel('Year')\n",
    "ax1.set_ylabel('Croissance de la population rurale (% annuel)', color='tab:blue')\n",
    "ax1.plot(years, list_values_Croissance_pop_rurale, color='tab:blue', label='Croissance de la population rurale (% annuel)')\n",
    "ax1.tick_params(axis='y', labelcolor='tab:blue')\n",
    "\n",
    "plt.title('Croissance de la population rurale (% annuel)')\n",
    "fig.tight_layout()\n",
    "plt.show()"
   ]
  },
  {
   "cell_type": "code",
   "execution_count": null,
   "id": "7de83931",
   "metadata": {},
   "outputs": [],
   "source": [
    "import matplotlib.pyplot as plt\n",
    "import numpy as np\n",
    "\n",
    "years=np.arange(1990, 2021)\n",
    "fig, ax1=plt.subplots()\n",
    "\n",
    "ax1.set_xlabel('Year')\n",
    "ax1.set_ylabel('Population, total', color='tab:blue')\n",
    "ax1.plot(years, list_values_Population_total, color='tab:blue', label='Population, total')\n",
    "ax1.tick_params(axis='y', labelcolor='tab:blue')\n",
    "\n",
    "plt.title('Population, total')\n",
    "fig.tight_layout()\n",
    "plt.show()"
   ]
  },
  {
   "cell_type": "code",
   "execution_count": null,
   "id": "2c119c56",
   "metadata": {},
   "outputs": [],
   "source": [
    "import matplotlib.pyplot as plt\n",
    "import numpy as np\n",
    "\n",
    "years=np.arange(1990, 2021)\n",
    "fig, ax1=plt.subplots()\n",
    "\n",
    "ax1.set_xlabel('Year')\n",
    "ax1.set_ylabel('Croissance de la population (% annuel)', color='tab:blue')\n",
    "ax1.plot(years, list_values_Croissance_population_urbaine, color='tab:blue', label='Croissance de la population (% annuel)')\n",
    "ax1.tick_params(axis='y', labelcolor='tab:blue')\n",
    "\n",
    "plt.title('Croissance de la population (% annuel)')\n",
    "fig.tight_layout()\n",
    "plt.show()"
   ]
  },
  {
   "cell_type": "code",
   "execution_count": null,
   "id": "9f7bfaab",
   "metadata": {},
   "outputs": [],
   "source": [
    "import matplotlib.pyplot as plt\n",
    "import numpy as np\n",
    "\n",
    "years=np.arange(1990, 2021)\n",
    "fig, ax1=plt.subplots()\n",
    "\n",
    "ax1.set_xlabel('Year')\n",
    "ax1.set_ylabel('Croissance de la population urbaine (% annuel)', color='tab:blue')\n",
    "ax1.plot(years, list_values_Croissance_population, color='tab:blue', label='Croissance de la population urbaine (% annuel)')\n",
    "ax1.tick_params(axis='y', labelcolor='tab:blue')\n",
    "\n",
    "plt.title('Croissance de la population urbaine (% annuel)')\n",
    "fig.tight_layout()\n",
    "plt.show()"
   ]
  },
  {
   "cell_type": "code",
   "execution_count": null,
   "id": "c223546c",
   "metadata": {},
   "outputs": [],
   "source": []
  },
  {
   "cell_type": "code",
   "execution_count": null,
   "id": "25b065ef",
   "metadata": {},
   "outputs": [],
   "source": [
    "import matplotlib.pyplot as plt\n",
    "import numpy as np\n",
    "\n",
    "years=np.arange(1990, 2021)\n",
    "fig, ax1=plt.subplots(figsize=(12, 6))\n",
    "\n",
    "ax1.set_xlabel('Year')\n",
    "ax1.set_ylabel('Migration nette', color='tab:green')\n",
    "ax1.plot(years, list_values_Migration_nette, color='tab:green', label='Migration nette')\n",
    "ax1.tick_params(axis='y', labelcolor='tab:green')\n",
    "\n",
    "ax2=ax1.twinx()\n",
    "ax2.set_xlabel('Year')\n",
    "ax2.set_ylabel('Population urbaine', color='tab:blue')\n",
    "ax2.plot(years, list_values_Population_urbaine, color='tab:blue', label='Population urbaine')\n",
    "ax2.tick_params(axis='y', labelcolor='tab:blue')\n",
    "\n",
    "ax3=ax1.twinx()\n",
    "ax3.spines['right'].set_position(('outward', 60))\n",
    "ax3.set_ylabel('Population, total', color='tab:red')\n",
    "ax3.plot(years, list_values_Population_total, color='tab:red', label='Population, total')\n",
    "ax3.tick_params(axis='y', labelcolor='tab:red')\n",
    "\n",
    "ax4=ax1.twinx()\n",
    "ax4.spines['right'].set_position(('outward', 60))\n",
    "ax4.set_ylabel('Croissance de la population', color='tab:cyan')\n",
    "ax4.plot(years, list_values_Croissance_population, color='tab:cyan', label='Croissance de la population')\n",
    "ax4.tick_params(axis='y', labelcolor='tab:cyan')\n",
    "\n",
    "plt.title('Evolution de la population Togolaise')\n",
    "fig.tight_layout()\n",
    "plt.show()"
   ]
  },
  {
   "cell_type": "code",
   "execution_count": null,
   "id": "0f0e79a9",
   "metadata": {},
   "outputs": [],
   "source": []
  },
  {
   "cell_type": "code",
   "execution_count": null,
   "id": "f0f8ac0a",
   "metadata": {},
   "outputs": [],
   "source": [
    "import matplotlib.pyplot as plt\n",
    "import numpy as np\n",
    "\n",
    "years=np.arange(1990, 2021)\n",
    "fig, ax1=plt.subplots(figsize=(12, 6))\n",
    "\n",
    "ax1.set_xlabel('Year')\n",
    "ax1.set_ylabel('Migration nette', color='tab:green')\n",
    "ax1.plot(years, list_values_Migration_nette, color='tab:green', label='Migration nette')\n",
    "ax1.tick_params(axis='y', labelcolor='tab:green')\n",
    "\n",
    "ax2=ax1.twinx()\n",
    "ax2.spines['left'].set_position(('outward', 20))\n",
    "ax2.set_xlabel('Year')\n",
    "ax2.set_ylabel('Agriculture, valeur ajoutée (% de croissance annuelle)', color='tab:blue')\n",
    "ax2.plot(years, list_values_Agriculture, color='tab:blue', label='Agriculture, valeur ajoutée (% de croissance annuelle)')\n",
    "ax2.tick_params(axis='y', labelcolor='tab:blue')\n",
    "\n",
    "ax3=ax1.twinx()\n",
    "ax3.spines['right'].set_position(('outward', 20))\n",
    "ax3.set_ylabel('Population, total', color='tab:red')\n",
    "ax3.plot(years, list_values_Population_total, color='tab:red', label='Population, total')\n",
    "ax3.tick_params(axis='y', labelcolor='tab:red')\n",
    "\n",
    "ax4=ax1.twinx()\n",
    "ax4.spines['right'].set_position(('outward', 40))\n",
    "ax4.set_ylabel('Croissance de la population', color='tab:cyan')\n",
    "ax4.plot(years, list_values_Croissance_population, color='tab:cyan', label='Croissance de la population')\n",
    "ax4.tick_params(axis='y', labelcolor='tab:cyan')\n",
    "\n",
    "ax5=ax1.twinx()\n",
    "ax5.spines['right'].set_position(('outward', 60))\n",
    "ax5.set_ylabel('Industrie, valeur ajoutée (% de croissance annuelle)', color='tab:gray')\n",
    "ax5.plot(years, list_values_Industrie_croissance_annuelle, color='tab:gray', label='Industrie, valeur ajoutée (% de croissance annuelle)')\n",
    "ax5.tick_params(axis='y', labelcolor='tab:gray')\n",
    "\n",
    "ax6=ax1.twinx()\n",
    "ax6.spines['right'].set_position(('outward', 80))\n",
    "ax6.set_ylabel('Inflation, prix à la consommation (% annuel)', color='tab:orange')\n",
    "ax6.plot(years, list_values_Inflation_conso, color='tab:orange', label='Inflation, prix à la consommation (% annuel)')\n",
    "ax6.tick_params(axis='y', labelcolor='tab:orange')\n",
    "\n",
    "plt.title('Evolution de la population Togolaise')\n",
    "fig.tight_layout()\n",
    "plt.show()"
   ]
  },
  {
   "cell_type": "code",
   "execution_count": null,
   "id": "285aaca2",
   "metadata": {},
   "outputs": [],
   "source": [
    "#QUESTION 5 : Analyse Comparative avec d'Autres Pays\n",
    "\n",
    "# Croissance du PIB par habitant (% annuel). NY.GDP.PCAP.KD.ZG\n",
    "# Croissance du PIB (% annuel). NY.GDP.MKTP.KD.ZG\n",
    "# Taux de croissance moyen annualisé du niveau de vie par habitant, population totale (%). SI.SPR.PCAP.ZG\n",
    "\n",
    "\n",
    "#Total de dette extérieure (% du RNB). DT.TDS.DECT.GN.ZS"
   ]
  },
  {
   "cell_type": "code",
   "execution_count": null,
   "id": "86f709a0",
   "metadata": {},
   "outputs": [],
   "source": [
    "countries_compare = []\n",
    "\n",
    "for country in wb.region.members('WLD'):\n",
    "    if country in ('TGO', \"BEN\", \"RWA\", \"FRA\", 'CAN'):\n",
    "        countries_compare.append(country)\n",
    "countries_compare = set(countries_compare)\n",
    "wb.economy.info(countries_compare)"
   ]
  },
  {
   "cell_type": "code",
   "execution_count": null,
   "id": "3537ebd6",
   "metadata": {},
   "outputs": [],
   "source": [
    "wb.economy.DataFrame(countries_compare)"
   ]
  },
  {
   "cell_type": "code",
   "execution_count": null,
   "id": "d4e69a39",
   "metadata": {},
   "outputs": [],
   "source": []
  },
  {
   "cell_type": "code",
   "execution_count": null,
   "id": "38661ac2",
   "metadata": {},
   "outputs": [],
   "source": [
    "wb.data.DataFrame(['NY.GDP.PCAP.KD.ZG', 'NY.GDP.MKTP.KD.ZG', 'SI.SPR.PCAP.ZG', 'GC.DOD.TOTL.GD.ZS'], \n",
    "                    economy = countries_compare,\n",
    "               \n",
    "                    timeColumns = True,\n",
    "                    labels = True\n",
    "                    )"
   ]
  },
  {
   "cell_type": "code",
   "execution_count": null,
   "id": "21711964",
   "metadata": {},
   "outputs": [],
   "source": [
    "Croissance_PIB_HA =wb.data.DataFrame('NY.GDP.PCAP.KD.ZG', \n",
    "                    economy = countries_compare, \n",
    "                    time = range(2000, 2021), numericTimeKeys = True,\n",
    "                    labels = True).set_index('Country')\n",
    "Croissance_PIB_HA"
   ]
  },
  {
   "cell_type": "code",
   "execution_count": null,
   "id": "393b5ce0",
   "metadata": {},
   "outputs": [],
   "source": [
    "list_values_Croissance_PIB_HA = []\n",
    "# Croissance du PIB par habitant\n",
    "Croissance_PIB_HA=wb.data.DataFrame('NY.GDP.PCAP.KD.ZG', \n",
    "                    economy = countries_compare,\n",
    "                      \n",
    "                    time = range(1990, 2021), numericTimeKeys = True,\n",
    "                    labels = True).set_index('Country')\n",
    "\n",
    "for (column_name, column_data) in Croissance_PIB_HA.items():\n",
    "\n",
    "    list_values_Croissance_PIB_HA.append(column_data.values)\n",
    "    \n",
    "list_values_Croissance_PIB_HA "
   ]
  },
  {
   "cell_type": "code",
   "execution_count": null,
   "id": "f740e7b3",
   "metadata": {},
   "outputs": [],
   "source": [
    "wb.data.DataFrame('NY.GDP.PCAP.KD.ZG', \n",
    "                    economy = countries_compare, \n",
    "                    time = range(2000, 2021), numericTimeKeys = True,\n",
    "                    labels = True).set_index('Country').transpose().plot(title='Croissance PIB par Habitant');"
   ]
  },
  {
   "cell_type": "code",
   "execution_count": null,
   "id": "50da733e",
   "metadata": {},
   "outputs": [],
   "source": [
    "wb.data.DataFrame('NY.GDP.PCAP.KD.ZG', \n",
    "                    economy = countries_compare, \n",
    "                    time = range(2005, 2008), numericTimeKeys = True,\n",
    "                    labels = True).set_index('Country').transpose().plot(title='Croissance du PIB (% annuel)'); \n",
    "#avant crise éconoique mondiale"
   ]
  },
  {
   "cell_type": "code",
   "execution_count": null,
   "id": "499639ad",
   "metadata": {},
   "outputs": [],
   "source": [
    "wb.data.DataFrame('NY.GDP.PCAP.KD.ZG', \n",
    "                    economy = countries_compare, \n",
    "                    time = range(2008, 2010), numericTimeKeys = True,\n",
    "                    labels = True).set_index('Country').transpose().plot(title='Croissance du PIB (% annuel)');\n",
    "#période crise économique"
   ]
  },
  {
   "cell_type": "code",
   "execution_count": null,
   "id": "9b359562",
   "metadata": {},
   "outputs": [],
   "source": [
    "wb.data.DataFrame('NY.GDP.PCAP.KD.ZG', \n",
    "                    economy = countries_compare, \n",
    "                    time = range(2019, 2021), numericTimeKeys = True,\n",
    "                    labels = True).set_index('Country').transpose().plot(title='Croissance du PIB (% annuel)');\n",
    "#période covid19"
   ]
  },
  {
   "cell_type": "code",
   "execution_count": null,
   "id": "22917c8c",
   "metadata": {},
   "outputs": [],
   "source": []
  },
  {
   "cell_type": "code",
   "execution_count": null,
   "id": "810f463f",
   "metadata": {},
   "outputs": [],
   "source": [
    "# Croissance du PIB (% annuel). NY.GDP.MKTP.KD.ZG"
   ]
  },
  {
   "cell_type": "code",
   "execution_count": null,
   "id": "5ced35fc",
   "metadata": {},
   "outputs": [],
   "source": [
    "Croissance_PIB_annuel =wb.data.DataFrame('NY.GDP.MKTP.KD.ZG', \n",
    "                    economy = countries_compare, \n",
    "                    time = range(2000, 2021), numericTimeKeys = True,\n",
    "                    labels = True).set_index('Country')\n",
    "Croissance_PIB_annuel"
   ]
  },
  {
   "cell_type": "code",
   "execution_count": null,
   "id": "2d4c54e5",
   "metadata": {},
   "outputs": [],
   "source": [
    "list_values_Croissance_PIB_annuel = []\n",
    "# Croissance du PIB par habitant\n",
    "Croissance_PIB_annuel=wb.data.DataFrame('NY.GDP.MKTP.KD.ZG', \n",
    "                    economy = countries_compare,\n",
    "                      \n",
    "                    time = range(1990, 2021), numericTimeKeys = True,\n",
    "                    labels = True).set_index('Country')\n",
    "\n",
    "for (column_name, column_data) in Croissance_PIB_annuel.items():\n",
    "\n",
    "    list_values_Croissance_PIB_annuel.append(column_data.values)\n",
    "    \n",
    "list_values_Croissance_PIB_annuel "
   ]
  },
  {
   "cell_type": "code",
   "execution_count": null,
   "id": "fee35ef6",
   "metadata": {},
   "outputs": [],
   "source": [
    "wb.data.DataFrame('NY.GDP.MKTP.KD.ZG', \n",
    "                    economy = countries_compare, \n",
    "                    time = range(2000, 2021), numericTimeKeys = True,\n",
    "                    labels = True).set_index('Country').transpose().plot(title='Croissance du PIB (% annuel)');"
   ]
  },
  {
   "cell_type": "code",
   "execution_count": null,
   "id": "2b33e749",
   "metadata": {},
   "outputs": [],
   "source": [
    "wb.data.DataFrame('NY.GDP.MKTP.KD.ZG', \n",
    "                    economy = countries_compare, \n",
    "                    time = range(2005, 2008), numericTimeKeys = True,\n",
    "                    labels = True).set_index('Country').transpose().plot(title='Croissance du PIB (% annuel)'); \n",
    "#avant crise éconoique mondiale"
   ]
  },
  {
   "cell_type": "code",
   "execution_count": null,
   "id": "dfcc379d",
   "metadata": {},
   "outputs": [],
   "source": [
    "wb.data.DataFrame('NY.GDP.MKTP.KD.ZG', \n",
    "                    economy = countries_compare, \n",
    "                    time = range(2008, 2010), numericTimeKeys = True,\n",
    "                    labels = True).set_index('Country').transpose().plot(title='Croissance du PIB (% annuel)');\n",
    "#période crise économique"
   ]
  },
  {
   "cell_type": "code",
   "execution_count": null,
   "id": "ee62524c",
   "metadata": {},
   "outputs": [],
   "source": [
    "wb.data.DataFrame('NY.GDP.MKTP.KD.ZG', \n",
    "                    economy = countries_compare, \n",
    "                    time = range(2019, 2021), numericTimeKeys = True,\n",
    "                    labels = True).set_index('Country').transpose().plot(title='Croissance du PIB (% annuel)');\n",
    "#période covid19"
   ]
  },
  {
   "cell_type": "code",
   "execution_count": null,
   "id": "4c577df9",
   "metadata": {},
   "outputs": [],
   "source": []
  },
  {
   "cell_type": "code",
   "execution_count": null,
   "id": "abdefd1b",
   "metadata": {},
   "outputs": [],
   "source": [
    "# Taux de croissance moyen annualisé du niveau de vie par habitant, population totale (%). SI.SPR.PCAP.ZG"
   ]
  },
  {
   "cell_type": "code",
   "execution_count": null,
   "id": "b7851ff0",
   "metadata": {},
   "outputs": [],
   "source": [
    "Croissance_annuel_pop_tot =wb.data.DataFrame('SI.SPR.PCAP.ZG', \n",
    "                    economy = countries_compare, \n",
    "                    time = range(2000, 2021), numericTimeKeys = True,\n",
    "                    labels = True).set_index('Country')\n",
    "Croissance_annuel_pop_tot"
   ]
  },
  {
   "cell_type": "code",
   "execution_count": null,
   "id": "5b6e777a",
   "metadata": {},
   "outputs": [],
   "source": [
    "list_values_Croissance_annuel_pop_tot = []\n",
    "\n",
    "Croissance_annuel_pop_tot=wb.data.DataFrame('SI.SPR.PCAP.ZG', \n",
    "                    economy = countries_compare,\n",
    "                      \n",
    "                    time = range(1990, 2021), numericTimeKeys = True,\n",
    "                    labels = True).set_index('Country')\n",
    "\n",
    "for (column_name, column_data) in Croissance_annuel_pop_tot.items():\n",
    "\n",
    "    list_values_Croissance_annuel_pop_tot.append(column_data.values)\n",
    "    \n",
    "list_values_Croissance_annuel_pop_tot "
   ]
  },
  {
   "cell_type": "code",
   "execution_count": null,
   "id": "43e53cf6",
   "metadata": {},
   "outputs": [],
   "source": [
    "wb.data.DataFrame('SI.SPR.PCAP.ZG', \n",
    "                    economy = countries_compare, \n",
    "                    time = range(2000, 2021), numericTimeKeys = True,\n",
    "                    labels = True).set_index('Country').transpose().plot(title='Taux de croissance moyen annualisé du niveau de vie par habitant');"
   ]
  },
  {
   "cell_type": "code",
   "execution_count": null,
   "id": "c6075867",
   "metadata": {},
   "outputs": [],
   "source": [
    "#Total de dette extérieure (% du RNB). DT.TDS.DECT.GN.ZS"
   ]
  },
  {
   "cell_type": "code",
   "execution_count": null,
   "id": "4eb8ff80",
   "metadata": {
    "scrolled": true
   },
   "outputs": [],
   "source": [
    "Dette_gouv_central =wb.data.DataFrame('DT.TDS.DECT.GN.ZS', \n",
    "                    economy = countries_compare, \n",
    "                    time = range(1990, 2021), numericTimeKeys = True,\n",
    "                    labels = True).set_index('Country')\n",
    "Dette_gouv_central"
   ]
  },
  {
   "cell_type": "code",
   "execution_count": null,
   "id": "ca32bcfc",
   "metadata": {},
   "outputs": [],
   "source": [
    "list_values_Croissance_annuel_pop_tot = []\n",
    "\n",
    "Croissance_annuel_pop_tot=wb.data.DataFrame('SI.SPR.PCAP.ZG', \n",
    "                    economy = countries_compare,\n",
    "                      \n",
    "                    time = range(1990, 2021), numericTimeKeys = True,\n",
    "                    labels = True).set_index('Country')\n",
    "\n",
    "for (column_name, column_data) in Croissance_annuel_pop_tot.items():\n",
    "\n",
    "    list_values_Croissance_annuel_pop_tot.append(column_data.values)\n",
    "    \n",
    "list_values_Croissance_annuel_pop_tot "
   ]
  },
  {
   "cell_type": "code",
   "execution_count": null,
   "id": "bc9d06e8",
   "metadata": {
    "scrolled": true
   },
   "outputs": [],
   "source": [
    "list_values_Dette_gouv_central = []\n",
    "\n",
    "Dette_gouv_central=wb.data.DataFrame('DT.TDS.DECT.GN.ZS', \n",
    "                    economy = countries_compare,\n",
    "                      \n",
    "                    time = range(1990, 2021), numericTimeKeys = True,\n",
    "                    labels = True).set_index('Country')\n",
    "\n",
    "for (column_name, column_data) in Dette_gouv_central.items():\n",
    "\n",
    "    list_values_Dette_gouv_central.append(column_data.values)\n",
    "    \n",
    "list_values_Dette_gouv_central"
   ]
  },
  {
   "cell_type": "code",
   "execution_count": null,
   "id": "3f280817",
   "metadata": {},
   "outputs": [],
   "source": [
    "wb.data.DataFrame('DT.TDS.DECT.GN.ZS', \n",
    "                    economy = countries_compare, \n",
    "                    time = range(2000, 2021), numericTimeKeys = True,\n",
    "                    labels = True).set_index('Country').transpose().plot(title='Total de dette extérieure');"
   ]
  },
  {
   "cell_type": "code",
   "execution_count": null,
   "id": "c7da1a5c",
   "metadata": {},
   "outputs": [],
   "source": []
  },
  {
   "cell_type": "code",
   "execution_count": null,
   "id": "68c3c9dd",
   "metadata": {},
   "outputs": [],
   "source": [
    "wb.data.DataFrame('DT.TDS.DECT.GN.ZS', \n",
    "                    economy = countries_compare, \n",
    "                    time = range(2005, 2010), numericTimeKeys = True,\n",
    "                    labels = True).set_index('Country').transpose().plot(title='Total de dette extérieure entre 2005 et 2010');"
   ]
  },
  {
   "cell_type": "code",
   "execution_count": null,
   "id": "13f2f4c2",
   "metadata": {},
   "outputs": [],
   "source": []
  }
 ],
 "metadata": {
  "kernelspec": {
   "display_name": "Python 3 (ipykernel)",
   "language": "python",
   "name": "python3"
  },
  "language_info": {
   "codemirror_mode": {
    "name": "ipython",
    "version": 3
   },
   "file_extension": ".py",
   "mimetype": "text/x-python",
   "name": "python",
   "nbconvert_exporter": "python",
   "pygments_lexer": "ipython3",
   "version": "3.10.9"
  }
 },
 "nbformat": 4,
 "nbformat_minor": 5
}
