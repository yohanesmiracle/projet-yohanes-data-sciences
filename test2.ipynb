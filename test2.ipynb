{
 "cells": [
  {
   "cell_type": "markdown",
   "id": "4f468aec",
   "metadata": {},
   "source": [
    "---\n",
    "\n",
    "\n",
    "<img decoding=\"async\" src=\"https://salonimmigration.com/wp-content/uploads/2021/07/Universite_Teluq_Logo_255x158-1.png\" alt=\"Logo Universite TELUQ\" width=\"555\" height=\"458\" class=\"size-full wp-image-1922 alignleft\" />\n",
    "\n",
    "\n",
    "Yohanes Elitsa\n",
    "---\n",
    "\n",
    "\n",
    "\n",
    "\n",
    "# c'est ici que tout mon code commence\n",
    "\n"
   ]
  },
  {
   "cell_type": "code",
   "execution_count": 3,
   "id": "40294498",
   "metadata": {},
   "outputs": [],
   "source": [
    "import wbgapi as wb\n",
    "import requests\n",
    "import plotly.express as px\n",
    "import pandas as pd"
   ]
  },
  {
   "cell_type": "code",
   "execution_count": null,
   "id": "2c441672",
   "metadata": {},
   "outputs": [],
   "source": [
    "wb.economy.info()"
   ]
  },
  {
   "cell_type": "code",
   "execution_count": null,
   "id": "b7e6a9ad",
   "metadata": {},
   "outputs": [],
   "source": [
    "wb.economy.DataFrame()"
   ]
  },
  {
   "cell_type": "code",
   "execution_count": null,
   "id": "d2d63a23",
   "metadata": {},
   "outputs": [],
   "source": [
    "wb.economy.info()"
   ]
  },
  {
   "cell_type": "code",
   "execution_count": null,
   "id": "1bb58521",
   "metadata": {
    "scrolled": false
   },
   "outputs": [],
   "source": [
    "df_country = wb.economy.DataFrame()\n",
    "\n",
    "table = wb.economy.info()\n",
    "table_dict = vars(table)\n",
    "df_source = pd.DataFrame(table_dict.get('items')) # pour avoir la liste des pays et les id\n",
    "\n",
    "type(df_source)\n",
    "print((df_country))\n",
    "df = pd.DataFrame(df_source, columns=['id', 'value']) \n",
    "\n",
    "lis_country = []\n",
    "type(lis_country)\n",
    "for index, row in df.iterrows():\n",
    "    # print(row[\"id\"], row[\"value\"])\n",
    "    lis_country.append((row[\"id\"], row[\"value\"]))\n",
    "    \n",
    "code_country = ''\n",
    "country = ''\n",
    "# lis_country[0][0] #y[lis_country.index('TGO')]\n",
    "def check_code_country(code_input_country : str) -> True:\n",
    "    # [T for item in lis_country if 'TGO' in item]\n",
    "    if any(code_input_country in code for code in lis_country):\n",
    "        global code_country, country\n",
    "        for i in range(len(lis_country)):\n",
    "            if lis_country[i][0] == value_input_country:\n",
    "                print(f\"Vous avez choisi ce pays:  {lis_country[i][1]} - {code_input_country}\") \n",
    "                code_country, country = code_input_country, lis_country[i][1]\n",
    "                return True\n",
    "    return False\n",
    "# les id doivent figurer dans la liste des id. sinon retourner une erreur"
   ]
  },
  {
   "cell_type": "markdown",
   "id": "ef6b3ae2",
   "metadata": {},
   "source": [
    "## Enter country code:  \n",
    "- Example: TGO, CAN, FRA, USA"
   ]
  },
  {
   "cell_type": "code",
   "execution_count": null,
   "id": "a79e89ae",
   "metadata": {},
   "outputs": [],
   "source": [
    "value_input_country = str(input(\"Please, enter country code: \")).upper()\n",
    "\n",
    "\n",
    "check_code_country(value_input_country)\n",
    "print(code_country, country)"
   ]
  },
  {
   "cell_type": "code",
   "execution_count": null,
   "id": "d6161427",
   "metadata": {},
   "outputs": [],
   "source": [
    "gdp_indicator = wb.data.DataFrame('NY.GNP.PCAP.PP.KD', code_country, range(1990, 2022))  # PIB par habitant\n",
    "\n",
    "gdp_indicator"
   ]
  },
  {
   "cell_type": "code",
   "execution_count": null,
   "id": "194fca32",
   "metadata": {},
   "outputs": [],
   "source": [
    "wb.data.DataFrame(['NY.GDP.PCAP.PP.KD'],\n",
    "                     code_country,\n",
    "                      time=range(1990,2022,5)).plot.bar()"
   ]
  },
  {
   "cell_type": "code",
   "execution_count": null,
   "id": "4a2673c7",
   "metadata": {
    "scrolled": true
   },
   "outputs": [],
   "source": [
    "life_expectancy_indicator = wb.data.DataFrame('SP.DYN.LE00.IN', code_country, range(1990, 2022))  #Espérance de vie à la naissance, total (années)\n",
    "life_expectancy_indicator"
   ]
  },
  {
   "cell_type": "markdown",
   "id": "87279e43",
   "metadata": {},
   "source": [
    "# rapport sur l'Espérance de vie"
   ]
  },
  {
   "cell_type": "code",
   "execution_count": null,
   "id": "885660f2",
   "metadata": {},
   "outputs": [],
   "source": [
    "wb.data.DataFrame(['SP.DYN.LE00.IN'],\n",
    "                     code_country,\n",
    "                      time=range(1990,2022,5)).plot.bar() #graphique en barre pour l'indicateur choisi"
   ]
  },
  {
   "cell_type": "code",
   "execution_count": null,
   "id": "ce7aaacf",
   "metadata": {},
   "outputs": [],
   "source": [
    "co2_emissions_indicator = wb.data.DataFrame('EN.ATM.CO2E.PC', code_country, range(1990, 2022), numericTimeKeys=True,)  #Émissions de CO2 (tonnes métriques par habitant)\n",
    "co2_emissions_indicator"
   ]
  },
  {
   "cell_type": "code",
   "execution_count": null,
   "id": "4a0ae578",
   "metadata": {},
   "outputs": [],
   "source": [
    "wb.data.DataFrame(['EN.ATM.CO2E.PC'],\n",
    "                     code_country,\n",
    "                      time=range(1990,2021,5)).plot.bar()"
   ]
  },
  {
   "cell_type": "code",
   "execution_count": null,
   "id": "ebcc2ac4",
   "metadata": {
    "scrolled": true
   },
   "outputs": [],
   "source": [
    "list_values_gdp = []\n",
    "\n",
    "gdp=wb.data.DataFrame('NY.GDP.PCAP.PP.KD', \n",
    "                    economy = code_country,\n",
    "                      \n",
    "                    time = range(1990, 2022), numericTimeKeys = True,\n",
    "                    labels = True).set_index('Country')\n",
    "\n",
    "for (column_name, column_data) in gdp.items():\n",
    "\n",
    "    list_values_gdp.append(column_data.values)\n",
    "    \n",
    "list_values_gdp    #pour afficher la liste des valeurs du dataframe du pays choisi"
   ]
  },
  {
   "cell_type": "code",
   "execution_count": null,
   "id": "8b1bd520",
   "metadata": {},
   "outputs": [],
   "source": [
    "import matplotlib.pyplot as plt\n",
    "import numpy as np\n",
    "\n",
    "years=np.arange(1990, 2022)\n",
    "fig, ax1=plt.subplots()\n",
    "\n",
    "ax1.set_xlabel('Year')\n",
    "ax1.set_ylabel(f'GDP per capita in {country}', color='tab:blue')\n",
    "ax1.plot(years, list_values_gdp, color='tab:blue', label=f'GDP per cap in {country}')\n",
    "ax1.tick_params(axis='y', labelcolor='tab:blue')\n",
    "\n",
    "plt.title(f'GDP per capita in {country}')\n",
    "fig.tight_layout()\n",
    "plt.show()\n",
    "\n",
    "#évolution en courbe du PIB du pays choisi"
   ]
  },
  {
   "cell_type": "code",
   "execution_count": null,
   "id": "63856852",
   "metadata": {
    "scrolled": true
   },
   "outputs": [],
   "source": [
    "list_values_life_expectancy = []\n",
    "\n",
    "life_expectancy=wb.data.DataFrame('SP.DYN.LE00.IN', \n",
    "                    economy = code_country, \n",
    "                    time = range(1990, 2022), numericTimeKeys = True,\n",
    "                    labels = True).set_index('Country')\n",
    "\n",
    "\n",
    "for (column_name, column_data) in life_expectancy.items():\n",
    "\n",
    "    list_values_life_expectancy.append(column_data.values)\n",
    "    \n",
    "list_values_life_expectancy"
   ]
  },
  {
   "cell_type": "code",
   "execution_count": null,
   "id": "bec501e8",
   "metadata": {},
   "outputs": [],
   "source": [
    "import matplotlib.pyplot as plt\n",
    "import numpy as np\n",
    "\n",
    "years=np.arange(1990, 2022)\n",
    "fig, ax1=plt.subplots()\n",
    "\n",
    "ax1.set_xlabel('Year')\n",
    "ax1.set_ylabel(f'Life expectancy at birth in {country}', color='tab:blue')\n",
    "ax1.plot(years, list_values_life_expectancy, color='tab:blue', label= f'Life expectancy at birth in {country}')\n",
    "ax1.tick_params(axis='y', labelcolor='tab:blue')\n",
    "\n",
    "plt.title(f'Life expectancy at birth in {country}')\n",
    "fig.tight_layout()\n",
    "plt.show()"
   ]
  },
  {
   "cell_type": "code",
   "execution_count": null,
   "id": "40d9457d",
   "metadata": {},
   "outputs": [],
   "source": [
    "list_values_CO2_emissions = []\n",
    "\n",
    "CO2_emissions=wb.data.DataFrame('EN.ATM.CO2E.PC', \n",
    "                    economy = code_country, \n",
    "                    time = range(1990, 2022), numericTimeKeys = True,\n",
    "                    labels = True).set_index('Country')\n",
    "\n",
    "\n",
    "for (column_name, column_data) in CO2_emissions.items():\n",
    "\n",
    "    list_values_CO2_emissions.append(column_data.values)\n",
    "\n",
    "list_values_CO2_emissions\n"
   ]
  },
  {
   "cell_type": "code",
   "execution_count": null,
   "id": "c7d5a001",
   "metadata": {},
   "outputs": [],
   "source": [
    "import matplotlib.pyplot as plt\n",
    "import numpy as np\n",
    "\n",
    "years=np.arange(1990, 2022)\n",
    "fig, ax1=plt.subplots()\n",
    "\n",
    "ax1.set_xlabel('Year')\n",
    "ax1.set_ylabel(f'Émissions de CO2 in {country}', color='tab:blue')\n",
    "ax1.plot(years, list_values_CO2_emissions, color='tab:blue', label=f'Émissions de CO2 in {country}')\n",
    "ax1.tick_params(axis='y', labelcolor='tab:blue')\n",
    "\n",
    "plt.title(f'Émissions de CO2 in {country}')\n",
    "fig.tight_layout()\n",
    "plt.show()\n",
    "\n"
   ]
  },
  {
   "cell_type": "code",
   "execution_count": null,
   "id": "9989c9f8",
   "metadata": {},
   "outputs": [],
   "source": [
    "import matplotlib.pyplot as plt\n",
    "import numpy as np\n",
    "\n",
    "years=np.arange(1990, 2022)\n",
    "fig, ax1=plt.subplots()\n",
    "\n",
    "ax1.set_xlabel('Year')\n",
    "ax1.set_ylabel(f'GDP per capita in {country}', color='tab:blue')\n",
    "ax1.plot(years, list_values_gdp, color='tab:blue', label=f'GDP per capita in {country}')\n",
    "ax1.tick_params(axis='y', labelcolor='tab:blue')\n",
    "\n",
    "ax2=ax1.twinx()\n",
    "ax2.set_ylabel(f'Émissions de CO2 in {country}', color='tab:red')\n",
    "ax2.plot(years, list_values_CO2_emissions, color='tab:red', label=f'Émissions de CO2 in {country}')\n",
    "ax2.tick_params(axis='y', labelcolor='tab:red')\n",
    "\n",
    "plt.title(f'GDP and CO2 in {country}')\n",
    "fig.tight_layout()\n",
    "plt.show()\n",
    "\n",
    "#évolution du PIB et de l'émission du CO2"
   ]
  },
  {
   "cell_type": "code",
   "execution_count": null,
   "id": "d5098ec8",
   "metadata": {},
   "outputs": [],
   "source": [
    "import matplotlib.pyplot as plt\n",
    "import numpy as np\n",
    "\n",
    "years=np.arange(1990, 2022)\n",
    "fig, ax1=plt.subplots()\n",
    "\n",
    "ax1.set_xlabel('Year')\n",
    "ax1.set_ylabel(f'GDP per capita in {country}', color='tab:blue')\n",
    "ax1.plot(years, list_values_gdp, color='tab:green', label=f'GDP per capita in {country}')\n",
    "ax1.tick_params(axis='y', labelcolor='tab:green')\n",
    "\n",
    "ax2=ax1.twinx()\n",
    "ax2.set_ylabel(f'Life expectancy at birth in {country}', color='tab:red')\n",
    "ax2.plot(years, list_values_life_expectancy, color='tab:red', label=f'Life expectancy at birth in {country}')\n",
    "ax2.tick_params(axis='y', labelcolor='tab:red')\n",
    "\n",
    "plt.title(f'GDP and Life expectancy in {country}')\n",
    "fig.tight_layout()\n",
    "plt.show()\n",
    "#évolution du PIB et de l'espérance de vie"
   ]
  },
  {
   "cell_type": "code",
   "execution_count": null,
   "id": "9324a61d",
   "metadata": {},
   "outputs": [],
   "source": [
    "import matplotlib.pyplot as plt\n",
    "import numpy as np\n",
    "\n",
    "years=np.arange(1990, 2022)\n",
    "fig, ax1=plt.subplots()\n",
    "\n",
    "ax1.set_xlabel('Year')\n",
    "ax1.set_ylabel(f'Life expectancy at birth in {country}', color='tab:blue')\n",
    "ax1.plot(years, list_values_life_expectancy, color='tab:blue', label=f'Life expectancy at birth in {country}')\n",
    "ax1.tick_params(axis='y', labelcolor='tab:blue')\n",
    "\n",
    "ax2=ax1.twinx()\n",
    "ax2.set_ylabel(f'Émissions de CO2 in {country}', color='tab:red')\n",
    "ax2.plot(years, list_values_CO2_emissions, color='tab:green', label=f'Émissions de CO2 in {country}')\n",
    "ax2.tick_params(axis='y', labelcolor='tab:red')\n",
    "\n",
    "plt.title(f'Life expectancy and Émissions de CO2 in {country}')\n",
    "fig.tight_layout()\n",
    "plt.show() #évolution de l'émission du CO2 et de l'espérance de vie"
   ]
  },
  {
   "cell_type": "code",
   "execution_count": null,
   "id": "c3a4787e",
   "metadata": {},
   "outputs": [],
   "source": [
    "import matplotlib.pyplot as plt\n",
    "import numpy as np\n",
    "\n",
    "years=np.arange(1990, 2022)\n",
    "fig, ax1=plt.subplots(figsize=(12, 6))\n",
    "\n",
    "ax1.set_xlabel('Year')\n",
    "ax1.set_ylabel(f'GDP per capita in {country}', color='tab:green')\n",
    "ax1.plot(years, list_values_gdp, color='tab:green', label=f'GDP per capita in {country}')\n",
    "ax1.tick_params(axis='y', labelcolor='tab:green')\n",
    "\n",
    "ax2=ax1.twinx()\n",
    "ax2.set_xlabel('Year')\n",
    "ax2.set_ylabel(f'Life expectancy at birth in {country}', color='tab:blue')\n",
    "ax2.plot(years, list_values_life_expectancy, color='tab:blue', label=f'Life expectancy at birth in {country}')\n",
    "ax2.tick_params(axis='y', labelcolor='tab:blue')\n",
    "\n",
    "ax3=ax1.twinx()\n",
    "ax3.spines['right'].set_position(('outward', 60))\n",
    "ax3.set_ylabel(f'Émissions de CO2 in {country}', color='tab:red')\n",
    "ax3.plot(years, list_values_CO2_emissions, color='tab:red', label=f'Émissions de CO2 in {country}')\n",
    "ax3.tick_params(axis='y', labelcolor='tab:red')\n",
    "\n",
    "plt.title(f'GDP and CO2 and life expectancy in {country}')\n",
    "fig.tight_layout()\n",
    "plt.show()\n",
    "\n",
    "#évolution du PIB, du CO2 et de l'espérance de vie"
   ]
  },
  {
   "cell_type": "code",
   "execution_count": null,
   "id": "abd7dc9f",
   "metadata": {},
   "outputs": [],
   "source": []
  },
  {
   "cell_type": "code",
   "execution_count": null,
   "id": "20bcb2b1",
   "metadata": {},
   "outputs": [],
   "source": [
    "#QUESTION 2 : Analyse Temporelle des Tendances Économiques\n",
    "\n",
    "# PIB par habitant, ($ PPA internationaux courants). NY.GDP.PCAP.PP.CD\n",
    "# Inflation, prix à la consommation (% annuel). FP.CPI.TOTL.ZG\n",
    "# Chômage (% de la population active) (estimation nationale). SL.UEM.TOTL.NE.ZS"
   ]
  },
  {
   "cell_type": "code",
   "execution_count": null,
   "id": "91d0916e",
   "metadata": {},
   "outputs": [],
   "source": [
    "PIB_indicator = wb.data.DataFrame('NY.GDP.PCAP.PP.CD', code_country, range(1990, 2022))  # PIB par habitant, ($ PPA internationaux courants)\n",
    "\n",
    "PIB_indicator"
   ]
  },
  {
   "cell_type": "code",
   "execution_count": null,
   "id": "ab0dd765",
   "metadata": {},
   "outputs": [],
   "source": [
    "wb.data.DataFrame(['NY.GDP.PCAP.PP.CD'],\n",
    "                     code_country,\n",
    "                      time=range(1990,2022,5)).plot.bar()"
   ]
  },
  {
   "cell_type": "code",
   "execution_count": null,
   "id": "7783cb83",
   "metadata": {},
   "outputs": [],
   "source": [
    "Inflation_indicator = wb.data.DataFrame('FP.CPI.TOTL.ZG', code_country, range(1990, 2022))  # Inflation, prix à la consommation (% annuel). \n",
    "\n",
    "Inflation_indicator "
   ]
  },
  {
   "cell_type": "code",
   "execution_count": null,
   "id": "174dece5",
   "metadata": {},
   "outputs": [],
   "source": [
    "wb.data.DataFrame(['FP.CPI.TOTL.ZG'],\n",
    "                     code_country,\n",
    "                      time=range(1990,2022,5)).plot.bar()"
   ]
  },
  {
   "cell_type": "code",
   "execution_count": null,
   "id": "c0e9a8a4",
   "metadata": {},
   "outputs": [],
   "source": [
    "Chomage_indicator = wb.data.DataFrame('SL.UEM.TOTL.NE.ZS', code_country, range(1990, 2022))  # Chômage (% de la population active) (estimation nationale).\n",
    "\n",
    "Chomage_indicator  "
   ]
  },
  {
   "cell_type": "code",
   "execution_count": null,
   "id": "ec325a77",
   "metadata": {},
   "outputs": [],
   "source": [
    "wb.data.DataFrame(['SL.UEM.TOTL.NE.ZS'],\n",
    "                     code_country,\n",
    "                      time=range(1990,2022)).plot.bar()"
   ]
  },
  {
   "cell_type": "code",
   "execution_count": null,
   "id": "44a2dc73",
   "metadata": {},
   "outputs": [],
   "source": [
    "list_values_PIB = []\n",
    "\n",
    "PIB=wb.data.DataFrame('NY.GDP.PCAP.PP.CD', \n",
    "                    economy = code_country,\n",
    "                      \n",
    "                    time = range(1990, 2022), numericTimeKeys = True,\n",
    "                    labels = True).set_index('Country')\n",
    "\n",
    "for (column_name, column_data) in PIB.items():\n",
    "\n",
    "    list_values_PIB.append(column_data.values)\n",
    "    \n",
    "list_values_PIB "
   ]
  },
  {
   "cell_type": "code",
   "execution_count": null,
   "id": "101a9c7c",
   "metadata": {},
   "outputs": [],
   "source": [
    "list_values_Inflation = []\n",
    "\n",
    "Inflation=wb.data.DataFrame('FP.CPI.TOTL.ZG', \n",
    "                    economy = code_country,\n",
    "                      \n",
    "                    time = range(1990, 2022), numericTimeKeys = True,\n",
    "                    labels = True).set_index('Country')\n",
    "\n",
    "for (column_name, column_data) in Inflation.items():\n",
    "\n",
    "    list_values_Inflation.append(column_data.values)\n",
    "    \n",
    "list_values_Inflation"
   ]
  },
  {
   "cell_type": "code",
   "execution_count": null,
   "id": "78424582",
   "metadata": {},
   "outputs": [],
   "source": [
    "\n",
    "list_values_Chomage = []\n",
    "\n",
    "Chomage=wb.data.DataFrame('SL.UEM.TOTL.NE.ZS', \n",
    "                    economy = code_country,\n",
    "                      \n",
    "                    time = range(1990, 2022), numericTimeKeys = True,\n",
    "                    labels = True).set_index('Country')\n",
    "\n",
    "for (column_name, column_data) in Chomage.items():\n",
    "\n",
    "    list_values_Chomage.append(column_data.values)\n",
    "    \n",
    "list_values_Chomage \n",
    "\n",
    "# les données sur le chômage du Togo sont manquantes"
   ]
  },
  {
   "cell_type": "code",
   "execution_count": null,
   "id": "c5dc28ef",
   "metadata": {},
   "outputs": [],
   "source": [
    "import matplotlib.pyplot as plt\n",
    "import numpy as np\n",
    "\n",
    "years=np.arange(1990, 2022)\n",
    "fig, ax1=plt.subplots()\n",
    "\n",
    "ax1.set_xlabel('Year')\n",
    "ax1.set_ylabel('PIB par habitant, ($ PPA internationaux courants)', color='tab:blue')\n",
    "ax1.plot(years, list_values_PIB, color='tab:blue', label='PIB par habitant, ($ PPA internationaux courants)')\n",
    "ax1.tick_params(axis='y', labelcolor='tab:blue')\n",
    "\n",
    "plt.title('PIB par habitant, ($ PPA internationaux courants)')\n",
    "fig.tight_layout()\n",
    "plt.show()"
   ]
  },
  {
   "cell_type": "code",
   "execution_count": null,
   "id": "10258e9f",
   "metadata": {},
   "outputs": [],
   "source": [
    "import matplotlib.pyplot as plt\n",
    "import numpy as np\n",
    "\n",
    "years=np.arange(1990, 2022)\n",
    "fig, ax1=plt.subplots()\n",
    "\n",
    "ax1.set_xlabel('Year')\n",
    "ax1.set_ylabel('Inflation au Togo', color='tab:blue')\n",
    "ax1.plot(years, list_values_Inflation, color='tab:blue', label='Inflation au Togo')\n",
    "ax1.tick_params(axis='y', labelcolor='tab:blue')\n",
    "\n",
    "plt.title('Inflation au Togo')\n",
    "fig.tight_layout()\n",
    "plt.show()"
   ]
  },
  {
   "cell_type": "code",
   "execution_count": null,
   "id": "2922538b",
   "metadata": {},
   "outputs": [],
   "source": [
    "import matplotlib.pyplot as plt\n",
    "import numpy as np\n",
    "\n",
    "years=np.arange(1990, 2022)\n",
    "fig, ax1=plt.subplots(figsize=(12, 6))\n",
    "\n",
    "ax1.set_xlabel('Year')\n",
    "ax1.set_ylabel('PIB par habitant, ($ PPA internationaux courants)', color='tab:green')\n",
    "ax1.plot(years, list_values_PIB, color='tab:green', label='PIB par habitant, ($ PPA internationaux courants)')\n",
    "ax1.tick_params(axis='y', labelcolor='tab:green')\n",
    "\n",
    "ax2=ax1.twinx()\n",
    "ax2.set_xlabel('Year')\n",
    "ax2.set_ylabel('Inflation au Togo', color='tab:blue')\n",
    "ax2.plot(years, list_values_Inflation, color='tab:blue', label='Inflation au Togo')\n",
    "ax2.tick_params(axis='y', labelcolor='tab:blue')\n",
    "\n",
    "ax3=ax1.twinx()\n",
    "ax3.spines['right'].set_position(('outward', 40))\n",
    "ax3.set_ylabel('Chômage au Togo', color='tab:red')\n",
    "ax3.plot(years, list_values_Chomage, color='tab:red', label='Chômage au Togo')\n",
    "ax3.tick_params(axis='y', labelcolor='tab:red')\n",
    "\n",
    "plt.title('PIB par habitant et Inflation au Togo')\n",
    "fig.tight_layout()\n",
    "plt.show()"
   ]
  },
  {
   "cell_type": "code",
   "execution_count": null,
   "id": "e2f2cabf",
   "metadata": {},
   "outputs": [],
   "source": []
  },
  {
   "cell_type": "code",
   "execution_count": null,
   "id": "a64a51c6",
   "metadata": {},
   "outputs": [],
   "source": [
    "#QUESTION 3 : Analyse de Cluster\n",
    "\n",
    "# PIB par habitant. NY.GDP.PCAP.PP.KD\n",
    "# Pauvreté à $ 1,90 par jour (2011 PPA) (%). SI.POV.GAPS\n",
    "# Indice du capital humain, limite supérieure (échelle comprise entre 0 et 1). HD.HCI.OVRL.UB\n",
    "# Indice du capital humain, limite inférieure (échelle comprise entre 0 et 1). HD.HCI.OVRL.LB"
   ]
  },
  {
   "cell_type": "code",
   "execution_count": null,
   "id": "204dff44",
   "metadata": {},
   "outputs": [],
   "source": [
    "PIB_HA = wb.data.DataFrame('NY.GDP.PCAP.PP.KD', code_country, range(1990, 2022)) # PIB par habitant\n",
    "PIB_HA"
   ]
  },
  {
   "cell_type": "code",
   "execution_count": null,
   "id": "88a2519c",
   "metadata": {},
   "outputs": [],
   "source": [
    "Pauvrete_indic = wb.data.DataFrame('SI.POV.GAPS', code_country, range(1990, 2022))  # Pauvreté à $ 1,90 par jour (2011 PPA) (%)\n",
    "Pauvrete_indic"
   ]
  },
  {
   "cell_type": "code",
   "execution_count": null,
   "id": "0a2160e8",
   "metadata": {},
   "outputs": [],
   "source": [
    "ICH_lim_sup_indicator = wb.data.DataFrame('HD.HCI.OVRL.UB', code_country, range(1990, 2022))  # Indice du capital humain, limite supérieure (échelle comprise entre 0 et 1)\n",
    "ICH_lim_sup_indicator"
   ]
  },
  {
   "cell_type": "code",
   "execution_count": null,
   "id": "77853ddd",
   "metadata": {},
   "outputs": [],
   "source": [
    "ICH_lim_inf_indicator = wb.data.DataFrame('HD.HCI.OVRL.LB', code_country, range(1990, 2022))  # Indice du capital humain, limite inférieure (échelle comprise entre 0 et 1)\n",
    "ICH_lim_inf_indicator"
   ]
  },
  {
   "cell_type": "code",
   "execution_count": null,
   "id": "e11c2ed3",
   "metadata": {},
   "outputs": [],
   "source": [
    "wb.data.DataFrame(['NY.GDP.PCAP.PP.KD'],\n",
    "                     code_country,\n",
    "                      time=range(1990,2022,5)).plot.bar() "
   ]
  },
  {
   "cell_type": "code",
   "execution_count": null,
   "id": "8f6b4f11",
   "metadata": {},
   "outputs": [],
   "source": [
    "wb.data.DataFrame(['SI.POV.GAPS'],\n",
    "                     code_country,\n",
    "                      time=range(1990,2022,5)).plot.bar() "
   ]
  },
  {
   "cell_type": "code",
   "execution_count": null,
   "id": "78e74ff6",
   "metadata": {},
   "outputs": [],
   "source": [
    "wb.data.DataFrame(['HD.HCI.OVRL.UB'],\n",
    "                     code_country,\n",
    "                      time=range(1990,2022,5)).plot.bar() "
   ]
  },
  {
   "cell_type": "code",
   "execution_count": null,
   "id": "820a70ff",
   "metadata": {},
   "outputs": [],
   "source": [
    "wb.data.DataFrame(['HD.HCI.OVRL.LB'],\n",
    "                     code_country,\n",
    "                      time=range(1990,2022,5)).plot.bar() "
   ]
  },
  {
   "cell_type": "code",
   "execution_count": null,
   "id": "5933bb45",
   "metadata": {},
   "outputs": [],
   "source": [
    "list_values_PIB_HA = []\n",
    "\n",
    "PIB_HA=wb.data.DataFrame('NY.GDP.PCAP.PP.KD', \n",
    "                    economy = code_country,\n",
    "                      \n",
    "                    time = range(1990, 2022), numericTimeKeys = True,\n",
    "                    labels = True).set_index('Country')\n",
    "\n",
    "for (column_name, column_data) in PIB_HA.items():\n",
    "\n",
    "    list_values_PIB_HA.append(column_data.values)\n",
    "    \n",
    "list_values_PIB_HA    "
   ]
  },
  {
   "cell_type": "code",
   "execution_count": null,
   "id": "cdec6d48",
   "metadata": {},
   "outputs": [],
   "source": [
    "list_values_Pauvrete_indic = []\n",
    "\n",
    "Pauvrete_indic=wb.data.DataFrame('SI.POV.GAPS', \n",
    "                    economy = code_country,\n",
    "                      \n",
    "                    time = range(1990, 2022), numericTimeKeys = True,\n",
    "                    labels = True).set_index('Country')\n",
    "\n",
    "for (column_name, column_data) in Pauvrete_indic.items():\n",
    "\n",
    "    list_values_Pauvrete_indic.append(column_data.values)\n",
    "    \n",
    "list_values_Pauvrete_indic  \n",
    "\n",
    "# Données manquantes"
   ]
  },
  {
   "cell_type": "code",
   "execution_count": null,
   "id": "d2cf861b",
   "metadata": {},
   "outputs": [],
   "source": [
    "list_values_ICH_lim_sup_indicator = []\n",
    "\n",
    "ICH_lim_sup_indicator=wb.data.DataFrame('HD.HCI.OVRL.UB', \n",
    "                    economy = code_country,\n",
    "                      \n",
    "                    time = range(1990, 2022), numericTimeKeys = True,\n",
    "                    labels = True).set_index('Country')\n",
    "\n",
    "for (column_name, column_data) in ICH_lim_sup_indicator.items():\n",
    "\n",
    "    list_values_ICH_lim_sup_indicator.append(column_data.values)\n",
    "    \n",
    "list_values_ICH_lim_sup_indicator  # Données manquantes"
   ]
  },
  {
   "cell_type": "code",
   "execution_count": null,
   "id": "c339edff",
   "metadata": {},
   "outputs": [],
   "source": [
    "list_values_ICH_lim_inf_indicator = []\n",
    "\n",
    "ICH_lim_inf_indicator=wb.data.DataFrame('HD.HCI.OVRL.LB', \n",
    "                    economy = code_country,\n",
    "                      \n",
    "                    time = range(1990, 2022), numericTimeKeys = True,\n",
    "                    labels = True).set_index('Country')\n",
    "\n",
    "for (column_name, column_data) in ICH_lim_inf_indicator.items():\n",
    "\n",
    "    list_values_ICH_lim_inf_indicator.append(column_data.values)\n",
    "    \n",
    "list_values_ICH_lim_inf_indicator  # Données manquantes"
   ]
  },
  {
   "cell_type": "code",
   "execution_count": null,
   "id": "33900a82",
   "metadata": {},
   "outputs": [],
   "source": [
    "import matplotlib.pyplot as plt\n",
    "import numpy as np\n",
    "\n",
    "years=np.arange(1990, 2022)\n",
    "fig, ax1=plt.subplots()\n",
    "\n",
    "ax1.set_xlabel('Year')\n",
    "ax1.set_ylabel(f'GDP per cap in {country}', color='tab:blue')\n",
    "ax1.plot(years, list_values_PIB_HA, color='tab:blue', label=f'GDP per cap in {country}')\n",
    "ax1.tick_params(axis='y', labelcolor='tab:blue')\n",
    "\n",
    "plt.title(f'GDP per cap in {country}')\n",
    "fig.tight_layout()\n",
    "plt.show()"
   ]
  },
  {
   "cell_type": "code",
   "execution_count": null,
   "id": "0d8fea4b",
   "metadata": {},
   "outputs": [],
   "source": [
    "import matplotlib.pyplot as plt\n",
    "import numpy as np\n",
    "\n",
    "years=np.arange(1990, 2022)\n",
    "fig, ax1=plt.subplots()\n",
    "\n",
    "ax1.set_xlabel('Year')\n",
    "ax1.set_ylabel(f'Indice de pauvreté in {country}', color='tab:blue')\n",
    "ax1.plot(years, list_values_Pauvrete_indic , color='tab:blue', label=f'Indice de pauvreté in {country}')\n",
    "ax1.tick_params(axis='y', labelcolor='tab:blue')\n",
    "\n",
    "plt.title(f'Indice de pauvreté in {country}')\n",
    "fig.tight_layout()\n",
    "plt.show()"
   ]
  },
  {
   "cell_type": "code",
   "execution_count": null,
   "id": "29802f0b",
   "metadata": {},
   "outputs": [],
   "source": [
    "import matplotlib.pyplot as plt\n",
    "import numpy as np\n",
    "\n",
    "years=np.arange(1990, 2022)\n",
    "fig, ax1=plt.subplots()\n",
    "\n",
    "ax1.set_xlabel('Year')\n",
    "ax1.set_ylabel(f'ICH limite supérieure in {country}', color='tab:blue')\n",
    "ax1.plot(years, list_values_ICH_lim_sup_indicator, color='tab:blue', label=f'ICH limite supérieure in {country}')\n",
    "ax1.tick_params(axis='y', labelcolor='tab:blue')\n",
    "\n",
    "plt.title(f'ICH limite supérieure in {country}')\n",
    "fig.tight_layout()\n",
    "plt.show()"
   ]
  },
  {
   "cell_type": "code",
   "execution_count": null,
   "id": "3dfc0097",
   "metadata": {},
   "outputs": [],
   "source": [
    "import matplotlib.pyplot as plt\n",
    "import numpy as np\n",
    "\n",
    "years=np.arange(1990, 2022)\n",
    "fig, ax1=plt.subplots()\n",
    "\n",
    "ax1.set_xlabel('Year')\n",
    "ax1.set_ylabel(f'ICH limite inférieure in {country}', color='tab:blue')\n",
    "ax1.plot(years, list_values_ICH_lim_inf_indicator, color='tab:blue', label=f'ICH limite inférieure in {country}')\n",
    "ax1.tick_params(axis='y', labelcolor='tab:blue')\n",
    "\n",
    "plt.title(f'ICH limite inférieure in {country}')\n",
    "fig.tight_layout()\n",
    "plt.show()"
   ]
  },
  {
   "cell_type": "code",
   "execution_count": null,
   "id": "cc08b22c",
   "metadata": {},
   "outputs": [],
   "source": [
    "import matplotlib.pyplot as plt\n",
    "import numpy as np\n",
    "\n",
    "years=np.arange(1990, 2022)\n",
    "fig, ax1=plt.subplots(figsize=(12, 6))\n",
    "\n",
    "ax1.set_xlabel('Year')\n",
    "ax1.set_ylabel(f'GDP per capita in {country}', color='tab:green')\n",
    "ax1.plot(years, list_values_gdp, color='tab:green', label=f'GDP per cap in {country}')\n",
    "ax1.tick_params(axis='y', labelcolor='tab:green')\n",
    "\n",
    "ax2=ax1.twinx()\n",
    "ax2.set_xlabel('Year')\n",
    "ax2.set_ylabel(f'ICH limite supérieure in {country}', color='tab:blue')\n",
    "ax2.plot(years, list_values_ICH_lim_sup_indicator, color='tab:blue', label=f'ICH limite supérieure in {country}')\n",
    "ax2.tick_params(axis='y', labelcolor='tab:blue')\n",
    "\n",
    "ax3=ax1.twinx()\n",
    "ax3.spines['right'].set_position(('outward', 60))\n",
    "ax3.set_ylabel(f'ICH limite inférieure in {country}', color='tab:red')\n",
    "ax3.plot(years, list_values_ICH_lim_inf_indicator, color='tab:red', label=f'ICH limite inférieure in {country}')\n",
    "ax3.tick_params(axis='y', labelcolor='tab:red')\n",
    "\n",
    "plt.title(f'GDP et ICH au Togo in {country}')\n",
    "fig.tight_layout()\n",
    "plt.show()"
   ]
  },
  {
   "cell_type": "code",
   "execution_count": null,
   "id": "f50f8c82",
   "metadata": {},
   "outputs": [],
   "source": []
  },
  {
   "cell_type": "code",
   "execution_count": null,
   "id": "fdc113eb",
   "metadata": {},
   "outputs": [],
   "source": [
    "###QUESTION 4 : Prédictions des Tendances Futures\n",
    "\n",
    "# Agriculture, valeur ajoutée (% de croissance annuelle). NV.AGR.TOTL.KD.ZG\n",
    "\n",
    "# Industrie, valeur ajoutée (en $ US actuels). NV.IND.TOTL.CD\n",
    "# Industrie, valeur ajoutée (% du PIB). NV.IND.TOTL.ZS\n",
    "\n",
    "# Industrie, valeur ajoutée (% de croissance annuelle). NV.IND.TOTL.KD.ZG\n",
    "\n",
    "# Inflation, prix à la consommation (% annuel). FP.CPI.TOTL.ZG\n"
   ]
  },
  {
   "cell_type": "code",
   "execution_count": null,
   "id": "7932368d",
   "metadata": {},
   "outputs": [],
   "source": [
    "Agriculture = wb.data.DataFrame('NV.AGR.TOTL.KD.ZG', code_country, range(1990, 2022)) # PIB par habitant\n",
    "Agriculture"
   ]
  },
  {
   "cell_type": "code",
   "execution_count": null,
   "id": "9c9a4efa",
   "metadata": {},
   "outputs": [],
   "source": [
    "Industrie_actu = wb.data.DataFrame('NV.IND.TOTL.CD', code_country, range(1990, 2022)) # PIB par habitant\n",
    "Industrie_actu"
   ]
  },
  {
   "cell_type": "code",
   "execution_count": null,
   "id": "97a34b52",
   "metadata": {},
   "outputs": [],
   "source": [
    "Industrie_PIB = wb.data.DataFrame('NV.IND.TOTL.ZS', code_country, range(1990, 2022)) # PIB par habitant\n",
    "Industrie_PIB"
   ]
  },
  {
   "cell_type": "code",
   "execution_count": null,
   "id": "5d1f1cd7",
   "metadata": {},
   "outputs": [],
   "source": [
    "Industrie_croissance_annuelle = wb.data.DataFrame('NV.IND.TOTL.KD.ZG', code_country, range(1990, 2022)) # PIB par habitant\n",
    "Industrie_croissance_annuelle"
   ]
  },
  {
   "cell_type": "code",
   "execution_count": null,
   "id": "f228eb6b",
   "metadata": {},
   "outputs": [],
   "source": [
    "Inflation_conso = wb.data.DataFrame('FP.CPI.TOTL.ZG', code_country, range(1990, 2022)) # PIB par habitant\n",
    "Inflation_conso"
   ]
  },
  {
   "cell_type": "code",
   "execution_count": null,
   "id": "338a4dd9",
   "metadata": {},
   "outputs": [],
   "source": [
    "wb.data.DataFrame(['NV.AGR.TOTL.KD.ZG'],\n",
    "                     code_country,\n",
    "                      time=range(1990,2022,5)).plot.bar() "
   ]
  },
  {
   "cell_type": "code",
   "execution_count": null,
   "id": "06033b53",
   "metadata": {},
   "outputs": [],
   "source": [
    "wb.data.DataFrame(['NV.IND.TOTL.CD'],\n",
    "                     code_country,\n",
    "                      time=range(1990,2022,5)).plot.bar() "
   ]
  },
  {
   "cell_type": "code",
   "execution_count": null,
   "id": "0f4580b4",
   "metadata": {},
   "outputs": [],
   "source": [
    "wb.data.DataFrame(['NV.IND.TOTL.ZS'],\n",
    "                     code_country,\n",
    "                      time=range(1990,2022,5)).plot.bar() "
   ]
  },
  {
   "cell_type": "code",
   "execution_count": null,
   "id": "cd82c257",
   "metadata": {},
   "outputs": [],
   "source": [
    "wb.data.DataFrame(['NV.IND.TOTL.KD.ZG'],\n",
    "                     code_country,\n",
    "                      time=range(1990,2022,5)).plot.bar() "
   ]
  },
  {
   "cell_type": "code",
   "execution_count": null,
   "id": "42809e02",
   "metadata": {},
   "outputs": [],
   "source": [
    "wb.data.DataFrame(['FP.CPI.TOTL.ZG'],\n",
    "                     code_country,\n",
    "                      time=range(1990,2022,5)).plot.bar() "
   ]
  },
  {
   "cell_type": "code",
   "execution_count": null,
   "id": "782a2488",
   "metadata": {},
   "outputs": [],
   "source": [
    "list_values_Agriculture = []\n",
    "\n",
    "Agriculture=wb.data.DataFrame('NV.AGR.TOTL.KD.ZG', \n",
    "                    economy = code_country,\n",
    "                      \n",
    "                    time = range(1990, 2022), numericTimeKeys = True,\n",
    "                    labels = True).set_index('Country')\n",
    "\n",
    "for (column_name, column_data) in Agriculture.items():\n",
    "\n",
    "    list_values_Agriculture.append(column_data.values)\n",
    "    \n",
    "list_values_Agriculture "
   ]
  },
  {
   "cell_type": "code",
   "execution_count": null,
   "id": "4023cbcd",
   "metadata": {},
   "outputs": [],
   "source": [
    "import matplotlib.pyplot as plt\n",
    "import numpy as np\n",
    "\n",
    "years=np.arange(1990, 2022)\n",
    "fig, ax1=plt.subplots()\n",
    "\n",
    "ax1.set_xlabel('Year')\n",
    "ax1.set_ylabel(f'Agriculture, valeur ajoutée (% de croissance annuelle) in {country}', color='tab:blue')\n",
    "ax1.plot(years, list_values_Agriculture, color='tab:blue', label=f'Agriculture, valeur ajoutée (% de croissance annuelle) in {country}')\n",
    "ax1.tick_params(axis='y', labelcolor='tab:blue')\n",
    "\n",
    "plt.title(f'Agriculture, valeur ajoutée (% de croissance annuelle) in {country}')\n",
    "fig.tight_layout()\n",
    "plt.show()"
   ]
  },
  {
   "cell_type": "code",
   "execution_count": null,
   "id": "7a2b0d70",
   "metadata": {},
   "outputs": [],
   "source": [
    "list_values_Industrie_actu = []\n",
    "\n",
    "Industrie_actu=wb.data.DataFrame('NV.IND.TOTL.CD', \n",
    "                    economy = code_country,\n",
    "                      \n",
    "                    time = range(1990, 2022), numericTimeKeys = True,\n",
    "                    labels = True).set_index('Country')\n",
    "\n",
    "for (column_name, column_data) in Industrie_actu.items():\n",
    "\n",
    "    list_values_Industrie_actu.append(column_data.values)\n",
    "    \n",
    "list_values_Industrie_actu "
   ]
  },
  {
   "cell_type": "code",
   "execution_count": null,
   "id": "82050148",
   "metadata": {},
   "outputs": [],
   "source": [
    "import matplotlib.pyplot as plt\n",
    "import numpy as np\n",
    "\n",
    "years=np.arange(1990, 2022)\n",
    "fig, ax1=plt.subplots()\n",
    "\n",
    "ax1.set_xlabel('Year')\n",
    "ax1.set_ylabel(f'Industrie, valeur ajoutée (en $ US actuels) in {country}', color='tab:blue')\n",
    "ax1.plot(years, list_values_Industrie_actu, color='tab:blue', label=f'Industrie, valeur ajoutée (en $ US actuels) in {country}')\n",
    "ax1.tick_params(axis='y', labelcolor='tab:blue')\n",
    "\n",
    "plt.title(f'Industrie, valeur ajoutée (en $ US actuels) in {country}')\n",
    "fig.tight_layout()\n",
    "plt.show()"
   ]
  },
  {
   "cell_type": "code",
   "execution_count": null,
   "id": "19e949df",
   "metadata": {},
   "outputs": [],
   "source": [
    "list_values_Industrie_PIB = []\n",
    "\n",
    "gdp=wb.data.DataFrame('NV.IND.TOTL.ZS', \n",
    "                    economy = code_country,\n",
    "                      \n",
    "                    time = range(1990, 2022), numericTimeKeys = True,\n",
    "                    labels = True).set_index('Country')\n",
    "\n",
    "for (column_name, column_data) in Industrie_PIB.items():\n",
    "\n",
    "    list_values_Industrie_PIB.append(column_data.values)\n",
    "    \n",
    "list_values_Industrie_PIB "
   ]
  },
  {
   "cell_type": "code",
   "execution_count": null,
   "id": "3ea8462e",
   "metadata": {},
   "outputs": [],
   "source": [
    "import matplotlib.pyplot as plt\n",
    "import numpy as np\n",
    "\n",
    "years=np.arange(1990, 2022)\n",
    "fig, ax1=plt.subplots()\n",
    "\n",
    "ax1.set_xlabel('Year')\n",
    "ax1.set_ylabel(f'Industrie, valeur ajoutée (% du PIB) in {country}', color='tab:blue')\n",
    "ax1.plot(years, list_values_Industrie_PIB, color='tab:blue', label=f'Industrie, valeur ajoutée (% du PIB) in {country}')\n",
    "ax1.tick_params(axis='y', labelcolor='tab:blue')\n",
    "\n",
    "plt.title(f'Industrie, valeur ajoutée (% du PIB) in {country}')\n",
    "fig.tight_layout()\n",
    "plt.show()"
   ]
  },
  {
   "cell_type": "code",
   "execution_count": null,
   "id": "a8c24d86",
   "metadata": {},
   "outputs": [],
   "source": [
    "list_values_Industrie_croissance_annuelle = []\n",
    "\n",
    "Industrie_croissance_annuelle=wb.data.DataFrame('NV.IND.TOTL.KD.ZG', \n",
    "                    economy = code_country,\n",
    "                      \n",
    "                    time = range(1990, 2022), numericTimeKeys = True,\n",
    "                    labels = True).set_index('Country')\n",
    "\n",
    "for (column_name, column_data) in Industrie_croissance_annuelle.items():\n",
    "\n",
    "    list_values_Industrie_croissance_annuelle.append(column_data.values)\n",
    "    \n",
    "list_values_Industrie_croissance_annuelle "
   ]
  },
  {
   "cell_type": "code",
   "execution_count": null,
   "id": "d0d16d04",
   "metadata": {},
   "outputs": [],
   "source": [
    "import matplotlib.pyplot as plt\n",
    "import numpy as np\n",
    "\n",
    "years=np.arange(1990, 2022)\n",
    "fig, ax1=plt.subplots()\n",
    "\n",
    "ax1.set_xlabel('Year')\n",
    "ax1.set_ylabel(f'Industrie, valeur ajoutée (% de croissance annuelle) in {country}', color='tab:blue')\n",
    "ax1.plot(years, list_values_Industrie_croissance_annuelle, color='tab:blue', label=f'Industrie, valeur ajoutée (% de croissance annuelle) in {country}')\n",
    "ax1.tick_params(axis='y', labelcolor='tab:blue')\n",
    "\n",
    "plt.title(f'Industrie, valeur ajoutée (% de croissance annuelle) in {country}')\n",
    "fig.tight_layout()\n",
    "plt.show()"
   ]
  },
  {
   "cell_type": "code",
   "execution_count": null,
   "id": "711a1536",
   "metadata": {},
   "outputs": [],
   "source": [
    "list_values_Inflation_conso = []\n",
    "\n",
    "Inflation_conso=wb.data.DataFrame('FP.CPI.TOTL.ZG', \n",
    "                    economy = code_country,\n",
    "                      \n",
    "                    time = range(1990, 2022), numericTimeKeys = True,\n",
    "                    labels = True).set_index('Country')\n",
    "\n",
    "for (column_name, column_data) in Inflation_conso.items():\n",
    "\n",
    "    list_values_Inflation_conso.append(column_data.values)\n",
    "    \n",
    "list_values_Inflation_conso "
   ]
  },
  {
   "cell_type": "code",
   "execution_count": null,
   "id": "55348273",
   "metadata": {},
   "outputs": [],
   "source": [
    "import matplotlib.pyplot as plt\n",
    "import numpy as np\n",
    "\n",
    "years=np.arange(1990, 2022)\n",
    "fig, ax1=plt.subplots()\n",
    "\n",
    "ax1.set_xlabel('Year')\n",
    "ax1.set_ylabel(f'Inflation, prix à la consommation (% annuel) in {country}', color='tab:blue')\n",
    "ax1.plot(years, list_values_Inflation_conso, color='tab:blue', label=f'Inflation, prix à la consommation (% annuel) in {country}')\n",
    "ax1.tick_params(axis='y', labelcolor='tab:blue')\n",
    "\n",
    "plt.title(f'Inflation, prix à la consommation (% annuel) in {country}')\n",
    "fig.tight_layout()\n",
    "plt.show()"
   ]
  },
  {
   "cell_type": "code",
   "execution_count": null,
   "id": "aab9c84d",
   "metadata": {},
   "outputs": [],
   "source": [
    "import matplotlib.pyplot as plt\n",
    "import numpy as np\n",
    "\n",
    "years=np.arange(1990, 2022)\n",
    "fig, ax1=plt.subplots(figsize=(12, 6))\n",
    "\n",
    "ax1.set_xlabel('Year')\n",
    "ax1.set_ylabel(f'Agriculture, valeur ajoutée in {country}', color='tab:green')\n",
    "ax1.plot(years, list_values_Agriculture, color='tab:green', label=f'Agriculture in {country}')\n",
    "ax1.tick_params(axis='y', labelcolor='tab:green')\n",
    "\n",
    "ax2=ax1.twinx()\n",
    "ax2.set_xlabel('Year')\n",
    "ax2.set_ylabel(f'Industrie, valeur ajoutée (en $ US actuels) in {country}', color='tab:blue')\n",
    "ax2.plot(years, list_values_Industrie_actu, color='tab:blue', label=f'Industrie, valeur ajoutée (en $ US actuels) in {country}')\n",
    "ax2.tick_params(axis='y', labelcolor='tab:blue')\n",
    "\n",
    "ax3=ax1.twinx()\n",
    "ax3.spines['right'].set_position(('outward', 40))\n",
    "ax3.set_ylabel(f'Industrie, valeur ajoutée (% du PIB) in {country}', color='tab:red')\n",
    "ax3.plot(years, list_values_Industrie_PIB, color='tab:red', label=f'Industrie, valeur ajoutée (% du PIB) in {country}')\n",
    "ax3.tick_params(axis='y', labelcolor='tab:red')\n",
    "\n",
    "ax4=ax1.twinx()\n",
    "ax4.spines['right'].set_position(('outward', 60))\n",
    "ax4.set_ylabel(f'Industrie, valeur ajoutée (% de croissance annuelle) in {country}', color='tab:cyan')\n",
    "ax4.plot(years, list_values_Industrie_croissance_annuelle, color='tab:cyan', label=f'Industrie, valeur ajoutée (% de croissance annuelle) in {country}')\n",
    "ax4.tick_params(axis='y', labelcolor='tab:cyan')\n",
    "\n",
    "ax5=ax1.twinx()\n",
    "ax5.spines['right'].set_position(('outward', 80))\n",
    "ax5.set_ylabel(f'Inflation, prix à la consommation (% annuel) in {country}', color='tab:gray')\n",
    "ax5.plot(years, list_values_Inflation_conso, color='tab:gray', label=f'Inflation, prix à la consommation (% annuel) in {country}')\n",
    "ax5.tick_params(axis='y', labelcolor='tab:gray')\n",
    "\n",
    "plt.title(f'Agriculture, Industrie et inflation au Togo in {country}')\n",
    "fig.tight_layout()\n",
    "plt.show()"
   ]
  },
  {
   "cell_type": "code",
   "execution_count": null,
   "id": "b790054a",
   "metadata": {},
   "outputs": [],
   "source": [
    "\n",
    "# Migration nette. SM.POP.NETM\n",
    "# Population urbaine (% du total). SP.URB.TOTL.IN.ZS\n",
    "# Croissance de la population rurale (% annuel). SP.RUR.TOTL.ZG\n",
    "# Population, total. SP.POP.TOTL\n",
    "# Croissance de la population (% annuel). SP.POP.GROW\n",
    "# Croissance de la population urbaine (% annuel). SP.URB.GROW"
   ]
  },
  {
   "cell_type": "code",
   "execution_count": null,
   "id": "786e3502",
   "metadata": {},
   "outputs": [],
   "source": [
    "Migration_nette = wb.data.DataFrame('SM.POP.NETM', code_country, range(1990, 2022)) \n",
    "Migration_nette"
   ]
  },
  {
   "cell_type": "code",
   "execution_count": null,
   "id": "487a68cf",
   "metadata": {},
   "outputs": [],
   "source": [
    "Population_urbaine = wb.data.DataFrame('SP.URB.TOTL.IN.ZS', code_country, range(1990, 2022)) \n",
    "Population_urbaine"
   ]
  },
  {
   "cell_type": "code",
   "execution_count": null,
   "id": "d28f6652",
   "metadata": {},
   "outputs": [],
   "source": [
    "Croissance_pop_rurale = wb.data.DataFrame('SP.RUR.TOTL.ZG', code_country, range(1990, 2022)) \n",
    "Croissance_pop_rurale"
   ]
  },
  {
   "cell_type": "code",
   "execution_count": null,
   "id": "15bbdca6",
   "metadata": {},
   "outputs": [],
   "source": [
    "Population_total = wb.data.DataFrame('SP.POP.TOTL', code_country, range(1990, 2022)) # PIB par habitant\n",
    "Population_total"
   ]
  },
  {
   "cell_type": "code",
   "execution_count": null,
   "id": "4926d4c4",
   "metadata": {},
   "outputs": [],
   "source": [
    "Croissance_population = wb.data.DataFrame('SP.POP.GROW', code_country, range(1990, 2022))\n",
    "Croissance_population"
   ]
  },
  {
   "cell_type": "code",
   "execution_count": null,
   "id": "3fa14240",
   "metadata": {},
   "outputs": [],
   "source": [
    "Croissance_population_urbaine = wb.data.DataFrame('SP.URB.GROW', code_country, range(1990, 2022))\n",
    "Croissance_population_urbaine"
   ]
  },
  {
   "cell_type": "code",
   "execution_count": null,
   "id": "73bdd198",
   "metadata": {},
   "outputs": [],
   "source": [
    "wb.data.DataFrame(['SM.POP.NETM'],\n",
    "                     code_country,\n",
    "                      time=range(1990,2022,5)).plot.bar() "
   ]
  },
  {
   "cell_type": "code",
   "execution_count": null,
   "id": "a3e1268a",
   "metadata": {},
   "outputs": [],
   "source": [
    "wb.data.DataFrame(['SP.URB.TOTL.IN.ZS'],\n",
    "                     code_country,\n",
    "                      time=range(1990,2022,5)).plot.bar() "
   ]
  },
  {
   "cell_type": "code",
   "execution_count": null,
   "id": "23e08238",
   "metadata": {},
   "outputs": [],
   "source": [
    "wb.data.DataFrame(['SP.RUR.TOTL.ZG'],\n",
    "                     code_country,\n",
    "                      time=range(1990,2022,5)).plot.bar() "
   ]
  },
  {
   "cell_type": "code",
   "execution_count": null,
   "id": "256b54f9",
   "metadata": {},
   "outputs": [],
   "source": [
    "wb.data.DataFrame(['SP.POP.TOTL'],\n",
    "                     code_country,\n",
    "                      time=range(1990,2022,5)).plot.bar() "
   ]
  },
  {
   "cell_type": "code",
   "execution_count": null,
   "id": "96b7771d",
   "metadata": {},
   "outputs": [],
   "source": [
    "wb.data.DataFrame(['SP.POP.GROW'],\n",
    "                     code_country,\n",
    "                      time=range(1990,2022,5)).plot.bar() "
   ]
  },
  {
   "cell_type": "code",
   "execution_count": null,
   "id": "f0e0231a",
   "metadata": {},
   "outputs": [],
   "source": [
    "wb.data.DataFrame(['SP.URB.GROW'],\n",
    "                     code_country,\n",
    "                      time=range(1990,2022,5)).plot.bar() "
   ]
  },
  {
   "cell_type": "code",
   "execution_count": null,
   "id": "6705ce20",
   "metadata": {},
   "outputs": [],
   "source": [
    "list_values_Migration_nette = []\n",
    "\n",
    "Migration_nette=wb.data.DataFrame('SM.POP.NETM', \n",
    "                    economy = code_country,\n",
    "                      \n",
    "                    time = range(1990, 2022), numericTimeKeys = True,\n",
    "                    labels = True).set_index('Country')\n",
    "\n",
    "for (column_name, column_data) in Migration_nette.items():\n",
    "\n",
    "    list_values_Migration_nette.append(column_data.values)\n",
    "    \n",
    "list_values_Migration_nette "
   ]
  },
  {
   "cell_type": "code",
   "execution_count": null,
   "id": "f74f236c",
   "metadata": {},
   "outputs": [],
   "source": [
    "list_values_Population_urbaine = []\n",
    "\n",
    "Population_urbaine=wb.data.DataFrame('SP.URB.TOTL.IN.ZS', \n",
    "                    economy = code_country,\n",
    "                      \n",
    "                    time = range(1990, 2022), numericTimeKeys = True,\n",
    "                    labels = True).set_index('Country')\n",
    "\n",
    "for (column_name, column_data) in Population_urbaine.items():\n",
    "\n",
    "    list_values_Population_urbaine.append(column_data.values)\n",
    "    \n",
    "list_values_Population_urbaine "
   ]
  },
  {
   "cell_type": "code",
   "execution_count": null,
   "id": "acb8b5d4",
   "metadata": {},
   "outputs": [],
   "source": [
    "list_values_Croissance_pop_rurale = []\n",
    "\n",
    "Croissance_pop_rurale=wb.data.DataFrame('SP.RUR.TOTL.ZG', \n",
    "                    economy = code_country,\n",
    "                      \n",
    "                    time = range(1990, 2022), numericTimeKeys = True,\n",
    "                    labels = True).set_index('Country')\n",
    "\n",
    "for (column_name, column_data) in Croissance_pop_rurale.items():\n",
    "\n",
    "    list_values_Croissance_pop_rurale.append(column_data.values)\n",
    "    \n",
    "list_values_Croissance_pop_rurale "
   ]
  },
  {
   "cell_type": "code",
   "execution_count": null,
   "id": "ff211e84",
   "metadata": {},
   "outputs": [],
   "source": [
    "list_values_Population_total = []\n",
    "\n",
    "Population_total=wb.data.DataFrame('SP.POP.TOTL', \n",
    "                    economy = code_country,\n",
    "                      \n",
    "                    time = range(1990, 2022), numericTimeKeys = True,\n",
    "                    labels = True).set_index('Country')\n",
    "\n",
    "for (column_name, column_data) in Population_total.items():\n",
    "\n",
    "    list_values_Population_total.append(column_data.values)\n",
    "    \n",
    "list_values_Population_total"
   ]
  },
  {
   "cell_type": "code",
   "execution_count": null,
   "id": "ac653c05",
   "metadata": {
    "scrolled": true
   },
   "outputs": [],
   "source": [
    "list_values_Croissance_population_urbaine = []\n",
    "\n",
    "Croissance_population_urbaine=wb.data.DataFrame('SP.URB.GROW', \n",
    "                    economy = code_country,\n",
    "                      \n",
    "                    time = range(1990, 2022), numericTimeKeys = True,\n",
    "                    labels = True).set_index('Country')\n",
    "\n",
    "for (column_name, column_data) in Croissance_population_urbaine.items():\n",
    "\n",
    "    list_values_Croissance_population_urbaine.append(column_data.values)\n",
    "    \n",
    "list_values_Croissance_population_urbaine "
   ]
  },
  {
   "cell_type": "code",
   "execution_count": null,
   "id": "501a84d2",
   "metadata": {},
   "outputs": [],
   "source": [
    "list_values_Croissance_population = []\n",
    "\n",
    "Croissance_population=wb.data.DataFrame('SP.POP.GROW', \n",
    "                    economy = code_country,\n",
    "                      \n",
    "                    time = range(1990, 2022), numericTimeKeys = True,\n",
    "                    labels = True).set_index('Country')\n",
    "\n",
    "for (column_name, column_data) in Croissance_population.items():\n",
    "\n",
    "    list_values_Croissance_population.append(column_data.values)\n",
    "    \n",
    "list_values_Croissance_population "
   ]
  },
  {
   "cell_type": "code",
   "execution_count": null,
   "id": "88adcc94",
   "metadata": {},
   "outputs": [],
   "source": [
    "import matplotlib.pyplot as plt\n",
    "import numpy as np\n",
    "\n",
    "years=np.arange(1990, 2022)\n",
    "fig, ax1=plt.subplots()\n",
    "\n",
    "ax1.set_xlabel('Year')\n",
    "ax1.set_ylabel(f'Migration nette in {country}', color='tab:blue')\n",
    "ax1.plot(years, list_values_Migration_nette, color='tab:blue', label=f'Migration nette in {country}')\n",
    "ax1.tick_params(axis='y', labelcolor='tab:blue')\n",
    "\n",
    "plt.title(f'Migration nette in {country}')\n",
    "fig.tight_layout()\n",
    "plt.show()"
   ]
  },
  {
   "cell_type": "code",
   "execution_count": null,
   "id": "8544061f",
   "metadata": {},
   "outputs": [],
   "source": [
    "import matplotlib.pyplot as plt\n",
    "import numpy as np\n",
    "\n",
    "years=np.arange(1990, 2022)\n",
    "fig, ax1=plt.subplots()\n",
    "\n",
    "ax1.set_xlabel('Year')\n",
    "ax1.set_ylabel(f'Population urbaine (% du total) in {country}', color='tab:blue')\n",
    "ax1.plot(years, list_values_Population_urbaine, color='tab:blue', label=f'Population urbaine (% du total) in {country}')\n",
    "ax1.tick_params(axis='y', labelcolor='tab:blue')\n",
    "\n",
    "plt.title(f'Population urbaine (% du total) in {country}')\n",
    "fig.tight_layout()\n",
    "plt.show()"
   ]
  },
  {
   "cell_type": "code",
   "execution_count": null,
   "id": "6762a285",
   "metadata": {},
   "outputs": [],
   "source": [
    "import matplotlib.pyplot as plt\n",
    "import numpy as np\n",
    "\n",
    "years=np.arange(1990, 2022)\n",
    "fig, ax1=plt.subplots()\n",
    "\n",
    "ax1.set_xlabel('Year')\n",
    "ax1.set_ylabel(f'Croissance de la population rurale (% annuel) in {country}', color='tab:blue')\n",
    "ax1.plot(years, list_values_Croissance_pop_rurale, color='tab:blue', label=f'Croissance de la population rurale (% annuel) in {country}')\n",
    "ax1.tick_params(axis='y', labelcolor='tab:blue')\n",
    "\n",
    "plt.title(f'Croissance de la population rurale (% annuel) in {country}')\n",
    "fig.tight_layout()\n",
    "plt.show()"
   ]
  },
  {
   "cell_type": "code",
   "execution_count": null,
   "id": "7de83931",
   "metadata": {},
   "outputs": [],
   "source": [
    "import matplotlib.pyplot as plt\n",
    "import numpy as np\n",
    "\n",
    "years=np.arange(1990, 2022)\n",
    "fig, ax1=plt.subplots()\n",
    "\n",
    "ax1.set_xlabel('Year')\n",
    "ax1.set_ylabel(f'Population, total in {country}', color='tab:blue')\n",
    "ax1.plot(years, list_values_Population_total, color='tab:blue', label=f'Population, total in {country}')\n",
    "ax1.tick_params(axis='y', labelcolor='tab:blue')\n",
    "\n",
    "plt.title(f'Population, total in {country}')\n",
    "fig.tight_layout()\n",
    "plt.show()"
   ]
  },
  {
   "cell_type": "code",
   "execution_count": null,
   "id": "2c119c56",
   "metadata": {},
   "outputs": [],
   "source": [
    "import matplotlib.pyplot as plt\n",
    "import numpy as np\n",
    "\n",
    "years=np.arange(1990, 2022)\n",
    "fig, ax1=plt.subplots()\n",
    "\n",
    "ax1.set_xlabel('Year')\n",
    "ax1.set_ylabel(f'Croissance de la population (% annuel) in {country}', color='tab:blue')\n",
    "ax1.plot(years, list_values_Croissance_population_urbaine, color='tab:blue', label=f'Croissance de la population (% annuel) in {country}')\n",
    "ax1.tick_params(axis='y', labelcolor='tab:blue')\n",
    "\n",
    "plt.title(f'Croissance de la population (% annuel) in {country}')\n",
    "fig.tight_layout()\n",
    "plt.show()"
   ]
  },
  {
   "cell_type": "code",
   "execution_count": null,
   "id": "9f7bfaab",
   "metadata": {},
   "outputs": [],
   "source": [
    "import matplotlib.pyplot as plt\n",
    "import numpy as np\n",
    "\n",
    "years=np.arange(1990, 2022)\n",
    "fig, ax1=plt.subplots()\n",
    "\n",
    "ax1.set_xlabel('Year')\n",
    "ax1.set_ylabel(f'Croissance de la population urbaine (% annuel) in {country}', color='tab:blue')\n",
    "ax1.plot(years, list_values_Croissance_population, color='tab:blue', label=f'Croissance de la population urbaine (% annuel) in {country}')\n",
    "ax1.tick_params(axis='y', labelcolor='tab:blue')\n",
    "\n",
    "plt.title(f'Croissance de la population urbaine (% annuel) in {country}')\n",
    "fig.tight_layout()\n",
    "plt.show()"
   ]
  },
  {
   "cell_type": "code",
   "execution_count": null,
   "id": "25b065ef",
   "metadata": {},
   "outputs": [],
   "source": [
    "import matplotlib.pyplot as plt\n",
    "import numpy as np\n",
    "\n",
    "years=np.arange(1990, 2022)\n",
    "fig, ax1=plt.subplots(figsize=(12, 6))\n",
    "\n",
    "ax1.set_xlabel('Year')\n",
    "ax1.set_ylabel(f'Migration nette in {country}', color='tab:green')\n",
    "ax1.plot(years, list_values_Migration_nette, color='tab:green', label=f'Migration nette in {country}')\n",
    "ax1.tick_params(axis='y', labelcolor='tab:green')\n",
    "\n",
    "ax2=ax1.twinx()\n",
    "ax2.set_xlabel('Year')\n",
    "ax2.set_ylabel(f'Population urbaine in {country}', color='tab:blue')\n",
    "ax2.plot(years, list_values_Population_urbaine, color='tab:blue', label=f'Population urbaine in {country}')\n",
    "ax2.tick_params(axis='y', labelcolor='tab:blue')\n",
    "\n",
    "ax3=ax1.twinx()\n",
    "ax3.spines['right'].set_position(('outward', 60))\n",
    "ax3.set_ylabel(f'Population, total in {country}', color='tab:red')\n",
    "ax3.plot(years, list_values_Population_total, color='tab:red', label=f'Population, total in {country}')\n",
    "ax3.tick_params(axis='y', labelcolor='tab:red')\n",
    "\n",
    "ax4=ax1.twinx()\n",
    "ax4.spines['right'].set_position(('outward', 60))\n",
    "ax4.set_ylabel(f'Croissance de la population in {country}', color='tab:cyan')\n",
    "ax4.plot(years, list_values_Croissance_population, color='tab:cyan', label=f'Croissance de la population in {country}')\n",
    "ax4.tick_params(axis='y', labelcolor='tab:cyan')\n",
    "\n",
    "plt.title(f'Evolution de la population Togolaise in {country}')\n",
    "fig.tight_layout()\n",
    "plt.show()"
   ]
  },
  {
   "cell_type": "code",
   "execution_count": null,
   "id": "f0f8ac0a",
   "metadata": {},
   "outputs": [],
   "source": [
    "import matplotlib.pyplot as plt\n",
    "import numpy as np\n",
    "\n",
    "years=np.arange(1990, 2022)\n",
    "fig, ax1=plt.subplots(figsize=(12, 6))\n",
    "\n",
    "ax1.set_xlabel('Year')\n",
    "ax1.set_ylabel(f'Migration nette in {country}', color='tab:green')\n",
    "ax1.plot(years, list_values_Migration_nette, color='tab:green', label=f'Migration nette in {country}')\n",
    "ax1.tick_params(axis='y', labelcolor='tab:green')\n",
    "\n",
    "ax2=ax1.twinx()\n",
    "ax2.spines['left'].set_position(('outward', 20))\n",
    "ax2.set_xlabel('Year')\n",
    "ax2.set_ylabel(f'Agriculture, valeur ajoutée (% de croissance annuelle) in {country}', color='tab:blue')\n",
    "ax2.plot(years, list_values_Agriculture, color='tab:blue', label=f'Agriculture, valeur ajoutée (% de croissance annuelle) in {country}')\n",
    "ax2.tick_params(axis='y', labelcolor='tab:blue')\n",
    "\n",
    "ax3=ax1.twinx()\n",
    "ax3.spines['right'].set_position(('outward', 20))\n",
    "ax3.set_ylabel(f'Population, total in {country}', color='tab:red')\n",
    "ax3.plot(years, list_values_Population_total, color='tab:red', label=f'Population, total in {country}')\n",
    "ax3.tick_params(axis='y', labelcolor='tab:red')\n",
    "\n",
    "ax4=ax1.twinx()\n",
    "ax4.spines['right'].set_position(('outward', 40))\n",
    "ax4.set_ylabel(f'Croissance de la population in {country}', color='tab:cyan')\n",
    "ax4.plot(years, list_values_Croissance_population, color='tab:cyan', label=f'Croissance de la population in {country}')\n",
    "ax4.tick_params(axis='y', labelcolor='tab:cyan')\n",
    "\n",
    "ax5=ax1.twinx()\n",
    "ax5.spines['right'].set_position(('outward', 60))\n",
    "ax5.set_ylabel(f'Industrie, valeur ajoutée (% de croissance annuelle) in {country}', color='tab:gray')\n",
    "ax5.plot(years, list_values_Industrie_croissance_annuelle, color='tab:gray', label=f'Industrie, valeur ajoutée (% de croissance annuelle) in {country}')\n",
    "ax5.tick_params(axis='y', labelcolor='tab:gray')\n",
    "\n",
    "ax6=ax1.twinx()\n",
    "ax6.spines['right'].set_position(('outward', 80))\n",
    "ax6.set_ylabel(f'Inflation, prix à la consommation (% annuel) in {country}', color='tab:orange')\n",
    "ax6.plot(years, list_values_Inflation_conso, color='tab:orange', label=f'Inflation, prix à la consommation (% annuel) in {country}')\n",
    "ax6.tick_params(axis='y', labelcolor='tab:orange')\n",
    "\n",
    "plt.title(f'Evolution de la population Togolaise in {country}')\n",
    "fig.tight_layout()\n",
    "plt.show()"
   ]
  },
  {
   "cell_type": "code",
   "execution_count": null,
   "id": "dfe5bd63",
   "metadata": {},
   "outputs": [],
   "source": []
  },
  {
   "cell_type": "code",
   "execution_count": null,
   "id": "285aaca2",
   "metadata": {},
   "outputs": [],
   "source": [
    "#QUESTION 5 : Analyse Comparative avec d'Autres Pays\n",
    "\n",
    "# Croissance du PIB par habitant (% annuel). NY.GDP.PCAP.KD.ZG\n",
    "# Croissance du PIB (% annuel). NY.GDP.MKTP.KD.ZG\n",
    "# Taux de croissance moyen annualisé du niveau de vie par habitant, population totale (%). SI.SPR.PCAP.ZG\n",
    "\n",
    "\n",
    "#Total de dette extérieure (% du RNB). DT.TDS.DECT.GN.ZS"
   ]
  },
  {
   "cell_type": "code",
   "execution_count": 6,
   "id": "86f709a0",
   "metadata": {},
   "outputs": [
    {
     "data": {
      "text/html": [
       "<div class=\"wbgapi\"><table>\n",
       "<thead>\n",
       "<tr><th>id  </th><th>value     </th><th>region  </th><th>incomeLevel  </th></tr>\n",
       "</thead>\n",
       "<tbody>\n",
       "<tr><td>BEN </td><td>Benin     </td><td>SSF     </td><td>LMC          </td></tr>\n",
       "<tr><td>CAN </td><td>Canada    </td><td>NAC     </td><td>HIC          </td></tr>\n",
       "<tr><td>FRA </td><td>France    </td><td>ECS     </td><td>HIC          </td></tr>\n",
       "<tr><td>RWA </td><td>Rwanda    </td><td>SSF     </td><td>LIC          </td></tr>\n",
       "<tr><td>TGO </td><td>Togo      </td><td>SSF     </td><td>LIC          </td></tr>\n",
       "<tr><td>    </td><td>5 elements</td><td>        </td><td>             </td></tr>\n",
       "</tbody>\n",
       "</table></div>"
      ],
      "text/plain": [
       "id    value       region    incomeLevel\n",
       "----  ----------  --------  -------------\n",
       "BEN   Benin       SSF       LMC\n",
       "CAN   Canada      NAC       HIC\n",
       "FRA   France      ECS       HIC\n",
       "RWA   Rwanda      SSF       LIC\n",
       "TGO   Togo        SSF       LIC\n",
       "      5 elements"
      ]
     },
     "execution_count": 6,
     "metadata": {},
     "output_type": "execute_result"
    }
   ],
   "source": [
    "countries_compare = []\n",
    "\n",
    "for country in wb.region.members('WLD'):\n",
    "    if country in ('TGO', \"BEN\", \"RWA\", \"FRA\", 'CAN'):\n",
    "        countries_compare.append(country)\n",
    "countries_compare = set(countries_compare)\n",
    "wb.economy.info(countries_compare)"
   ]
  },
  {
   "cell_type": "code",
   "execution_count": 7,
   "id": "3537ebd6",
   "metadata": {},
   "outputs": [
    {
     "data": {
      "text/html": [
       "<div>\n",
       "<style scoped>\n",
       "    .dataframe tbody tr th:only-of-type {\n",
       "        vertical-align: middle;\n",
       "    }\n",
       "\n",
       "    .dataframe tbody tr th {\n",
       "        vertical-align: top;\n",
       "    }\n",
       "\n",
       "    .dataframe thead th {\n",
       "        text-align: right;\n",
       "    }\n",
       "</style>\n",
       "<table border=\"1\" class=\"dataframe\">\n",
       "  <thead>\n",
       "    <tr style=\"text-align: right;\">\n",
       "      <th></th>\n",
       "      <th>name</th>\n",
       "      <th>aggregate</th>\n",
       "      <th>longitude</th>\n",
       "      <th>latitude</th>\n",
       "      <th>region</th>\n",
       "      <th>adminregion</th>\n",
       "      <th>lendingType</th>\n",
       "      <th>incomeLevel</th>\n",
       "      <th>capitalCity</th>\n",
       "    </tr>\n",
       "    <tr>\n",
       "      <th>id</th>\n",
       "      <th></th>\n",
       "      <th></th>\n",
       "      <th></th>\n",
       "      <th></th>\n",
       "      <th></th>\n",
       "      <th></th>\n",
       "      <th></th>\n",
       "      <th></th>\n",
       "      <th></th>\n",
       "    </tr>\n",
       "  </thead>\n",
       "  <tbody>\n",
       "    <tr>\n",
       "      <th>BEN</th>\n",
       "      <td>Benin</td>\n",
       "      <td>False</td>\n",
       "      <td>2.63230</td>\n",
       "      <td>6.47790</td>\n",
       "      <td>SSF</td>\n",
       "      <td>SSA</td>\n",
       "      <td>IDX</td>\n",
       "      <td>LMC</td>\n",
       "      <td>Porto-Novo</td>\n",
       "    </tr>\n",
       "    <tr>\n",
       "      <th>CAN</th>\n",
       "      <td>Canada</td>\n",
       "      <td>False</td>\n",
       "      <td>-75.69190</td>\n",
       "      <td>45.42150</td>\n",
       "      <td>NAC</td>\n",
       "      <td></td>\n",
       "      <td>LNX</td>\n",
       "      <td>HIC</td>\n",
       "      <td>Ottawa</td>\n",
       "    </tr>\n",
       "    <tr>\n",
       "      <th>FRA</th>\n",
       "      <td>France</td>\n",
       "      <td>False</td>\n",
       "      <td>2.35097</td>\n",
       "      <td>48.85660</td>\n",
       "      <td>ECS</td>\n",
       "      <td></td>\n",
       "      <td>LNX</td>\n",
       "      <td>HIC</td>\n",
       "      <td>Paris</td>\n",
       "    </tr>\n",
       "    <tr>\n",
       "      <th>RWA</th>\n",
       "      <td>Rwanda</td>\n",
       "      <td>False</td>\n",
       "      <td>30.05870</td>\n",
       "      <td>-1.95325</td>\n",
       "      <td>SSF</td>\n",
       "      <td>SSA</td>\n",
       "      <td>IDX</td>\n",
       "      <td>LIC</td>\n",
       "      <td>Kigali</td>\n",
       "    </tr>\n",
       "    <tr>\n",
       "      <th>TGO</th>\n",
       "      <td>Togo</td>\n",
       "      <td>False</td>\n",
       "      <td>1.22550</td>\n",
       "      <td>6.12280</td>\n",
       "      <td>SSF</td>\n",
       "      <td>SSA</td>\n",
       "      <td>IDX</td>\n",
       "      <td>LIC</td>\n",
       "      <td>Lome</td>\n",
       "    </tr>\n",
       "  </tbody>\n",
       "</table>\n",
       "</div>"
      ],
      "text/plain": [
       "       name  aggregate  longitude  latitude region adminregion lendingType  \\\n",
       "id                                                                           \n",
       "BEN   Benin      False    2.63230   6.47790    SSF         SSA         IDX   \n",
       "CAN  Canada      False  -75.69190  45.42150    NAC                     LNX   \n",
       "FRA  France      False    2.35097  48.85660    ECS                     LNX   \n",
       "RWA  Rwanda      False   30.05870  -1.95325    SSF         SSA         IDX   \n",
       "TGO    Togo      False    1.22550   6.12280    SSF         SSA         IDX   \n",
       "\n",
       "    incomeLevel capitalCity  \n",
       "id                           \n",
       "BEN         LMC  Porto-Novo  \n",
       "CAN         HIC      Ottawa  \n",
       "FRA         HIC       Paris  \n",
       "RWA         LIC      Kigali  \n",
       "TGO         LIC        Lome  "
      ]
     },
     "execution_count": 7,
     "metadata": {},
     "output_type": "execute_result"
    }
   ],
   "source": [
    "wb.economy.DataFrame(countries_compare)"
   ]
  },
  {
   "cell_type": "code",
   "execution_count": null,
   "id": "d4e69a39",
   "metadata": {},
   "outputs": [],
   "source": []
  },
  {
   "cell_type": "code",
   "execution_count": null,
   "id": "38661ac2",
   "metadata": {},
   "outputs": [],
   "source": [
    "wb.data.DataFrame(['NY.GDP.PCAP.KD.ZG', 'NY.GDP.MKTP.KD.ZG', 'SI.SPR.PCAP.ZG', 'GC.DOD.TOTL.GD.ZS'], \n",
    "                    economy = countries_compare,\n",
    "               \n",
    "                    timeColumns = True,\n",
    "                    labels = True\n",
    "                    )"
   ]
  },
  {
   "cell_type": "code",
   "execution_count": null,
   "id": "21711964",
   "metadata": {},
   "outputs": [],
   "source": [
    "Croissance_PIB_HA =wb.data.DataFrame('NY.GDP.PCAP.KD.ZG', \n",
    "                    economy = countries_compare, \n",
    "                    time = range(2000, 2022), numericTimeKeys = True,\n",
    "                    labels = True).set_index('Country')\n",
    "Croissance_PIB_HA"
   ]
  },
  {
   "cell_type": "code",
   "execution_count": null,
   "id": "393b5ce0",
   "metadata": {},
   "outputs": [],
   "source": [
    "list_values_Croissance_PIB_HA = []\n",
    "# Croissance du PIB par habitant\n",
    "Croissance_PIB_HA=wb.data.DataFrame('NY.GDP.PCAP.KD.ZG', \n",
    "                    economy = countries_compare,\n",
    "                      \n",
    "                    time = range(1990, 2022), numericTimeKeys = True,\n",
    "                    labels = True).set_index('Country')\n",
    "\n",
    "for (column_name, column_data) in Croissance_PIB_HA.items():\n",
    "\n",
    "    list_values_Croissance_PIB_HA.append(column_data.values)\n",
    "    \n",
    "list_values_Croissance_PIB_HA "
   ]
  },
  {
   "cell_type": "code",
   "execution_count": null,
   "id": "f740e7b3",
   "metadata": {},
   "outputs": [],
   "source": [
    "wb.data.DataFrame('NY.GDP.PCAP.KD.ZG', \n",
    "                    economy = countries_compare, \n",
    "                    time = range(2000, 2022), numericTimeKeys = True,\n",
    "                    labels = True).set_index('Country').transpose().plot(title='Croissance PIB par Habitant');"
   ]
  },
  {
   "cell_type": "code",
   "execution_count": null,
   "id": "50da733e",
   "metadata": {},
   "outputs": [],
   "source": [
    "wb.data.DataFrame('NY.GDP.PCAP.KD.ZG', \n",
    "                    economy = countries_compare, \n",
    "                    time = range(2005, 2008), numericTimeKeys = True,\n",
    "                    labels = True).set_index('Country').transpose().plot(title='Croissance du PIB (% annuel)'); \n",
    "#avant crise éconoique mondiale"
   ]
  },
  {
   "cell_type": "code",
   "execution_count": null,
   "id": "499639ad",
   "metadata": {},
   "outputs": [],
   "source": [
    "wb.data.DataFrame('NY.GDP.PCAP.KD.ZG', \n",
    "                    economy = countries_compare, \n",
    "                    time = range(2008, 2010), numericTimeKeys = True,\n",
    "                    labels = True).set_index('Country').transpose().plot(title='Croissance du PIB (% annuel)');\n",
    "#période crise économique"
   ]
  },
  {
   "cell_type": "code",
   "execution_count": null,
   "id": "9b359562",
   "metadata": {},
   "outputs": [],
   "source": [
    "wb.data.DataFrame('NY.GDP.PCAP.KD.ZG', \n",
    "                    economy = countries_compare, \n",
    "                    time = range(2020, 2022), numericTimeKeys = True,\n",
    "                    labels = True).set_index('Country').transpose().plot(title='Croissance du PIB (% annuel)');\n",
    "#période covid19"
   ]
  },
  {
   "cell_type": "code",
   "execution_count": null,
   "id": "22917c8c",
   "metadata": {},
   "outputs": [],
   "source": []
  },
  {
   "cell_type": "code",
   "execution_count": null,
   "id": "810f463f",
   "metadata": {},
   "outputs": [],
   "source": [
    "# Croissance du PIB (% annuel). NY.GDP.MKTP.KD.ZG"
   ]
  },
  {
   "cell_type": "code",
   "execution_count": null,
   "id": "5ced35fc",
   "metadata": {},
   "outputs": [],
   "source": [
    "Croissance_PIB_annuel =wb.data.DataFrame('NY.GDP.MKTP.KD.ZG', \n",
    "                    economy = countries_compare, \n",
    "                    time = range(1990, 2022), numericTimeKeys = True,\n",
    "                    labels = True).set_index('Country')\n",
    "Croissance_PIB_annuel"
   ]
  },
  {
   "cell_type": "code",
   "execution_count": null,
   "id": "2d4c54e5",
   "metadata": {},
   "outputs": [],
   "source": [
    "list_values_Croissance_PIB_annuel = []\n",
    "# Croissance du PIB par habitant\n",
    "Croissance_PIB_annuel=wb.data.DataFrame('NY.GDP.MKTP.KD.ZG', \n",
    "                    economy = countries_compare,\n",
    "                      \n",
    "                    time = range(1990, 2022), numericTimeKeys = True,\n",
    "                    labels = True).set_index('Country')\n",
    "\n",
    "for (column_name, column_data) in Croissance_PIB_annuel.items():\n",
    "\n",
    "    list_values_Croissance_PIB_annuel.append(column_data.values)\n",
    "    \n",
    "list_values_Croissance_PIB_annuel "
   ]
  },
  {
   "cell_type": "code",
   "execution_count": null,
   "id": "fee35ef6",
   "metadata": {},
   "outputs": [],
   "source": [
    "wb.data.DataFrame('NY.GDP.MKTP.KD.ZG', \n",
    "                    economy = countries_compare, \n",
    "                    time = range(1990, 2021), numericTimeKeys = True,\n",
    "                    labels = True).set_index('Country').transpose().plot(title='Croissance du PIB (% annuel)');"
   ]
  },
  {
   "cell_type": "code",
   "execution_count": null,
   "id": "2b33e749",
   "metadata": {},
   "outputs": [],
   "source": [
    "wb.data.DataFrame('NY.GDP.MKTP.KD.ZG', \n",
    "                    economy = countries_compare, \n",
    "                    time = range(2005, 2008), numericTimeKeys = True,\n",
    "                    labels = True).set_index('Country').transpose().plot(title='Croissance du PIB (% annuel)'); \n",
    "#avant crise éconoique mondiale"
   ]
  },
  {
   "cell_type": "code",
   "execution_count": null,
   "id": "dfcc379d",
   "metadata": {},
   "outputs": [],
   "source": [
    "wb.data.DataFrame('NY.GDP.MKTP.KD.ZG', \n",
    "                    economy = countries_compare, \n",
    "                    time = range(2008, 2010), numericTimeKeys = True,\n",
    "                    labels = True).set_index('Country').transpose().plot(title='Croissance du PIB (% annuel)');\n",
    "#période crise économique"
   ]
  },
  {
   "cell_type": "code",
   "execution_count": 26,
   "id": "3d4b2b9c",
   "metadata": {
    "scrolled": true
   },
   "outputs": [
    {
     "data": {
      "text/html": [
       "<div>\n",
       "<style scoped>\n",
       "    .dataframe tbody tr th:only-of-type {\n",
       "        vertical-align: middle;\n",
       "    }\n",
       "\n",
       "    .dataframe tbody tr th {\n",
       "        vertical-align: top;\n",
       "    }\n",
       "\n",
       "    .dataframe thead th {\n",
       "        text-align: right;\n",
       "    }\n",
       "</style>\n",
       "<table border=\"1\" class=\"dataframe\">\n",
       "  <thead>\n",
       "    <tr style=\"text-align: right;\">\n",
       "      <th></th>\n",
       "      <th></th>\n",
       "      <th>Country</th>\n",
       "      <th>Time</th>\n",
       "      <th>NY.GDP.MKTP.KD.ZG</th>\n",
       "    </tr>\n",
       "    <tr>\n",
       "      <th>economy</th>\n",
       "      <th>time</th>\n",
       "      <th></th>\n",
       "      <th></th>\n",
       "      <th></th>\n",
       "    </tr>\n",
       "  </thead>\n",
       "  <tbody>\n",
       "    <tr>\n",
       "      <th>FRA</th>\n",
       "      <th>YR2020</th>\n",
       "      <td>France</td>\n",
       "      <td>2020</td>\n",
       "      <td>-7.540459</td>\n",
       "    </tr>\n",
       "    <tr>\n",
       "      <th>CAN</th>\n",
       "      <th>YR2020</th>\n",
       "      <td>Canada</td>\n",
       "      <td>2020</td>\n",
       "      <td>-5.074358</td>\n",
       "    </tr>\n",
       "    <tr>\n",
       "      <th>RWA</th>\n",
       "      <th>YR2020</th>\n",
       "      <td>Rwanda</td>\n",
       "      <td>2020</td>\n",
       "      <td>-3.376517</td>\n",
       "    </tr>\n",
       "    <tr>\n",
       "      <th>TGO</th>\n",
       "      <th>YR2020</th>\n",
       "      <td>Togo</td>\n",
       "      <td>2020</td>\n",
       "      <td>2.162287</td>\n",
       "    </tr>\n",
       "    <tr>\n",
       "      <th>BEN</th>\n",
       "      <th>YR2020</th>\n",
       "      <td>Benin</td>\n",
       "      <td>2020</td>\n",
       "      <td>3.848792</td>\n",
       "    </tr>\n",
       "    <tr>\n",
       "      <th>CAN</th>\n",
       "      <th>YR2021</th>\n",
       "      <td>Canada</td>\n",
       "      <td>2021</td>\n",
       "      <td>5.011801</td>\n",
       "    </tr>\n",
       "    <tr>\n",
       "      <th>TGO</th>\n",
       "      <th>YR2021</th>\n",
       "      <td>Togo</td>\n",
       "      <td>2021</td>\n",
       "      <td>5.991569</td>\n",
       "    </tr>\n",
       "    <tr>\n",
       "      <th>FRA</th>\n",
       "      <th>YR2021</th>\n",
       "      <td>France</td>\n",
       "      <td>2021</td>\n",
       "      <td>6.435210</td>\n",
       "    </tr>\n",
       "    <tr>\n",
       "      <th>BEN</th>\n",
       "      <th>YR2021</th>\n",
       "      <td>Benin</td>\n",
       "      <td>2021</td>\n",
       "      <td>7.155452</td>\n",
       "    </tr>\n",
       "    <tr>\n",
       "      <th>RWA</th>\n",
       "      <th>YR2021</th>\n",
       "      <td>Rwanda</td>\n",
       "      <td>2021</td>\n",
       "      <td>10.875771</td>\n",
       "    </tr>\n",
       "  </tbody>\n",
       "</table>\n",
       "</div>"
      ],
      "text/plain": [
       "               Country  Time  NY.GDP.MKTP.KD.ZG\n",
       "economy time                                   \n",
       "FRA     YR2020  France  2020          -7.540459\n",
       "CAN     YR2020  Canada  2020          -5.074358\n",
       "RWA     YR2020  Rwanda  2020          -3.376517\n",
       "TGO     YR2020    Togo  2020           2.162287\n",
       "BEN     YR2020   Benin  2020           3.848792\n",
       "CAN     YR2021  Canada  2021           5.011801\n",
       "TGO     YR2021    Togo  2021           5.991569\n",
       "FRA     YR2021  France  2021           6.435210\n",
       "BEN     YR2021   Benin  2021           7.155452\n",
       "RWA     YR2021  Rwanda  2021          10.875771"
      ]
     },
     "execution_count": 26,
     "metadata": {},
     "output_type": "execute_result"
    }
   ],
   "source": [
    "# Using graph_objects\n",
    "import plotly.graph_objects as go\n",
    "import pandas as pd\n",
    "\n",
    "df = wb.data.DataFrame(['NY.GDP.MKTP.KD.ZG'], economy = countries_compare,\n",
    "                                time=range(2020, 2022),\n",
    "                                labels=True,\n",
    "                                skipAggs=True, \n",
    "                                skipBlanks=True, \n",
    "                                columns='series').sort_values(by=['NY.GDP.MKTP.KD.ZG'])\n",
    "fig = go.Figure([go.Scatter(x=df['Time'], y=df['NY.GDP.MKTP.KD.ZG'])])\n",
    "# fig.show()\n",
    "df"
   ]
  },
  {
   "cell_type": "code",
   "execution_count": 83,
   "id": "b70c6350",
   "metadata": {},
   "outputs": [
    {
     "data": {
      "text/html": [
       "<div>\n",
       "<style scoped>\n",
       "    .dataframe tbody tr th:only-of-type {\n",
       "        vertical-align: middle;\n",
       "    }\n",
       "\n",
       "    .dataframe tbody tr th {\n",
       "        vertical-align: top;\n",
       "    }\n",
       "\n",
       "    .dataframe thead th {\n",
       "        text-align: right;\n",
       "    }\n",
       "</style>\n",
       "<table border=\"1\" class=\"dataframe\">\n",
       "  <thead>\n",
       "    <tr style=\"text-align: right;\">\n",
       "      <th>Country</th>\n",
       "      <th>Benin</th>\n",
       "      <th>Canada</th>\n",
       "      <th>France</th>\n",
       "      <th>Rwanda</th>\n",
       "      <th>Togo</th>\n",
       "    </tr>\n",
       "    <tr>\n",
       "      <th>Time</th>\n",
       "      <th></th>\n",
       "      <th></th>\n",
       "      <th></th>\n",
       "      <th></th>\n",
       "      <th></th>\n",
       "    </tr>\n",
       "  </thead>\n",
       "  <tbody>\n",
       "    <tr>\n",
       "      <th>2018</th>\n",
       "      <td>6.697254</td>\n",
       "      <td>2.777041</td>\n",
       "      <td>1.865066</td>\n",
       "      <td>8.536158</td>\n",
       "      <td>4.795183</td>\n",
       "    </tr>\n",
       "    <tr>\n",
       "      <th>2019</th>\n",
       "      <td>6.865687</td>\n",
       "      <td>1.888224</td>\n",
       "      <td>1.842972</td>\n",
       "      <td>9.462286</td>\n",
       "      <td>4.922833</td>\n",
       "    </tr>\n",
       "    <tr>\n",
       "      <th>2020</th>\n",
       "      <td>3.848792</td>\n",
       "      <td>-5.074358</td>\n",
       "      <td>-7.540459</td>\n",
       "      <td>-3.376517</td>\n",
       "      <td>2.162287</td>\n",
       "    </tr>\n",
       "    <tr>\n",
       "      <th>2021</th>\n",
       "      <td>7.155452</td>\n",
       "      <td>5.011801</td>\n",
       "      <td>6.435210</td>\n",
       "      <td>10.875771</td>\n",
       "      <td>5.991569</td>\n",
       "    </tr>\n",
       "  </tbody>\n",
       "</table>\n",
       "</div>"
      ],
      "text/plain": [
       "Country     Benin    Canada    France     Rwanda      Togo\n",
       "Time                                                      \n",
       "2018     6.697254  2.777041  1.865066   8.536158  4.795183\n",
       "2019     6.865687  1.888224  1.842972   9.462286  4.922833\n",
       "2020     3.848792 -5.074358 -7.540459  -3.376517  2.162287\n",
       "2021     7.155452  5.011801  6.435210  10.875771  5.991569"
      ]
     },
     "execution_count": 83,
     "metadata": {},
     "output_type": "execute_result"
    }
   ],
   "source": [
    "df = wb.data.DataFrame(['NY.GDP.MKTP.KD.ZG'], \n",
    "                                economy = countries_compare,\n",
    "                                time=range(2018, 2022),\n",
    "                                labels=True,\n",
    "                                skipAggs=True, \n",
    "                                skipBlanks=True, \n",
    "                       columns='series'\n",
    "                               ).sort_values(by=['NY.GDP.MKTP.KD.ZG'])\n",
    "df.head() # set_index('NY.GDP.MKTP.KD.ZG')\n",
    "\n",
    "df_wide = df.pivot(index=\"Time\", columns=\"Country\", values=\"NY.GDP.MKTP.KD.ZG\")\n",
    "df_wide.head()"
   ]
  },
  {
   "cell_type": "code",
   "execution_count": 84,
   "id": "ee0bb72e",
   "metadata": {},
   "outputs": [
    {
     "data": {
      "text/plain": [
       "<Axes: xlabel='Time'>"
      ]
     },
     "execution_count": 84,
     "metadata": {},
     "output_type": "execute_result"
    },
    {
     "data": {
      "image/png": "[encoded data removed]",
      "text/plain": [
       "<Figure size 640x480 with 1 Axes>"
      ]
     },
     "metadata": {},
     "output_type": "display_data"
    }
   ],
   "source": [
    "sns.lineplot(data=df_wide)"
   ]
  },
  {
   "cell_type": "code",
   "execution_count": null,
   "id": "ee62524c",
   "metadata": {
    "scrolled": true
   },
   "outputs": [],
   "source": [
    "# wb.data.DataFrame('NY.GDP.MKTP.KD.ZG', \n",
    "#                     economy = countries_compare, \n",
    "#                     time = range(2020, 2022), numericTimeKeys = True,\n",
    "#                     labels = True).set_index('Country')#.transpose().plot(title='Croissance du PIB (% annuel)')\n",
    "\n",
    "wb.data.DataFrame(['NY.GDP.MKTP.KD.ZG'], economy = countries_compare,\n",
    "                                time=range(2020, 2022),\n",
    "                                labels=True,\n",
    "                                skipAggs=True, \n",
    "                                skipBlanks=True, \n",
    "                                columns='series').sort_values(by=['time']).plot(title='Croissance du PIB (% annuel)')\n",
    "#période covid19"
   ]
  },
  {
   "cell_type": "code",
   "execution_count": null,
   "id": "4c577df9",
   "metadata": {},
   "outputs": [],
   "source": []
  },
  {
   "cell_type": "code",
   "execution_count": null,
   "id": "abdefd1b",
   "metadata": {},
   "outputs": [],
   "source": [
    "# Taux de croissance moyen annualisé du niveau de vie par habitant, population totale (%). SI.SPR.PCAP.ZG"
   ]
  },
  {
   "cell_type": "code",
   "execution_count": null,
   "id": "b7851ff0",
   "metadata": {},
   "outputs": [],
   "source": [
    "Croissance_annuel_pop_tot =wb.data.DataFrame('SI.SPR.PCAP.ZG', \n",
    "                    economy = countries_compare, \n",
    "                    time = range(2000, 2022), numericTimeKeys = True,\n",
    "                    labels = True).set_index('Country')\n",
    "Croissance_annuel_pop_tot"
   ]
  },
  {
   "cell_type": "code",
   "execution_count": null,
   "id": "5b6e777a",
   "metadata": {},
   "outputs": [],
   "source": [
    "list_values_Croissance_annuel_pop_tot = []\n",
    "\n",
    "Croissance_annuel_pop_tot=wb.data.DataFrame('EN.POP.DNST', \n",
    "                    economy = countries_compare,\n",
    "                      \n",
    "                    time = range(1990, 2022), numericTimeKeys = True,\n",
    "                    labels = True).set_index('Country')\n",
    "\n",
    "for (column_name, column_data) in Croissance_annuel_pop_tot.items():\n",
    "\n",
    "    list_values_Croissance_annuel_pop_tot.append(column_data.values)\n",
    "    \n",
    "Croissance_annuel_pop_tot"
   ]
  },
  {
   "cell_type": "code",
   "execution_count": null,
   "id": "43e53cf6",
   "metadata": {},
   "outputs": [],
   "source": [
    "wb.data.DataFrame('SI.SPR.PCAP.ZG', \n",
    "                    economy = countries_compare, \n",
    "                    time = range(1990, 2022), numericTimeKeys = True,\n",
    "                    labels = True).set_index('Country').transpose().plot(title='Taux de croissance moyen annualisé du niveau de vie par habitant');"
   ]
  },
  {
   "cell_type": "code",
   "execution_count": null,
   "id": "c6075867",
   "metadata": {},
   "outputs": [],
   "source": [
    "#Total de dette extérieure (% du RNB). DT.TDS.DECT.GN.ZS"
   ]
  },
  {
   "cell_type": "code",
   "execution_count": null,
   "id": "4eb8ff80",
   "metadata": {
    "scrolled": true
   },
   "outputs": [],
   "source": [
    "Dette_gouv_central =wb.data.DataFrame('DT.TDS.DECT.GN.ZS', \n",
    "                    economy = countries_compare, \n",
    "                    time = range(1990, 2022), numericTimeKeys = True,\n",
    "                    labels = True).set_index('Country')\n",
    "Dette_gouv_central"
   ]
  },
  {
   "cell_type": "code",
   "execution_count": null,
   "id": "ca32bcfc",
   "metadata": {},
   "outputs": [],
   "source": [
    "list_values_Croissance_annuel_pop_tot = []\n",
    "\n",
    "Croissance_annuel_pop_tot=wb.data.DataFrame('SI.SPR.PCAP.ZG', \n",
    "                    economy = countries_compare,\n",
    "                      \n",
    "                    time = range(1990, 2022), numericTimeKeys = True,\n",
    "                    labels = True).set_index('Country')\n",
    "\n",
    "for (column_name, column_data) in Croissance_annuel_pop_tot.items():\n",
    "\n",
    "    list_values_Croissance_annuel_pop_tot.append(column_data.values)\n",
    "    \n",
    "list_values_Croissance_annuel_pop_tot "
   ]
  },
  {
   "cell_type": "code",
   "execution_count": null,
   "id": "bc9d06e8",
   "metadata": {
    "scrolled": true
   },
   "outputs": [],
   "source": [
    "list_values_Dette_gouv_central = []\n",
    "\n",
    "Dette_gouv_central=wb.data.DataFrame('DT.TDS.DECT.GN.ZS', \n",
    "                    economy = countries_compare,\n",
    "                      \n",
    "                    time = range(1990, 2022), numericTimeKeys = True,\n",
    "                    labels = True).set_index('Country')\n",
    "\n",
    "for (column_name, column_data) in Dette_gouv_central.items():\n",
    "\n",
    "    list_values_Dette_gouv_central.append(column_data.values)\n",
    "    \n",
    "list_values_Dette_gouv_central"
   ]
  },
  {
   "cell_type": "code",
   "execution_count": null,
   "id": "3f280817",
   "metadata": {},
   "outputs": [],
   "source": [
    "wb.data.DataFrame('DT.TDS.DECT.GN.ZS', \n",
    "                    economy = countries_compare, \n",
    "                    time = range(2000, 2022), numericTimeKeys = True,\n",
    "                    labels = True).set_index('Country').transpose().plot(title='Total de dette extérieure');"
   ]
  },
  {
   "cell_type": "code",
   "execution_count": null,
   "id": "c7da1a5c",
   "metadata": {},
   "outputs": [],
   "source": []
  },
  {
   "cell_type": "code",
   "execution_count": null,
   "id": "68c3c9dd",
   "metadata": {},
   "outputs": [],
   "source": [
    "wb.data.DataFrame('DT.TDS.DECT.GN.ZS', \n",
    "                    economy = countries_compare, \n",
    "                    time = range(2005, 2010), numericTimeKeys = True,\n",
    "                    labels = True).set_index('Country').transpose().plot(title='Total de dette extérieure entre 2005 et 2010');"
   ]
  },
  {
   "cell_type": "code",
   "execution_count": null,
   "id": "13f2f4c2",
   "metadata": {},
   "outputs": [],
   "source": []
  }
 ],
 "metadata": {
  "kernelspec": {
   "display_name": "Python 3 (ipykernel)",
   "language": "python",
   "name": "python3"
  },
  "language_info": {
   "codemirror_mode": {
    "name": "ipython",
    "version": 3
   },
   "file_extension": ".py",
   "mimetype": "text/x-python",
   "name": "python",
   "nbconvert_exporter": "python",
   "pygments_lexer": "ipython3",
   "version": "3.10.9"
  }
 },
 "nbformat": 4,
 "nbformat_minor": 5
}
