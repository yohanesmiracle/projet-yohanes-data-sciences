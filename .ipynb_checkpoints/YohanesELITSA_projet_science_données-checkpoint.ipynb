{
 "cells": [
  {
   "cell_type": "markdown",
   "id": "cbcc1fbd",
   "metadata": {},
   "source": [
    "---\n",
    "\n",
    "\n",
    "<img decoding=\"async\" src=\"https://salonimmigration.com/wp-content/uploads/2021/07/Universite_Teluq_Logo_255x158-1.png\" alt=\"Logo Universite TELUQ\" width=\"555\" height=\"458\" class=\"size-full wp-image-1922 alignleft\" />\n",
    "\n",
    "\n",
    "Yohanes Elitsa\n",
    "---\n",
    "\n",
    "\n",
    "\n",
    "\n",
    "# c'est ici que mon code commence\n",
    "\n"
   ]
  },
  {
   "cell_type": "markdown",
   "id": "2669dade",
   "metadata": {},
   "source": [
    "#### j'importe les librairies dont j'ai besoin pour pouvoir bien exécuter mon code"
   ]
  },
  {
   "cell_type": "code",
   "execution_count": null,
   "id": "b212605b",
   "metadata": {},
   "outputs": [],
   "source": [
    "import wbgapi as wb\n",
    "import requests\n",
    "import plotly.express as px\n",
    "import pandas as pd\n",
    "import matplotlib.pyplot as plt\n",
    "import numpy as np\n",
    "import plotly.graph_objects as go\n",
    "import seaborn as sns\n",
    "from sklearn.preprocessing import StandardScaler\n",
    "from sklearn.cluster import KMeans\n",
    "import numpy as np\n",
    "from math import pi\n",
    "from sklearn.linear_model import LinearRegression\n",
    "from sklearn.model_selection import train_test_split\n",
    "from sklearn.metrics import mean_squared_error, r2_score\n",
    "from sklearn.impute import SimpleImputer\n",
    "from sklearn.preprocessing import MinMaxScaler\n",
    "from tensorflow.keras.models import Sequential\n",
    "from tensorflow.keras.layers import Dense\n",
    "from tensorflow.python.tools import module_util as _module_util\n",
    "from sklearn.metrics import mean_squared_error, mean_absolute_error, r2_score"
   ]
  },
  {
   "cell_type": "markdown",
   "id": "9592d459",
   "metadata": {},
   "source": [
    "#### affichons les id des pays dans la base de données de la banque mondiale"
   ]
  },
  {
   "cell_type": "code",
   "execution_count": null,
   "id": "51e16d5a",
   "metadata": {},
   "outputs": [],
   "source": [
    "wb.economy.DataFrame()"
   ]
  },
  {
   "cell_type": "code",
   "execution_count": null,
   "id": "fcef1d79",
   "metadata": {},
   "outputs": [],
   "source": [
    "wb.economy.info()"
   ]
  },
  {
   "cell_type": "markdown",
   "id": "dd453a56",
   "metadata": {},
   "source": [
    "#### je crée un itérateur qui me permet de sélectionner l'id du pays que je veux analyser. l'objectif premier était de le faire seulement sur le Togo. Mais il est plus intéressant de produire un code qui permet d'analyser tous les pays grâce à leur id"
   ]
  },
  {
   "cell_type": "code",
   "execution_count": null,
   "id": "03d27109",
   "metadata": {},
   "outputs": [],
   "source": [
    "df_country = wb.economy.DataFrame()\n",
    "\n",
    "table = wb.economy.info()\n",
    "table_dict = vars(table)\n",
    "df_source = pd.DataFrame(table_dict.get('items')) # pour avoir la liste des pays et les id\n",
    "\n",
    "type(df_source)\n",
    "print((df_country))\n",
    "df = pd.DataFrame(df_source, columns=['id', 'value']) \n",
    "\n",
    "lis_country = []\n",
    "type(lis_country)\n",
    "for index, row in df.iterrows():\n",
    "   \n",
    "    lis_country.append((row[\"id\"], row[\"value\"]))\n",
    "    \n",
    "code_country = ''\n",
    "country = ''\n",
    "\n",
    "def check_code_country(code_input_country : str) -> True:\n",
    "    if any(code_input_country in code for code in lis_country):\n",
    "        global code_country, country\n",
    "        for i in range(len(lis_country)):\n",
    "            if lis_country[i][0] == value_input_country:\n",
    "                print(f\"Vous avez choisi ce pays:  {lis_country[i][1]} - {code_input_country}\") \n",
    "                code_country, country = code_input_country, lis_country[i][1]\n",
    "                return True\n",
    "    return False\n"
   ]
  },
  {
   "cell_type": "markdown",
   "id": "af8a74ce",
   "metadata": {},
   "source": [
    "## Enter country code:  \n",
    "- Example: TGO, CAN, FRA, USA\n",
    "\n",
    "# veuillez entrer tgo pour le Togo, qui va servir de base de projet"
   ]
  },
  {
   "cell_type": "code",
   "execution_count": null,
   "id": "eb407f99",
   "metadata": {},
   "outputs": [],
   "source": [
    "value_input_country = str(input(\"Please, enter country code: \")).upper()\n",
    "\n",
    "\n",
    "check_code_country(value_input_country)\n",
    "print(code_country, country)"
   ]
  },
  {
   "cell_type": "markdown",
   "id": "8ddfc486",
   "metadata": {},
   "source": [
    "#### nous allons maintenant analyser les données du pays choisi en fonction de certains indicateurs."
   ]
  },
  {
   "cell_type": "markdown",
   "id": "087952e6",
   "metadata": {},
   "source": [
    "# Question 1 : faisons une analyse temporelle de certains indicateurs sur la qualtié de vie au Togo: \n",
    "\n",
    "NY.GDP.PCAP.PP.CD ### GDP per capita, PPP (current international $) (PIB par habitant\\\n",
    "SP.DYN.LE00.IN ### Life expectancy at birth, total (years) (espérance de vie à la naissance, total (années))\\\n",
    "EN.ATM.CO2E.PC ### CO2 emissions (metric tons per capita) (émissions de CO2 (tonnes métriques par habitant))\n",
    "\n",
    "ces trois indicateurs vont me permettre d'évaluer le développement économique et la qualité de vie du Togo, ainsi que l'impact environnemental de cette croissance."
   ]
  },
  {
   "cell_type": "markdown",
   "id": "1e8d12fd",
   "metadata": {},
   "source": [
    "### dataframe du pib par habitant"
   ]
  },
  {
   "cell_type": "code",
   "execution_count": null,
   "id": "43870ef4",
   "metadata": {},
   "outputs": [],
   "source": [
    "gdp_indicator = wb.data.DataFrame('NY.GDP.PCAP.PP.CD', code_country, range(1990, 2022)) \n",
    "gdp_indicator"
   ]
  },
  {
   "cell_type": "markdown",
   "id": "9c6ffc94",
   "metadata": {},
   "source": [
    "### dataframe de l'espérance de vie"
   ]
  },
  {
   "cell_type": "code",
   "execution_count": null,
   "id": "10a350e1",
   "metadata": {},
   "outputs": [],
   "source": [
    "life_expectancy_indicator = wb.data.DataFrame('SP.DYN.LE00.IN', code_country, range(1990, 2022)) \n",
    "life_expectancy_indicator"
   ]
  },
  {
   "cell_type": "markdown",
   "id": "15772fd9",
   "metadata": {},
   "source": [
    "### dataframe de l'émission de CO2"
   ]
  },
  {
   "cell_type": "code",
   "execution_count": null,
   "id": "1eeb7589",
   "metadata": {},
   "outputs": [],
   "source": [
    "co2_emissions_indicator = wb.data.DataFrame('EN.ATM.CO2E.PC', code_country, range(1990, 2022))  \n",
    "co2_emissions_indicator"
   ]
  },
  {
   "cell_type": "markdown",
   "id": "4580eccd",
   "metadata": {},
   "source": [
    "#### nous allons maintenant extraire les données des indicateurs dans une liste pour pouvoir créer des graphiques"
   ]
  },
  {
   "cell_type": "code",
   "execution_count": null,
   "id": "c512bc23",
   "metadata": {},
   "outputs": [],
   "source": [
    "# liste pour les données du PIB par habitant\n",
    "\n",
    "list_values_gdp = []\n",
    "\n",
    "gdp=gdp_indicator\n",
    "\n",
    "for (column_name, column_data) in gdp.items():\n",
    "\n",
    "    list_values_gdp.append(column_data.values)\n",
    "    \n",
    "list_values_gdp "
   ]
  },
  {
   "cell_type": "code",
   "execution_count": null,
   "id": "9c056307",
   "metadata": {},
   "outputs": [],
   "source": [
    "years=np.arange(1990, 2022)\n",
    "fig, ax1=plt.subplots()\n",
    "\n",
    "ax1.set_xlabel('Year')\n",
    "ax1.set_ylabel(f'GDP per capita in {country}', color='tab:blue')\n",
    "ax1.plot(years, list_values_gdp, color='tab:blue', label=f'GDP per cap in {country}')\n",
    "ax1.tick_params(axis='y', labelcolor='tab:blue')\n",
    "\n",
    "plt.title(f'GDP per capita in {country}')\n",
    "fig.tight_layout()\n",
    "plt.show()"
   ]
  },
  {
   "cell_type": "code",
   "execution_count": null,
   "id": "375328e3",
   "metadata": {},
   "outputs": [],
   "source": [
    "# liste pour les données de l'espérance de vie\n",
    "\n",
    "list_values_life_expectancy = []\n",
    "\n",
    "life_expectancy=life_expectancy_indicator\n",
    "\n",
    "for (column_name, column_data) in life_expectancy.items():\n",
    "\n",
    "    list_values_life_expectancy.append(column_data.values)\n",
    "    \n",
    "list_values_life_expectancy"
   ]
  },
  {
   "cell_type": "code",
   "execution_count": null,
   "id": "6016786e",
   "metadata": {},
   "outputs": [],
   "source": [
    "years=np.arange(1990, 2022)\n",
    "fig, ax1=plt.subplots()\n",
    "\n",
    "ax1.set_xlabel('Year')\n",
    "ax1.set_ylabel(f'Life expectancy at birth in {country}', color='tab:blue')\n",
    "ax1.plot(years, list_values_life_expectancy, color='tab:blue', label= f'Life expectancy at birth in {country}')\n",
    "ax1.tick_params(axis='y', labelcolor='tab:blue')\n",
    "\n",
    "plt.title(f'Life expectancy at birth in {country}')\n",
    "fig.tight_layout()\n",
    "plt.show()"
   ]
  },
  {
   "cell_type": "code",
   "execution_count": null,
   "id": "c2e09954",
   "metadata": {},
   "outputs": [],
   "source": [
    "# liste pour les données de l'émission de CO2\n",
    "\n",
    "list_values_CO2_emissions = []\n",
    "\n",
    "CO2_emissions=co2_emissions_indicator\n",
    "\n",
    "for (column_name, column_data) in CO2_emissions.items():\n",
    "\n",
    "    list_values_CO2_emissions.append(column_data.values)\n",
    "\n",
    "list_values_CO2_emissions"
   ]
  },
  {
   "cell_type": "code",
   "execution_count": null,
   "id": "cada371a",
   "metadata": {},
   "outputs": [],
   "source": [
    "years=np.arange(1990, 2022)\n",
    "fig, ax1=plt.subplots()\n",
    "\n",
    "ax1.set_xlabel('Year')\n",
    "ax1.set_ylabel(f'Émissions de CO2 in {country}', color='tab:blue')\n",
    "ax1.plot(years, list_values_CO2_emissions, color='tab:blue', label=f'Émissions de CO2 in {country}')\n",
    "ax1.tick_params(axis='y', labelcolor='tab:blue')\n",
    "\n",
    "plt.title(f'Émissions de CO2 in {country}')\n",
    "fig.tight_layout()\n",
    "plt.show()"
   ]
  },
  {
   "cell_type": "markdown",
   "id": "e4823eff",
   "metadata": {},
   "source": [
    "## analysons les graphiques des indicateurs, l'un en fonction de l'autre"
   ]
  },
  {
   "cell_type": "markdown",
   "id": "19362f73",
   "metadata": {},
   "source": [
    "#### évolution du PIB et de l'émission du CO2"
   ]
  },
  {
   "cell_type": "code",
   "execution_count": null,
   "id": "e9f6c1bc",
   "metadata": {
    "scrolled": true
   },
   "outputs": [],
   "source": [
    "years=np.arange(1990, 2022)\n",
    "fig, ax1=plt.subplots()\n",
    "\n",
    "ax1.set_xlabel('Year')\n",
    "ax1.set_ylabel(f'GDP per capita in {country}', color='tab:blue')\n",
    "ax1.plot(years, list_values_gdp, color='tab:blue', label=f'GDP per capita in {country}')\n",
    "ax1.tick_params(axis='y', labelcolor='tab:blue')\n",
    "\n",
    "ax2=ax1.twinx()\n",
    "ax2.set_ylabel(f'Émissions de CO2 in {country}', color='tab:red')\n",
    "ax2.plot(years, list_values_CO2_emissions, color='tab:red', label=f'Émissions de CO2 in {country}')\n",
    "ax2.tick_params(axis='y', labelcolor='tab:red')\n",
    "\n",
    "plt.title(f'GDP and CO2 in {country}')\n",
    "fig.tight_layout()\n",
    "plt.show()\n"
   ]
  },
  {
   "cell_type": "markdown",
   "id": "20ce2b62",
   "metadata": {},
   "source": [
    "### regroupons les dataframes en une seule dataframe pour en faire une analyse de correlation"
   ]
  },
  {
   "cell_type": "markdown",
   "id": "2295f141",
   "metadata": {},
   "source": [
    "#### dataframe de PIB par habitant et de l'émission de CO2"
   ]
  },
  {
   "cell_type": "code",
   "execution_count": null,
   "id": "2c1370fe",
   "metadata": {},
   "outputs": [],
   "source": [
    "df = pd.concat([\n",
    "    gdp_indicator,\n",
    "    co2_emissions_indicator\n",
    "]).transpose()\n",
    "\n",
    "df.columns = ['GDP', 'CO2 emissions']\n",
    "df.reset_index(inplace=True)\n",
    "\n",
    "df.rename(columns={'index': 'Year'}, inplace=True)\n",
    "\n",
    "df.describe()"
   ]
  },
  {
   "cell_type": "markdown",
   "id": "5f811ebf",
   "metadata": {},
   "source": [
    "#### transposons les colonnes et renommons les. ensuite changeons l'index en 'Year'. appliquons la matrice de corrélation et affichons la figure"
   ]
  },
  {
   "cell_type": "code",
   "execution_count": null,
   "id": "04ec6571",
   "metadata": {},
   "outputs": [],
   "source": [
    "df = pd.concat([\n",
    "    gdp_indicator,\n",
    "    co2_emissions_indicator\n",
    "]).transpose()\n",
    "\n",
    "df.columns = ['GDP', 'CO2 emissions']\n",
    "df.reset_index(inplace=True)\n",
    "\n",
    "df.rename(columns={'index': 'Year'}, inplace=True)\n",
    "\n",
    "df\n",
    "\n",
    "corr = df.corr()\n",
    "\n",
    "plt.figure(figsize=(16, 6))\n",
    "sns.heatmap(corr, annot=True, fmt=\".2f\", cmap='coolwarm')\n",
    "plt.title(f'Heatmap de la Corrélation des Indicateurs Économiques in {country}')\n",
    "\n",
    "plt.figure(figsize=(16, 6))\n",
    "sns.scatterplot(data=df, x='GDP', y='CO2 emissions')\n",
    "plt.title(f'Graphique de Dispersion entre le PIB et le CO2 in {country}')\n",
    "plt.show()\n"
   ]
  },
  {
   "cell_type": "markdown",
   "id": "1ff0c92a",
   "metadata": {},
   "source": [
    "#### évolution du PIB par habitant et de l'éspérance de vie"
   ]
  },
  {
   "cell_type": "code",
   "execution_count": null,
   "id": "d508de25",
   "metadata": {},
   "outputs": [],
   "source": [
    "\n",
    "years=np.arange(1990, 2022)\n",
    "fig, ax1=plt.subplots()\n",
    "\n",
    "ax1.set_xlabel('Year')\n",
    "ax1.set_ylabel(f'GDP per capita in {country}', color='tab:blue')\n",
    "ax1.plot(years, list_values_gdp, color='tab:green', label=f'GDP per capita in {country}')\n",
    "ax1.tick_params(axis='y', labelcolor='tab:green')\n",
    "\n",
    "ax2=ax1.twinx()\n",
    "ax2.set_ylabel(f'Life expectancy at birth in {country}', color='tab:red')\n",
    "ax2.plot(years, list_values_life_expectancy, color='tab:red', label=f'Life expectancy at birth in {country}')\n",
    "ax2.tick_params(axis='y', labelcolor='tab:red')\n",
    "\n",
    "plt.title(f'GDP and Life expectancy in {country}')\n",
    "fig.tight_layout()\n",
    "plt.show()\n"
   ]
  },
  {
   "cell_type": "markdown",
   "id": "e6b861b7",
   "metadata": {},
   "source": [
    "#### dataframe de PIB par habitant et de l'espérance de vie"
   ]
  },
  {
   "cell_type": "code",
   "execution_count": null,
   "id": "1b14224a",
   "metadata": {},
   "outputs": [],
   "source": [
    "df = pd.concat([\n",
    "    gdp_indicator,\n",
    "    life_expectancy_indicator\n",
    "]).transpose()\n",
    "\n",
    "df.columns = ['GDP', 'Life expectancy']\n",
    "df.reset_index(inplace=True)\n",
    "\n",
    "df.rename(columns={'index': 'Year'}, inplace=True)\n",
    "\n",
    "df.describe()"
   ]
  },
  {
   "cell_type": "code",
   "execution_count": null,
   "id": "98822e47",
   "metadata": {},
   "outputs": [],
   "source": [
    "df = pd.concat([\n",
    "    gdp_indicator,\n",
    "    life_expectancy_indicator\n",
    "]).transpose()\n",
    "\n",
    "df.columns = ['GDP', 'Life expectancy']\n",
    "df.reset_index(inplace=True)\n",
    "\n",
    "df.rename(columns={'index': 'Year'}, inplace=True)\n",
    "\n",
    "corr = df.corr()\n",
    "\n",
    "plt.figure(figsize=(16, 6))\n",
    "sns.heatmap(corr, annot=True, fmt=\".2f\", cmap='coolwarm')\n",
    "plt.title('Heatmap de la Corrélation des Indicateurs Économiques')\n",
    "\n",
    "plt.figure(figsize=(16, 6))\n",
    "sns.scatterplot(data=df, x='GDP', y='Life expectancy')\n",
    "plt.title(f'Graphique de Dispersion entre le PIB par habitant et espérance de vie in {country}')\n",
    "plt.show()\n"
   ]
  },
  {
   "cell_type": "markdown",
   "id": "29d00ff8",
   "metadata": {},
   "source": []
  },
  {
   "cell_type": "code",
   "execution_count": null,
   "id": "5af9035b",
   "metadata": {},
   "outputs": [],
   "source": []
  },
  {
   "cell_type": "markdown",
   "id": "ccf17964",
   "metadata": {},
   "source": [
    "#### évolution du CO2 et de l'éspérance de vie"
   ]
  },
  {
   "cell_type": "code",
   "execution_count": null,
   "id": "1625194e",
   "metadata": {},
   "outputs": [],
   "source": [
    "\n",
    "years=np.arange(1990, 2022)\n",
    "fig, ax1=plt.subplots()\n",
    "\n",
    "ax1.set_xlabel('Year')\n",
    "ax1.set_ylabel(f'Life expectancy at birth in {country}', color='tab:blue')\n",
    "ax1.plot(years, list_values_life_expectancy, color='tab:blue', label=f'Life expectancy at birth in {country}')\n",
    "ax1.tick_params(axis='y', labelcolor='tab:blue')\n",
    "\n",
    "ax2=ax1.twinx()\n",
    "ax2.set_ylabel(f'Émissions de CO2 in {country}', color='tab:red')\n",
    "ax2.plot(years, list_values_CO2_emissions, color='tab:green', label=f'Émissions de CO2 in {country}')\n",
    "ax2.tick_params(axis='y', labelcolor='tab:red')\n",
    "\n",
    "plt.title(f'Life expectancy and Émissions de CO2 in {country}')\n",
    "fig.tight_layout()\n",
    "plt.show() "
   ]
  },
  {
   "cell_type": "markdown",
   "id": "4a75f2b4",
   "metadata": {},
   "source": [
    "#### dataframe de l'espérance de vie et de l'émission de CO2"
   ]
  },
  {
   "cell_type": "code",
   "execution_count": null,
   "id": "1eebbc2a",
   "metadata": {},
   "outputs": [],
   "source": [
    "df = pd.concat([\n",
    "    life_expectancy_indicator,\n",
    "    co2_emissions_indicator\n",
    "]).transpose()\n",
    "\n",
    "df.columns = ['Life expectancy', 'CO2 emissions']\n",
    "df.reset_index(inplace=True)\n",
    "\n",
    "df.rename(columns={'index': 'Year'}, inplace=True)\n",
    "\n",
    "df.describe()"
   ]
  },
  {
   "cell_type": "code",
   "execution_count": null,
   "id": "6381874a",
   "metadata": {},
   "outputs": [],
   "source": [
    "df = pd.concat([\n",
    "    life_expectancy_indicator,\n",
    "    co2_emissions_indicator\n",
    "]).transpose()\n",
    "\n",
    "df.columns = ['Life expectancy', 'CO2 emissions']\n",
    "df.reset_index(inplace=True)\n",
    "\n",
    "df.rename(columns={'index': 'Year'}, inplace=True)\n",
    "\n",
    "corr = df.corr()\n",
    "\n",
    "plt.figure(figsize=(16, 6))\n",
    "sns.heatmap(corr, annot=True, fmt=\".2f\", cmap='coolwarm')\n",
    "plt.title('Heatmap de la Corrélation des Indicateurs Économiques')\n",
    "\n",
    "plt.figure(figsize=(16, 6))\n",
    "sns.scatterplot(data=df, x='Life expectancy', y='CO2 emissions')\n",
    "plt.title(f'Graphique de Dispersion entre espérance de vie et le CO2 in {country}')\n",
    "plt.show()\n"
   ]
  },
  {
   "cell_type": "code",
   "execution_count": null,
   "id": "0d0fad5a",
   "metadata": {},
   "outputs": [],
   "source": []
  },
  {
   "cell_type": "markdown",
   "id": "8652108d",
   "metadata": {},
   "source": [
    "#### évolution du PIB par habitant, de l'espérance de vie et de l'émission du CO2 au Togo"
   ]
  },
  {
   "cell_type": "code",
   "execution_count": null,
   "id": "1e137647",
   "metadata": {},
   "outputs": [],
   "source": [
    "\n",
    "years=np.arange(1990, 2022)\n",
    "fig, ax1=plt.subplots(figsize=(12, 6))\n",
    "\n",
    "ax1.set_xlabel('Year')\n",
    "ax1.set_ylabel(f'GDP per capita in {country}', color='tab:green')\n",
    "ax1.plot(years, list_values_gdp, color='tab:green', label=f'GDP per capita in {country}')\n",
    "ax1.tick_params(axis='y', labelcolor='tab:green')\n",
    "\n",
    "ax2=ax1.twinx()\n",
    "ax2.set_xlabel('Year')\n",
    "ax2.set_ylabel(f'Life expectancy at birth in {country}', color='tab:blue')\n",
    "ax2.plot(years, list_values_life_expectancy, color='tab:blue', label=f'Life expectancy at birth in {country}')\n",
    "ax2.tick_params(axis='y', labelcolor='tab:blue')\n",
    "\n",
    "ax3=ax1.twinx()\n",
    "ax3.spines['right'].set_position(('outward', 60))\n",
    "ax3.set_ylabel(f'Émissions de CO2 in {country}', color='tab:red')\n",
    "ax3.plot(years, list_values_CO2_emissions, color='tab:red', label=f'Émissions de CO2 in {country}')\n",
    "ax3.tick_params(axis='y', labelcolor='tab:red')\n",
    "\n",
    "plt.title(f'GDP and CO2 and life expectancy in {country}')\n",
    "fig.tight_layout()\n",
    "plt.show()\n"
   ]
  },
  {
   "cell_type": "markdown",
   "id": "60d07486",
   "metadata": {},
   "source": [
    "#### dataframe du PIB par habitant, de l'espérance de vie et de l'émission de CO2"
   ]
  },
  {
   "cell_type": "code",
   "execution_count": null,
   "id": "43569ce9",
   "metadata": {},
   "outputs": [],
   "source": [
    "df = pd.concat([\n",
    "    gdp_indicator,\n",
    "    life_expectancy_indicator,\n",
    "    co2_emissions_indicator\n",
    "]).transpose()\n",
    "\n",
    "df.columns = ['GDP', 'Life expectancy', 'CO2 emissions']\n",
    "df.reset_index(inplace=True)\n",
    "\n",
    "df.rename(columns={'index': 'Year'}, inplace=True)\n",
    "\n",
    "df.describe()"
   ]
  },
  {
   "cell_type": "code",
   "execution_count": null,
   "id": "803020b9",
   "metadata": {},
   "outputs": [],
   "source": [
    "df = pd.concat([\n",
    "    gdp_indicator,\n",
    "    life_expectancy_indicator,\n",
    "    co2_emissions_indicator\n",
    "]).transpose()\n",
    "\n",
    "df.columns = ['GDP', 'Life expectancy', 'CO2 emissions']\n",
    "df.reset_index(inplace=True)\n",
    "\n",
    "df.rename(columns={'index': 'Year'}, inplace=True)\n",
    "\n",
    "corr_matrix = df.corr()\n",
    "\n",
    "sns.heatmap(corr_matrix, annot=True, fmt=\".2f\", cmap='coolwarm')\n",
    "plt.title('Correlation Matrix Heatmap')\n",
    "\n",
    "sns.pairplot(df)\n",
    "plt.suptitle(f'Graphique de dispersion entre le PIB par habitant, espérance de vie et émission du CO2 in {country}')\n",
    "plt.show()\n"
   ]
  },
  {
   "cell_type": "markdown",
   "id": "52a66126",
   "metadata": {},
   "source": [
    "# analyse\n",
    "\n",
    "PIB et Espérance de vie :\n",
    "\n",
    "Le graphique montre une tendance positive entre le PIB et l'espérance de vie. Une augmentation du PIB semble être associée à une augmentation de l'espérance de vie. Les meilleures conditions économiques peuvent soutenir une meilleure santé et des infrastructures de soins de santé.\n",
    "\n",
    "\n",
    "PIB et Émissions de CO2 :\n",
    "\n",
    "Il n'y a pas de tendance linéaire distincte, indiquant que la croissance économique au Togo ne s'accompagne pas nécessairement d'une augmentation proportionnelle des émissions de CO2. On pourrait expliquer cela en disant que l'économie du Togo ne repose pas fortement sur des industries à forte intensité de carbone.\n",
    "\n",
    "Espérance de vie et Émissions de CO2 :\n",
    "\n",
    "Il n'y a pas non plus de relation linéaire claire entre l'espérance de vie et les émissions de CO2. Cela suggère que les facteurs affectant l'espérance de vie au Togo pourraient être plus complexes et ne sont pas directement liés aux émissions de CO2 seules. Cela peut impliquer que d'autres facteurs socio-économiques et environnementaux jouent un rôle plus significatif dans la détermination de l'espérance de vie.\n",
    "\n",
    "Histogrammes :\n",
    "\n",
    "Les histogrammes sur la diagonale montrent la distribution de chaque variable. Le PIB semble avoir une distribution bimodale ou multimodale, ce qui peut suggérer des périodes de croissance économique variables ou des changements dans les politiques économiques au fil du temps. \n",
    "\n",
    "L'espérance de vie montre une tendance générale à l'augmentation, ce qui est un signe positif de développement. \n",
    "\n",
    "Les émissions de CO2 ont une distribution assez large, indiquant une variabilité dans les émissions par habitant d'une année à l'autre."
   ]
  },
  {
   "cell_type": "markdown",
   "id": "44c69d52",
   "metadata": {},
   "source": [
    "### affichons un graphique en 3D de la dataframe des trois indicateurs"
   ]
  },
  {
   "cell_type": "code",
   "execution_count": null,
   "id": "fb6c9b15",
   "metadata": {},
   "outputs": [],
   "source": [
    "fig = plt.figure()\n",
    "ax = fig.add_subplot(111, projection='3d')\n",
    "\n",
    "ax.scatter(df['GDP'], df['Life expectancy'], df['CO2 emissions'])\n",
    "\n",
    "ax.set_xlabel('GDP')\n",
    "ax.set_ylabel('Life expectancy')\n",
    "ax.set_zlabel('CO2 emissions')\n",
    "\n",
    "plt.title(f'3D graphique entre le PIB par habitant, espérance de vie et émission du CO2 in {country}')\n",
    "plt.show()"
   ]
  },
  {
   "cell_type": "markdown",
   "id": "339d64e9",
   "metadata": {},
   "source": [
    "# analyse"
   ]
  },
  {
   "cell_type": "markdown",
   "id": "43b841e0",
   "metadata": {},
   "source": [
    "# évolution du PIB et du CO2 du Togo pendant la période de la crise de 2008 : 2005-2010"
   ]
  },
  {
   "cell_type": "code",
   "execution_count": null,
   "id": "3f2a5131",
   "metadata": {},
   "outputs": [],
   "source": [
    "list_values_gdp_crise_2008 = []\n",
    "\n",
    "gdp_crise_2008=wb.data.DataFrame('NY.GDP.PCAP.PP.CD', \n",
    "                    economy = code_country,\n",
    "                      \n",
    "                    time = range(2005, 2010),\n",
    "                    labels = True).set_index('Country')\n",
    "\n",
    "for (column_name, column_data) in gdp_crise_2008.items():\n",
    "\n",
    "    list_values_gdp_crise_2008.append(column_data.values)\n",
    "    \n",
    "list_values_gdp_crise_2008 "
   ]
  },
  {
   "cell_type": "code",
   "execution_count": null,
   "id": "fd945ec2",
   "metadata": {},
   "outputs": [],
   "source": [
    "years=np.arange(2005, 2010)\n",
    "fig, ax1=plt.subplots()\n",
    "\n",
    "ax1.set_xlabel('Year')\n",
    "ax1.set_ylabel(f'GDP per capita in {country}', color='tab:blue')\n",
    "ax1.plot(years, list_values_gdp_crise_2008, color='tab:blue', label=f'GDP per cap in {country}')\n",
    "ax1.tick_params(axis='y', labelcolor='tab:blue')\n",
    "\n",
    "plt.title(f'GDP per capita during 2008 crisis in {country}')\n",
    "fig.tight_layout()\n",
    "plt.show()"
   ]
  },
  {
   "cell_type": "code",
   "execution_count": null,
   "id": "931f462d",
   "metadata": {},
   "outputs": [],
   "source": [
    "list_values_CO2_emissions_crise_2008 = []\n",
    "\n",
    "CO2_emissions_crise_2008=wb.data.DataFrame('EN.ATM.CO2E.PC', \n",
    "                    economy = code_country, \n",
    "                    time = range(2005, 2010),\n",
    "                    labels = True).set_index('Country')\n",
    "\n",
    "\n",
    "for (column_name, column_data) in CO2_emissions_crise_2008.items():\n",
    "\n",
    "    list_values_CO2_emissions_crise_2008.append(column_data.values)\n",
    "\n",
    "list_values_CO2_emissions_crise_2008"
   ]
  },
  {
   "cell_type": "code",
   "execution_count": null,
   "id": "4ab58a2c",
   "metadata": {},
   "outputs": [],
   "source": [
    "years=np.arange(2005, 2010)\n",
    "fig, ax1=plt.subplots()\n",
    "\n",
    "ax1.set_xlabel('Year')\n",
    "ax1.set_ylabel(f'Émissions de CO2 in {country}', color='tab:blue')\n",
    "ax1.plot(years, list_values_CO2_emissions_crise_2008, color='tab:blue', label=f'Émissions de CO2 in {country}')\n",
    "ax1.tick_params(axis='y', labelcolor='tab:blue')\n",
    "\n",
    "plt.title(f'Émissions de CO2 during 2008 crisis in {country}')\n",
    "fig.tight_layout()\n",
    "plt.show()"
   ]
  },
  {
   "cell_type": "code",
   "execution_count": null,
   "id": "1bbb8186",
   "metadata": {},
   "outputs": [],
   "source": [
    "list_values_life_expectancy_crise_2008 = []\n",
    "\n",
    "life_expectancy_crise_2008=wb.data.DataFrame('SP.DYN.LE00.IN', \n",
    "                    economy = code_country, \n",
    "                    time = range(2005, 2010),\n",
    "                    labels = True).set_index('Country')\n",
    "\n",
    "\n",
    "for (column_name, column_data) in life_expectancy_crise_2008.items():\n",
    "\n",
    "    list_values_life_expectancy_crise_2008.append(column_data.values)\n",
    "    \n",
    "list_values_life_expectancy_crise_2008"
   ]
  },
  {
   "cell_type": "code",
   "execution_count": null,
   "id": "fc580170",
   "metadata": {},
   "outputs": [],
   "source": [
    "years=np.arange(2005, 2010)\n",
    "fig, ax1=plt.subplots()\n",
    "\n",
    "ax1.set_xlabel('Year')\n",
    "ax1.set_ylabel(f'Life expectancy at birth in {country}', color='tab:blue')\n",
    "ax1.plot(years, list_values_life_expectancy_crise_2008, color='tab:blue', label= f'Life expectancy at birth in {country}')\n",
    "ax1.tick_params(axis='y', labelcolor='tab:blue')\n",
    "\n",
    "plt.title(f'Life expectancy at birth during 2008 crisis in {country}')\n",
    "fig.tight_layout()\n",
    "plt.show()"
   ]
  },
  {
   "cell_type": "markdown",
   "id": "91d7bebb",
   "metadata": {},
   "source": [
    "#### évolution du PIB par habitant et de l'éspérance de vie de 2005 à 2010"
   ]
  },
  {
   "cell_type": "code",
   "execution_count": null,
   "id": "3be6d001",
   "metadata": {},
   "outputs": [],
   "source": [
    "\n",
    "years=np.arange(2005, 2010)\n",
    "fig, ax1=plt.subplots()\n",
    "\n",
    "ax1.set_xlabel('Year')\n",
    "ax1.set_ylabel(f'GDP per capita in {country}', color='tab:blue')\n",
    "ax1.plot(years, list_values_gdp_crise_2008, color='tab:green', label=f'GDP per capita in {country}')\n",
    "ax1.tick_params(axis='y', labelcolor='tab:green')\n",
    "\n",
    "ax2=ax1.twinx()\n",
    "ax2.set_ylabel(f'Life expectancy at birth in {country}', color='tab:red')\n",
    "ax2.plot(years, list_values_life_expectancy_crise_2008, color='tab:red', label=f'Life expectancy at birth in {country}')\n",
    "ax2.tick_params(axis='y', labelcolor='tab:red')\n",
    "\n",
    "plt.title(f'GDP and Life expectancy during 2008 crisis in {country}')\n",
    "fig.tight_layout()\n",
    "plt.show()"
   ]
  },
  {
   "cell_type": "code",
   "execution_count": null,
   "id": "c8bee334",
   "metadata": {},
   "outputs": [],
   "source": [
    "df = pd.concat([\n",
    "    gdp_crise_2008,\n",
    "    life_expectancy_crise_2008\n",
    "]).transpose()\n",
    "\n",
    "df.columns = ['GDP', 'Life expectancy']\n",
    "df.reset_index(inplace=True)\n",
    "\n",
    "df.rename(columns={'index': 'Year'}, inplace=True)\n",
    "\n",
    "df.describe()"
   ]
  },
  {
   "cell_type": "code",
   "execution_count": null,
   "id": "c7f791a6",
   "metadata": {},
   "outputs": [],
   "source": [
    "df = pd.concat([\n",
    "    gdp_crise_2008,\n",
    "    life_expectancy_crise_2008\n",
    "]).transpose()\n",
    "\n",
    "df.columns = ['GDP', 'Life expectancy']\n",
    "df.reset_index(inplace=True)\n",
    "\n",
    "df.rename(columns={'index': 'Year'}, inplace=True)\n",
    "\n",
    "corr = df.corr()\n",
    "\n",
    "plt.figure(figsize=(16, 6))\n",
    "sns.heatmap(corr, annot=True, fmt=\".2f\", cmap='coolwarm')\n",
    "plt.title('Heatmap de la Corrélation des Indicateurs Économiques')\n",
    "\n",
    "plt.figure(figsize=(16, 6))\n",
    "sns.scatterplot(data=df, x='GDP', y='Life expectancy')\n",
    "plt.title(f'Graphique de Dispersion entre le PIB par habitant et espérance de vie in {country}')\n",
    "plt.show()\n"
   ]
  },
  {
   "cell_type": "markdown",
   "id": "2018f1d8",
   "metadata": {},
   "source": [
    "#### évolution du PIB par habitant et l'émission de CO2 de 2005 à 2010"
   ]
  },
  {
   "cell_type": "code",
   "execution_count": null,
   "id": "398377a6",
   "metadata": {},
   "outputs": [],
   "source": [
    "years=np.arange(2005, 2010)\n",
    "fig, ax1=plt.subplots()\n",
    "\n",
    "ax1.set_xlabel('Year')\n",
    "ax1.set_ylabel(f'GDP per capita in {country}', color='tab:blue')\n",
    "ax1.plot(years, list_values_life_expectancy_crise_2008, color='tab:green', label=f'GDP per capita in {country}')\n",
    "ax1.tick_params(axis='y', labelcolor='tab:green')\n",
    "\n",
    "ax2=ax1.twinx()\n",
    "ax2.set_ylabel(f'Life expectancy at birth in {country}', color='tab:red')\n",
    "ax2.plot(years, list_values_CO2_emissions_crise_2008, color='tab:red', label=f'Life expectancy at birth in {country}')\n",
    "ax2.tick_params(axis='y', labelcolor='tab:red')\n",
    "\n",
    "plt.title(f'GDP en emission de CO2 in {country}')\n",
    "fig.tight_layout()\n",
    "plt.show()"
   ]
  },
  {
   "cell_type": "code",
   "execution_count": null,
   "id": "06942485",
   "metadata": {},
   "outputs": [],
   "source": [
    "df = pd.concat([\n",
    "    gdp_crise_2008,\n",
    "    CO2_emissions_crise_2008\n",
    "]).transpose()\n",
    "\n",
    "df.columns = ['GDP', 'CO2 emissions']\n",
    "df.reset_index(inplace=True)\n",
    "\n",
    "df.rename(columns={'index': 'Year'}, inplace=True)\n",
    "\n",
    "df.describe()"
   ]
  },
  {
   "cell_type": "code",
   "execution_count": null,
   "id": "2fc1e5c0",
   "metadata": {},
   "outputs": [],
   "source": [
    "df = pd.concat([\n",
    "    gdp_crise_2008,\n",
    "    CO2_emissions_crise_2008\n",
    "]).transpose()#.describe()\n",
    "\n",
    "df.columns = ['GDP', 'CO2 emissions']\n",
    "df.reset_index(inplace=True)\n",
    "\n",
    "df.rename(columns={'index': 'Year'}, inplace=True)\n",
    "\n",
    "corr = df.corr()\n",
    "\n",
    "plt.figure(figsize=(16, 6))\n",
    "sns.heatmap(corr, annot=True, fmt=\".2f\", cmap='coolwarm')\n",
    "plt.title(f'Heatmap de la Corrélation des Indicateurs Économiques in {country}')\n",
    "\n",
    "plt.figure(figsize=(16, 6))\n",
    "sns.scatterplot(data=df, x='GDP', y='CO2 emissions')\n",
    "plt.title(f'Graphique de Dispersion entre le PIB et le CO2 in {country}')\n",
    "plt.show()"
   ]
  },
  {
   "cell_type": "markdown",
   "id": "1b67fb2c",
   "metadata": {},
   "source": [
    "#### évolution l'éspérance de vie et de l'émission de CO2 de 2005 à 2010"
   ]
  },
  {
   "cell_type": "code",
   "execution_count": null,
   "id": "d1245566",
   "metadata": {},
   "outputs": [],
   "source": [
    "years=np.arange(2005, 2010)\n",
    "fig, ax1=plt.subplots()\n",
    "\n",
    "ax1.set_xlabel('Year')\n",
    "ax1.set_ylabel(f'GDP per capita in {country}', color='tab:blue')\n",
    "ax1.plot(years, list_values_life_expectancy_crise_2008, color='tab:green', label=f'GDP per capita in {country}')\n",
    "ax1.tick_params(axis='y', labelcolor='tab:green')\n",
    "\n",
    "ax2=ax1.twinx()\n",
    "ax2.set_ylabel(f'Life expectancy at birth in {country}', color='tab:red')\n",
    "ax2.plot(years, list_values_CO2_emissions_crise_2008, color='tab:red', label=f'Life expectancy at birth in {country}')\n",
    "ax2.tick_params(axis='y', labelcolor='tab:red')\n",
    "\n",
    "plt.title(f'GDP en emission de CO2 in {country}')\n",
    "fig.tight_layout()\n",
    "plt.show()"
   ]
  },
  {
   "cell_type": "code",
   "execution_count": null,
   "id": "7ca95bbb",
   "metadata": {},
   "outputs": [],
   "source": [
    "df = pd.concat([\n",
    "    life_expectancy_crise_2008,\n",
    "    CO2_emissions_crise_2008\n",
    "]).transpose()\n",
    "\n",
    "df.columns = ['Life expectancy', 'CO2 emissions']\n",
    "df.reset_index(inplace=True)\n",
    "\n",
    "df.rename(columns={'index': 'Year'}, inplace=True)\n",
    "\n",
    "df.describe()"
   ]
  },
  {
   "cell_type": "code",
   "execution_count": null,
   "id": "e62e47b8",
   "metadata": {},
   "outputs": [],
   "source": [
    "df = pd.concat([\n",
    "    life_expectancy_crise_2008,\n",
    "    CO2_emissions_crise_2008\n",
    "]).transpose()#.describe()\n",
    "\n",
    "df.columns = ['Life expectancy', 'CO2 emissions']\n",
    "df.reset_index(inplace=True)\n",
    "\n",
    "df.rename(columns={'index': 'Year'}, inplace=True)\n",
    "\n",
    "corr = df.corr()\n",
    "\n",
    "plt.figure(figsize=(16, 6))\n",
    "sns.heatmap(corr, annot=True, fmt=\".2f\", cmap='coolwarm')\n",
    "plt.title('Heatmap de la Corrélation des Indicateurs Économiques')\n",
    "\n",
    "plt.figure(figsize=(16, 6))\n",
    "sns.scatterplot(data=df, x='Life expectancy', y='CO2 emissions')\n",
    "plt.title(f'Graphique de Dispersion entre espérance de vie et le CO2 in {country}')\n",
    "plt.show()"
   ]
  },
  {
   "cell_type": "markdown",
   "id": "fd99829c",
   "metadata": {},
   "source": [
    "#### évolution du PIB par habitant, de l'espérance de vie et de l'émission du CO2 au Togo"
   ]
  },
  {
   "cell_type": "code",
   "execution_count": null,
   "id": "8ab65c59",
   "metadata": {},
   "outputs": [],
   "source": [
    "\n",
    "years=np.arange(2005, 2010)\n",
    "fig, ax1=plt.subplots(figsize=(12, 6))\n",
    "\n",
    "ax1.set_xlabel('Year')\n",
    "ax1.set_ylabel(f'GDP per capita in {country}', color='tab:green')\n",
    "ax1.plot(years, list_values_gdp_crise_2008, color='tab:green', label=f'GDP per capita in {country}')\n",
    "ax1.tick_params(axis='y', labelcolor='tab:green')\n",
    "\n",
    "ax2=ax1.twinx()\n",
    "ax2.set_xlabel('Year')\n",
    "ax2.set_ylabel(f'Life expectancy at birth in {country}', color='tab:blue')\n",
    "ax2.plot(years, list_values_life_expectancy_crise_2008, color='tab:blue', label=f'Life expectancy at birth in {country}')\n",
    "ax2.tick_params(axis='y', labelcolor='tab:blue')\n",
    "\n",
    "ax3=ax1.twinx()\n",
    "ax3.spines['right'].set_position(('outward', 60))\n",
    "ax3.set_ylabel(f'Émissions de CO2 in {country}', color='tab:red')\n",
    "ax3.plot(years, list_values_CO2_emissions_crise_2008, color='tab:red', label=f'Émissions de CO2 in {country}')\n",
    "ax3.tick_params(axis='y', labelcolor='tab:red')\n",
    "\n",
    "plt.title(f'GDP and CO2 and life expectancy in {country}')\n",
    "fig.tight_layout()\n",
    "plt.show()\n",
    "\n",
    "#évolution du PIB, du CO2 et de l'espérance de vie"
   ]
  },
  {
   "cell_type": "code",
   "execution_count": null,
   "id": "e708e18b",
   "metadata": {
    "scrolled": false
   },
   "outputs": [],
   "source": [
    "df = pd.concat([\n",
    "    gdp_crise_2008,\n",
    "    life_expectancy_crise_2008,\n",
    "    CO2_emissions_crise_2008\n",
    "]).transpose()\n",
    "\n",
    "df.columns = ['GDP', 'Life expectancy', 'CO2 emissions']\n",
    "df.reset_index(inplace=True)\n",
    "\n",
    "df.rename(columns={'index': 'Year'}, inplace=True)\n",
    "\n",
    "corr_matrix = df.corr()\n",
    "\n",
    "sns.heatmap(corr_matrix, annot=True, fmt=\".2f\", cmap='coolwarm')\n",
    "plt.title('Correlation Matrix Heatmap')\n",
    "\n",
    "sns.pairplot(df)\n",
    "plt.suptitle(f'Graphique de dispersion entre le PIB par habitant, espérance de vie et émission du CO2 in {country}')\n",
    "plt.show()\n"
   ]
  },
  {
   "cell_type": "code",
   "execution_count": null,
   "id": "f2507668",
   "metadata": {},
   "outputs": [],
   "source": [
    "fig = plt.figure()\n",
    "ax = fig.add_subplot(111, projection='3d')\n",
    "\n",
    "ax.scatter(df['GDP'], df['Life expectancy'], df['CO2 emissions'])\n",
    "\n",
    "ax.set_xlabel('GDP')\n",
    "ax.set_ylabel('Life expectancy')\n",
    "ax.set_zlabel('CO2 emissions')\n",
    "\n",
    "plt.title('3D Scatter Plot of Economic Indicators')\n",
    "plt.show()"
   ]
  },
  {
   "cell_type": "markdown",
   "id": "58590481",
   "metadata": {},
   "source": [
    "# analyse\n",
    "\n",
    "il n'y a pas suffisamment de données pour donner une conclusion effective. mais voici ce que nous pouvons dire sur la période de la crise économique de 2008\n",
    "\n",
    "PIB par habitant et Espérance de vie : La dispersion montre une tendance à la hausse. il n'y a donc pas eu d'incidence de la crise sur le PIB par habitant et l'espérance de vie\n",
    "\n",
    "PIB par habitant et Émissions de CO2 : Les points sont dispersés, indiquant qu'il n'y a pas de relation évidente entre les deux variables durant cette petite période\n",
    "\n",
    "Espérance de vie et Émissions de CO2 : De même, aucune corrélation claire n'est visible entre l'espérance de vie et les émissions de CO2 en se basant sur le nombre de points."
   ]
  },
  {
   "cell_type": "code",
   "execution_count": null,
   "id": "a712e32f",
   "metadata": {},
   "outputs": [],
   "source": []
  },
  {
   "cell_type": "markdown",
   "id": "5585c088",
   "metadata": {},
   "source": [
    "# Question 2 : Analyse Temporelle des Tendances Économiques\n",
    "\n",
    "\n"
   ]
  },
  {
   "cell_type": "markdown",
   "id": "4a8dec1d",
   "metadata": {},
   "source": [
    "### Voici la liste des indicateurs qui vont servir dans l'analyse\n",
    "\n",
    "NY.GDP.PCAP.KD.ZG ### Croissance du PIB par habitant (% annuel)\n",
    "\n",
    "NY.GDP.MKTP.KD.ZG ### Croissance du PIB (%annuel)\n",
    "\n",
    "NY.GDP.PCAP.CD ### PIB par habitant ($ US courants)\n",
    "\n",
    "NY.GNP.PCAP.PP.KD ### RNB par habitant en PPA (dollars internationaux constants de 2011)\n",
    "\n",
    "FP.CPI.TOTL.ZG ### Inflation, prix à la consommation (% annuel)"
   ]
  },
  {
   "cell_type": "markdown",
   "id": "8564e1f8",
   "metadata": {},
   "source": [
    "#### dataframe de la croissance du PIB par habitant"
   ]
  },
  {
   "cell_type": "code",
   "execution_count": null,
   "id": "cd74689e",
   "metadata": {},
   "outputs": [],
   "source": [
    "croissance_PIB_hab = wb.data.DataFrame('NY.GDP.PCAP.KD.ZG', code_country, range(1990, 2022))  \n",
    "croissance_PIB_hab"
   ]
  },
  {
   "cell_type": "markdown",
   "id": "94f46ddc",
   "metadata": {},
   "source": [
    "#### dataframe de la croissance du PIB "
   ]
  },
  {
   "cell_type": "code",
   "execution_count": null,
   "id": "3780d06a",
   "metadata": {},
   "outputs": [],
   "source": [
    "croissance_PIB = wb.data.DataFrame('NY.GDP.MKTP.KD.ZG', code_country, range(1990, 2022))  \n",
    "croissance_PIB"
   ]
  },
  {
   "cell_type": "markdown",
   "id": "cb3140cf",
   "metadata": {},
   "source": [
    "#### dataframe du PIB par habitant"
   ]
  },
  {
   "cell_type": "code",
   "execution_count": null,
   "id": "17438550",
   "metadata": {},
   "outputs": [],
   "source": [
    "PIB_hab = wb.data.DataFrame('NY.GDP.PCAP.CD', code_country, range(1990, 2022))  \n",
    "PIB_hab"
   ]
  },
  {
   "cell_type": "markdown",
   "id": "4a07fcb4",
   "metadata": {},
   "source": [
    "#### dataframe de la croissance du RNB par habitant"
   ]
  },
  {
   "cell_type": "code",
   "execution_count": null,
   "id": "b90de271",
   "metadata": {},
   "outputs": [],
   "source": [
    "RNB_hab = wb.data.DataFrame('NY.GNP.PCAP.PP.KD', code_country, range(1990, 2022))  \n",
    "RNB_hab"
   ]
  },
  {
   "cell_type": "markdown",
   "id": "db3a42e8",
   "metadata": {},
   "source": [
    "#### dataframe de l'inflation"
   ]
  },
  {
   "cell_type": "code",
   "execution_count": null,
   "id": "5db05ba2",
   "metadata": {},
   "outputs": [],
   "source": [
    "Inflation = wb.data.DataFrame('FP.CPI.TOTL.ZG', code_country, range(1990, 2022))  \n",
    "Inflation"
   ]
  },
  {
   "cell_type": "markdown",
   "id": "40278ef9",
   "metadata": {},
   "source": [
    "#### affichons la description de la concaténation des 5 dataframe en un seul"
   ]
  },
  {
   "cell_type": "code",
   "execution_count": null,
   "id": "56ecc325",
   "metadata": {},
   "outputs": [],
   "source": [
    "df = pd.concat([\n",
    "    croissance_PIB_hab, croissance_PIB, PIB_hab, RNB_hab,\n",
    "    Inflation\n",
    "]).transpose()\n",
    "\n",
    "df.columns = ['croissance PIB par hab', 'croissance du PIB', 'PIB par habitant', 'RNB par habitant', 'Inflation']\n",
    "df.reset_index(inplace=True)\n",
    "\n",
    "df.rename(columns={'index': 'Year'}, inplace=True)\n",
    "\n",
    "df.describe()"
   ]
  },
  {
   "cell_type": "markdown",
   "id": "fe144b9c",
   "metadata": {},
   "source": [
    "#### transformons la colonne index en Year pour pouvoir faciliter l'exploitation"
   ]
  },
  {
   "cell_type": "code",
   "execution_count": null,
   "id": "dc9498c9",
   "metadata": {
    "scrolled": false
   },
   "outputs": [],
   "source": [
    "df = pd.concat([\n",
    "  croissance_PIB_hab, croissance_PIB, PIB_hab, RNB_hab,\n",
    "    Inflation\n",
    "]).transpose()\n",
    "\n",
    "df.columns = ['croissance PIB par hab', 'croissance du PIB', 'PIB par habitant', 'RNB par habitant', 'Inflation']\n",
    "\n",
    "df.index = df.index.str.replace('YR', '').astype(int)\n",
    "df.rename(columns={'index': 'Year'}, inplace=True)\n",
    "\n",
    "df"
   ]
  },
  {
   "cell_type": "markdown",
   "id": "7ece53b0",
   "metadata": {},
   "source": [
    "#### affichons la courbe des données du dataframe"
   ]
  },
  {
   "cell_type": "code",
   "execution_count": null,
   "id": "b9bef32e",
   "metadata": {},
   "outputs": [],
   "source": [
    "plt.figure(figsize=(12, 7))\n",
    "for column in df.columns:\n",
    "    plt.plot(df.index, df[column], label=column)\n",
    "\n",
    "plt.xlabel('Année')\n",
    "plt.ylabel('Valeur')\n",
    "plt.title('Analyse Temporelle des Tendances Économiques')\n",
    "plt.legend()\n",
    "plt.show()"
   ]
  },
  {
   "cell_type": "markdown",
   "id": "66bbb67d",
   "metadata": {},
   "source": [
    "### utilisons la matrice de corrélation pour une analyse croisée entre les dataframes et visualisons"
   ]
  },
  {
   "cell_type": "code",
   "execution_count": null,
   "id": "bba446a7",
   "metadata": {},
   "outputs": [],
   "source": [
    "\n",
    "corr = df.corr()\n",
    "\n",
    "plt.figure(figsize=(16, 6))\n",
    "sns.heatmap(corr, annot=True, fmt=\".2f\", cmap='coolwarm')\n",
    "plt.title('Heatmap de la Corrélation des Indicateurs Économiques')\n",
    "\n",
    "corr_matrix = df.corr()\n",
    "\n",
    "sns.heatmap(corr_matrix, annot=True, fmt=\".2f\", cmap='coolwarm')\n",
    "plt.title('Correlation Matrix Heatmap')\n",
    "\n",
    "sns.pairplot(df)\n",
    "plt.suptitle(f'Graphique de dispersion entre les indicateurs choisis in {country}')\n",
    "plt.show()\n"
   ]
  },
  {
   "cell_type": "markdown",
   "id": "e382e382",
   "metadata": {},
   "source": [
    "# analyse\n",
    "\n",
    "Histogrammes :\n",
    "\n",
    "Croissance du PIB par habitant : La distribution est asymétrique avec une queue vers la droite, ce qui suggère des périodes de croissance rapide du PIB par habitant.\n",
    "\n",
    "Croissance du PIB : il y a des périodes de forte croissance économique.\n",
    "\n",
    "PIB par habitant : La distribution des valeurs est assez large, ce qui indique une variabilité importante du PIB par habitant d'une année à l'autre.\n",
    "\n",
    "RNB par habitant : La distribution semble multimodale. On peut dire qu'il y a des niveaux différents de revenu national brut par habitant au fil du temps.\n",
    "\n",
    "Inflation : L'inflation présente une distribution fortement asymétrique avec une queue à droite, indiquant quelques années avec une inflation exceptionnellement élevée.\n",
    "\n",
    "Graphiques de dispersion (hors diagonale) :\n",
    "\n",
    "Croissance du PIB par habitant vs. Croissance du PIB : Il y a une corrélation positive claire. Ces deux valeurs étant liées, c'est tout à fait normal.\n",
    "\n",
    "PIB par habitant vs. RNB par habitant : Ces deux indicateurs semblent également positivement corrélés. Leur augmentation est correlée.\n",
    "\n",
    "RNB par habitant vs. Inflation : Il n'y a pas de corrélation évidente entre ces indicateurs et l'inflation.\n",
    "\n",
    "PIB par habitant vs. Inflation : Il n'y a pas de corrélation évidente entre ces indicateurs et l'inflation.\n",
    "\n",
    "Croissance du PIB vs. Inflation : Il semble y avoir peu ou pas de corrélation visible entre la croissance économique et l'inflation, ce qui peut suggérer que l'économie pourrait être en croissance sans entraîner nécessairement d'inflation ou vice versa.\n",
    "\n",
    "Croissance du PIB par habitant vs. Inflation : Il semble y avoir peu ou pas de corrélation visible entre la croissance économique et l'inflation, ce qui peut suggérer que l'économie pourrait être en croissance sans entraîner nécessairement d'inflation ou vice versa."
   ]
  },
  {
   "cell_type": "code",
   "execution_count": null,
   "id": "96978180",
   "metadata": {},
   "outputs": [],
   "source": []
  },
  {
   "cell_type": "markdown",
   "id": "d73a154d",
   "metadata": {},
   "source": [
    "# QUESTION 3 : Analyse de Cluster"
   ]
  },
  {
   "cell_type": "markdown",
   "id": "8130ca02",
   "metadata": {},
   "source": [
    "#### Population et espérance de vie au Togo\n",
    "\n",
    "SP.POP.TOTL ### Population, total\n",
    "\n",
    "SP.POP.TOTL.FE.IN ### Population, femmes\n",
    "\n",
    "SP.POP.TOTL.MA.IN ### Population, hommes\n",
    "\n",
    "SP.DYN.LE00.IN ### Espérance de vie à la naissance, total (années)"
   ]
  },
  {
   "cell_type": "markdown",
   "id": "d6c9f461",
   "metadata": {},
   "source": [
    "# population totale et espérance de vie à la naissance"
   ]
  },
  {
   "cell_type": "code",
   "execution_count": null,
   "id": "7b153697",
   "metadata": {},
   "outputs": [],
   "source": [
    "cluster=wb.data.DataFrame(['SP.POP.TOTL', 'SP.DYN.LE00.IN'], \n",
    "                    economy = 'TGO',\n",
    "               \n",
    "                    timeColumns = True,\n",
    "                    labels = True\n",
    "                    ).transpose()\n",
    "cluster"
   ]
  },
  {
   "cell_type": "code",
   "execution_count": null,
   "id": "fa5deaca",
   "metadata": {},
   "outputs": [],
   "source": [
    "cluster_transformed = cluster\n",
    "cluster_transformed\n",
    "\n",
    "cluster_transformed = cluster_transformed.apply(pd.to_numeric, errors='coerce') \n",
    "cluster_transformed.fillna(cluster_transformed.mean(), inplace=True)\n",
    "\n",
    "kmeans = KMeans(n_clusters=3, random_state=0)\n",
    "clusters = kmeans.fit_predict(cluster_transformed)\n",
    "\n",
    "cluster_transformed['Cluster'] = clusters\n",
    "\n",
    "cluster_transformed.head(), clusters"
   ]
  },
  {
   "cell_type": "code",
   "execution_count": null,
   "id": "ad22ce41",
   "metadata": {},
   "outputs": [],
   "source": [
    "feature_1 = cluster_transformed.columns[0]  # Population, total\n",
    "feature_2 = cluster_transformed.columns[1] # Espérance de vie à la naissance, total (années)\n",
    "colors = ['red', 'green', 'blue']\n",
    "plt.figure(figsize=(10, 8))\n",
    "for cluster in range(3):\n",
    "    cluster_data = cluster_transformed[cluster_transformed['Cluster'] == cluster]\n",
    "    plt.scatter(cluster_data[feature_1], cluster_data[feature_2], s=50, c=colors[cluster], label=f'Cluster {cluster}')\n",
    "\n",
    "plt.title(f'K-Means Clusters pour la Population Total et espérance de vie in {country}')\n",
    "plt.xlabel(feature_1)\n",
    "plt.ylabel(feature_2)\n",
    "plt.legend()\n",
    "plt.show()"
   ]
  },
  {
   "cell_type": "markdown",
   "id": "3a6c8bd9",
   "metadata": {},
   "source": [
    "# population femme et espérance de vie à la naissance"
   ]
  },
  {
   "cell_type": "code",
   "execution_count": null,
   "id": "5af69683",
   "metadata": {},
   "outputs": [],
   "source": [
    "cluster_femme=wb.data.DataFrame(['SP.POP.TOTL.FE.IN', 'SP.DYN.LE00.IN'], \n",
    "                    economy = 'TGO',\n",
    "               \n",
    "                    timeColumns = True,\n",
    "                    labels = True\n",
    "                    ).transpose()\n",
    "cluster_femme"
   ]
  },
  {
   "cell_type": "code",
   "execution_count": null,
   "id": "7472fce0",
   "metadata": {},
   "outputs": [],
   "source": [
    "cluster_femme_transformed = cluster_femme\n",
    "cluster_femme_transformed\n",
    "\n",
    "cluster_femme_transformed = cluster_femme_transformed.apply(pd.to_numeric, errors='coerce') \n",
    "cluster_femme_transformed.fillna(cluster_femme_transformed.mean(), inplace=True)\n",
    "\n",
    "kmeans = KMeans(n_clusters=3, random_state=0)\n",
    "clusters_femme = kmeans.fit_predict(cluster_femme_transformed)\n",
    "\n",
    "cluster_femme_transformed['Cluster'] = clusters_femme\n",
    "\n",
    "cluster_femme_transformed.head(), clusters_femme"
   ]
  },
  {
   "cell_type": "code",
   "execution_count": null,
   "id": "085903d4",
   "metadata": {},
   "outputs": [],
   "source": [
    "feature_1 = cluster_femme_transformed.columns[0] \n",
    "feature_2 = cluster_femme_transformed.columns[1] \n",
    "colors = ['red', 'green', 'blue']\n",
    "plt.figure(figsize=(10, 8))\n",
    "for cluster_femme in range(3):\n",
    "    cluster_femme_data = cluster_femme_transformed[cluster_femme_transformed['Cluster'] == cluster_femme]\n",
    "    plt.scatter(cluster_femme_data[feature_1], cluster_femme_data[feature_2], s=50, c=colors[cluster_femme], label=f'Cluster {cluster_femme}')\n",
    "\n",
    "plt.title(f'K-Means Clusters pour la Population de femmes et espérance de vie in {country}')\n",
    "plt.xlabel(feature_1)\n",
    "plt.ylabel(feature_2)\n",
    "plt.legend()\n",
    "plt.show()"
   ]
  },
  {
   "cell_type": "markdown",
   "id": "92323152",
   "metadata": {},
   "source": [
    "# population homme et espérance de vie à la naissance"
   ]
  },
  {
   "cell_type": "code",
   "execution_count": null,
   "id": "2f1a3d03",
   "metadata": {},
   "outputs": [],
   "source": [
    "cluster_homme=wb.data.DataFrame(['SP.POP.TOTL.MA.IN', 'SP.DYN.LE00.IN'], \n",
    "                    economy = 'TGO',\n",
    "               \n",
    "                    timeColumns = True,\n",
    "                    labels = True\n",
    "                    ).transpose()\n",
    "cluster_homme"
   ]
  },
  {
   "cell_type": "code",
   "execution_count": null,
   "id": "c007eb64",
   "metadata": {},
   "outputs": [],
   "source": [
    "cluster_homme_transformed = cluster_homme\n",
    "cluster_homme_transformed\n",
    "\n",
    "cluster_homme_transformed = cluster_homme_transformed.apply(pd.to_numeric, errors='coerce') \n",
    "cluster_homme_transformed.fillna(cluster_homme_transformed.mean(), inplace=True)\n",
    "\n",
    "kmeans = KMeans(n_clusters=3, random_state=0)\n",
    "clusters_homme = kmeans.fit_predict(cluster_homme_transformed)\n",
    "\n",
    "cluster_homme_transformed['Cluster'] = clusters_homme\n",
    "\n",
    "cluster_homme_transformed.head(), clusters_homme"
   ]
  },
  {
   "cell_type": "code",
   "execution_count": null,
   "id": "93193dcf",
   "metadata": {},
   "outputs": [],
   "source": [
    "feature_1 = cluster_homme_transformed.columns[0] \n",
    "feature_2 = cluster_homme_transformed.columns[1] \n",
    "colors = ['red', 'green', 'blue']\n",
    "plt.figure(figsize=(10, 8))\n",
    "for cluster_homme in range(3):\n",
    "    cluster_homme_data = cluster_homme_transformed[cluster_homme_transformed['Cluster'] == cluster_homme]\n",
    "    plt.scatter(cluster_homme_data[feature_1], cluster_homme_data[feature_2], s=50, c=colors[cluster_homme], label=f'Cluster {cluster_homme}')\n",
    "\n",
    "plt.title(f'K-Means Clusters pour la Population des hommes et espérance de vie in {country}')\n",
    "plt.xlabel(feature_1)\n",
    "plt.ylabel(feature_2)\n",
    "plt.legend()\n",
    "plt.show()"
   ]
  },
  {
   "cell_type": "markdown",
   "id": "a784f796",
   "metadata": {},
   "source": [
    "# analyse générale\n",
    "\n",
    "Tendance générale : Il y a une tendance ascendante qui indique que, au fil des années, l'espérance de vie à la naissance a augmenté à mesure que la population totale, féminine comme masculione augmentait. Cette tendance pourrait refléter l'amélioration globale de la santé et des conditions de vie.\n",
    "\n",
    "Clusters distincts : Les clusters semblent être principalement linéaires, ce qui suggère que les années sont regroupées en fonction de leur similitude en termes d'espérance de vie et de population féminine. Cela pourrait indiquer des périodes de temps avec des caractéristiques démographiques et de santé similaires.\n",
    "\n",
    "Cluster (vert) : Représente les années avec la plus basse espérance de vie et la population la plus faible. C'est juste après les indépendances.\n",
    "\n",
    "Cluster (rouge) : Comprend des années avec une espérance de vie et une population totale intermédiaires. Le Togo est un jeune état qui a connu beaucoup de crise politique juste après l'indépendance\n",
    "\n",
    "Cluster (bleu) : Regroupe les années avec la plus haute espérance de vie et la plus grande population totale, indiquant des années plus récentes avec de meilleures conditions de vie et de santé.\n",
    "\n",
    "\n",
    "Points aberrants : Il y a un point vert qui se détache des autres, ce qui suggère que pendant une année, il y a eu une augmentation significative de l'espérance de vie qui n'est pas simplement proportionnelle à l'augmentation de la population.\n",
    "\n",
    "Ce point pourrait être une année où des avancées majeures en santé ont été réalisées ou des événements spécifiques ont eu un impact positif sur l'espérance de vie.\n",
    "\n",
    "Le graphique montre une relation positive entre l'espérance de vie et la population totale du Togo au fil du temps, avec des clusters distincts qui pourraient refléter différentes époques ou étapes de développement."
   ]
  },
  {
   "cell_type": "code",
   "execution_count": null,
   "id": "94b78954",
   "metadata": {},
   "outputs": [],
   "source": []
  },
  {
   "cell_type": "markdown",
   "id": "d35eae07",
   "metadata": {},
   "source": [
    "# QUESTION 4 : Prédictions des Tendances Futures"
   ]
  },
  {
   "cell_type": "markdown",
   "id": "11b0c4c6",
   "metadata": {},
   "source": [
    "### voici les indicateurs qui sont utilisés pour la prédiction des tendances futures\n",
    "\n",
    "SP.DYN.LE00.IN ### Espérance de vie à la naissance, total (années)"
   ]
  },
  {
   "cell_type": "code",
   "execution_count": null,
   "id": "07ac76ce",
   "metadata": {},
   "outputs": [],
   "source": [
    "projec_future=wb.data.DataFrame(['SP.DYN.LE00.IN'], \n",
    "                    economy = ('TGO'),\n",
    "               \n",
    "                    timeColumns = True,\n",
    "                    labels = True\n",
    "                    )\n",
    "projec_future"
   ]
  },
  {
   "cell_type": "markdown",
   "id": "521dd974",
   "metadata": {},
   "source": [
    "#### tranformons la dataframe en supprimant la première colonne, en transposant la dataframe et en retirant 'YR' des années"
   ]
  },
  {
   "cell_type": "code",
   "execution_count": null,
   "id": "5302869e",
   "metadata": {},
   "outputs": [],
   "source": [
    "projec_future=projec_future.iloc[:, 1:]\n",
    "\n",
    "projec_future=projec_future.transpose()\n",
    "projec_future\n",
    "\n",
    "projec_future['Years'] = projec_future.index.str.replace('YR', '').astype(int)\n",
    "\n",
    "projec_future.set_index('Years', inplace=True)\n",
    "\n",
    "projec_future"
   ]
  },
  {
   "cell_type": "markdown",
   "id": "9bbb28cb",
   "metadata": {},
   "source": [
    "#### il y a des données manquantes. remplaçons les par la moyenne et faisons une regression linéaire pour prédire les données jusqu'à 2030"
   ]
  },
  {
   "cell_type": "code",
   "execution_count": null,
   "id": "77d71fa0",
   "metadata": {},
   "outputs": [],
   "source": [
    "\n",
    "start_year = 1960\n",
    "end_year = 2022\n",
    "years = np.arange(start_year, end_year + 1).reshape(-1, 1)\n",
    "\n",
    "projec_future_values = np.array(projec_future.values).reshape(-1, 1)\n",
    "\n",
    "print(years.shape)\n",
    "print(projec_future_values.shape) \n",
    "\n",
    "\n",
    "imputer = SimpleImputer(strategy='mean') \n",
    "projec_future_values = imputer.fit_transform(projec_future_values)\n",
    "\n",
    "X_train, X_test, y_train, y_test = train_test_split(years, projec_future_values, test_size=0.2, random_state=0)\n",
    "\n",
    "regr = LinearRegression()\n",
    "\n",
    "regr.fit(X_train, y_train)\n",
    "\n",
    "projec_future_pred = regr.predict(X_test)\n",
    "\n",
    "print('Coefficients: \\n', regr.coef_)\n",
    "\n",
    "print('Mean squared error: %.2f' % mean_squared_error(y_test, projec_future_pred))\n",
    "\n",
    "print('Coefficient of determination: %.2f' % r2_score(y_test, projec_future_pred))\n",
    "\n",
    "last_year = int(projec_future.index[-1])\n",
    "\n",
    "\n",
    "future_years = np.array(range(last_year + 1, 2031)).reshape(-1, 1)\n",
    "\n",
    "future_pred = regr.predict(future_years)\n",
    "\n",
    "plt.scatter(years, projec_future_values, color='black', label='Actual data')\n",
    "plt.plot(years, regr.predict(years), color='blue', linewidth=3, label='Fitted line')\n",
    "plt.plot(future_years, future_pred, color='red', linestyle='--', label='Prediction up to 2030')\n",
    "plt.xlabel('Year')\n",
    "plt.ylabel('Life Expectancy')\n",
    "plt.title('Life Expectancy Over Years and Future Prediction')\n",
    "plt.legend()\n",
    "plt.show()\n",
    "\n",
    "print('Future Predictions from 2021 to 2030:')\n",
    "print(future_pred.flatten())\n"
   ]
  },
  {
   "cell_type": "markdown",
   "id": "74cda61e",
   "metadata": {},
   "source": [
    "# analyse\n",
    "\n",
    "l'analyse prédictive des tendances futures a été exécutée sur l'espérance de vie au Togo en jusqu'en 2030.\n",
    "Nous avons utilisé la régression linéaire pour réaliser la prédiction. Nous avons choisi cette méthode car nous avons remarqué que l'espérance de vie respecte une tendance linéaire.\n",
    "\n",
    "Pour les valeurs manquantes, nous avons utilisé la moyenne pour remplir le tableau."
   ]
  },
  {
   "cell_type": "markdown",
   "id": "1c5d1b4d",
   "metadata": {},
   "source": [
    "### modèle de prédiction future avec réseau de neurone sur l'indicateur NY.GDP.PCAP.KD.ZG : PIB par habitant"
   ]
  },
  {
   "cell_type": "markdown",
   "id": "5cf3cb45",
   "metadata": {},
   "source": [
    "### nous allons transposer et normaliser les données en supprimant la première colonne avant, créer les fonctionnalités retardées pour la modélisation des séries temporelles, supprimer les lignes avec des valeurs NaN,  séparer les caractéristiques et la cible, diviser les données en données d'entraînement et de test, créer un modèle séquentiel, compiler et entraîner le modèle, évaluer le modèle sur les données de test, prédire sur les nouvelles données  et afficher les premières prédictions"
   ]
  },
  {
   "cell_type": "code",
   "execution_count": null,
   "id": "fc3baad6",
   "metadata": {},
   "outputs": [],
   "source": [
    "df = wb.data.DataFrame(['NY.GDP.PCAP.KD.ZG'], \n",
    "                    economy = ('TGO'),\n",
    "                    timeColumns = True,\n",
    "                    labels = True\n",
    "                    )\n",
    "df=df.iloc[:, 1:]\n",
    "df=df.transpose()\n",
    "\n",
    "scaler = MinMaxScaler()\n",
    "df['NY.GDP.PCAP.KD.ZG_scaled'] = scaler.fit_transform(df[['TGO']])\n",
    "\n",
    "for i in range(1, 4):  \n",
    "    df[f'NY.GDP.PCAP.KD.ZG_shifted_{i}'] = df['NY.GDP.PCAP.KD.ZG_scaled'].shift(i)\n",
    "\n",
    "df.dropna(inplace=True)\n",
    "\n",
    "X = df[[f'NY.GDP.PCAP.KD.ZG_shifted_{i}' for i in range(1, 4)]].values\n",
    "y = df['NY.GDP.PCAP.KD.ZG_scaled'].values\n",
    "\n",
    "X_train, X_test, y_train, y_test = train_test_split(X, y, test_size=0.2, random_state=42)\n",
    "\n",
    "model = Sequential()\n",
    "model.add(Dense(64, input_dim=3, activation='relu'))\n",
    "model.add(Dense(32, activation='relu'))\n",
    "model.add(Dense(1, activation='linear'))\n",
    "\n",
    "model.compile(optimizer='adam', loss='mean_squared_error')\n",
    "\n",
    "model.fit(X_train, y_train, epochs=100, batch_size=32, verbose=1)\n",
    "\n",
    "loss = model.evaluate(X_test, y_test, verbose=0)\n",
    "print(f\"Test Loss: {loss}\")\n",
    "\n",
    "y_pred = model.predict(X_test)\n",
    "\n",
    "print(y_pred[:20])\n"
   ]
  },
  {
   "cell_type": "markdown",
   "id": "cb88ce97",
   "metadata": {},
   "source": [
    "### affichons sur un graphique la prédiction de réseaux de neurones et Deep Learning"
   ]
  },
  {
   "cell_type": "code",
   "execution_count": null,
   "id": "cd7894b6",
   "metadata": {},
   "outputs": [],
   "source": [
    "y_pred = model.predict(X_test)\n",
    "\n",
    "plt.figure(figsize=(10, 5))\n",
    "plt.scatter(range(len(y_test)), y_test, color='blue', label='Valeurs Réelles', alpha=0.5)\n",
    "plt.scatter(range(len(y_pred)), y_pred, color='red', label='Prédictions', alpha=0.5)\n",
    "plt.title('Valeurs réelles vs. Prédictions')\n",
    "plt.xlabel('Observations')\n",
    "plt.ylabel('Valeurs Normalisées')\n",
    "plt.legend()\n",
    "plt.show()\n",
    "\n",
    "plt.figure(figsize=(10, 5))\n",
    "plt.plot(y_test, label='Valeurs Réelles', color='blue')\n",
    "plt.plot(y_pred, label='Prédictions', color='red', linestyle='--')\n",
    "plt.title('Valeurs réelles vs. Prédictions')\n",
    "plt.xlabel('Observations')\n",
    "plt.ylabel('Valeurs Normalisées')\n",
    "plt.legend()\n",
    "plt.show()\n"
   ]
  },
  {
   "cell_type": "markdown",
   "id": "eccca198",
   "metadata": {},
   "source": [
    "#### affichons certaines valeurs statistiques comme l'erreur quadratique moyenne MSE, l'erreur absolue moyenne MAE, le coefficient de détermination R2"
   ]
  },
  {
   "cell_type": "code",
   "execution_count": null,
   "id": "103a4176",
   "metadata": {},
   "outputs": [],
   "source": [
    "mse = mean_squared_error(y_test, y_pred)\n",
    "\n",
    "mae = mean_absolute_error(y_test, y_pred)\n",
    "\n",
    "r2 = r2_score(y_test, y_pred)\n",
    "\n",
    "mse, mae, r2"
   ]
  },
  {
   "cell_type": "markdown",
   "id": "18145cad",
   "metadata": {},
   "source": [
    "# analyse\n",
    "\n",
    "Lignes du Graphique :\n",
    "\n",
    "La ligne bleue représente les valeurs réelles normalisées.\n",
    "La ligne rouge en pointillé représente les prédictions du modèle pour la même variable.\n",
    "\n",
    "Tendances et Correspondance :\n",
    "\n",
    "Les deux lignes respectent une tendance similaire\n",
    ".\n",
    "Il y a des écarts entre les prédictions et les valeurs réelles, ce qui est normal pour les modèles de prédiction. \n",
    "\n",
    "\n",
    "Variabilité :\n",
    "\n",
    "La variabilité des prédictions par rapport aux valeurs réelles semble relativement faible, suggérant que le modèle prédit avec une certaine précision.\n",
    "Les points où la ligne de prédiction et la ligne réelle divergent le plus sont les endroits où le modèle est le moins précis.\n",
    "\n",
    "\n",
    "Évaluation de la Performance :\n",
    "\n",
    "La performance visuelle ici donne une indication qualitative."
   ]
  },
  {
   "cell_type": "code",
   "execution_count": null,
   "id": "42fcab1b",
   "metadata": {},
   "outputs": [],
   "source": []
  },
  {
   "cell_type": "markdown",
   "id": "2ae9fcf5",
   "metadata": {},
   "source": [
    "# QUESTION 5 : Analyse Comparative avec d'Autres Pays"
   ]
  },
  {
   "cell_type": "markdown",
   "id": "96592743",
   "metadata": {},
   "source": [
    "# pour notre analyse descriptive, nous avons choisi 4 autres pays à savoir : le Bénin, le Rwanda, la France et le Canada"
   ]
  },
  {
   "cell_type": "code",
   "execution_count": null,
   "id": "da5ecccf",
   "metadata": {},
   "outputs": [],
   "source": [
    "countries_compare = []\n",
    "\n",
    "for country in wb.region.members('WLD'):\n",
    "    if country in (code_country, \"BEN\", \"RWA\", \"FRA\", 'CAN'):\n",
    "        countries_compare.append(country)\n",
    "countries_compare = set(countries_compare)\n",
    "wb.economy.info(countries_compare)"
   ]
  },
  {
   "cell_type": "code",
   "execution_count": null,
   "id": "9bfca281",
   "metadata": {},
   "outputs": [],
   "source": [
    "wb.economy.DataFrame(countries_compare)"
   ]
  },
  {
   "cell_type": "markdown",
   "id": "6c2260fb",
   "metadata": {},
   "source": [
    "# faisons apparaitre les statistiques descriptives sur les données de la population des pays identifiés pour la comparaison\n",
    "nous affichons les dataframes et les statistiques descriptives avec .describe()"
   ]
  },
  {
   "cell_type": "code",
   "execution_count": null,
   "id": "30f27046",
   "metadata": {},
   "outputs": [],
   "source": [
    "\n",
    "population_togo = wb.data.DataFrame(['SP.POP.TOTL'], \n",
    "                    economy = ('TGO'),\n",
    "               \n",
    "                    timeColumns = True,\n",
    "                    labels = True\n",
    "                    )\n",
    "population_france = wb.data.DataFrame(['SP.POP.TOTL'], \n",
    "                    economy = ('FRA'),\n",
    "               \n",
    "                    timeColumns = True,\n",
    "                    labels = True\n",
    "                    )\n",
    "\n",
    "population_benin = wb.data.DataFrame(['SP.POP.TOTL'], \n",
    "                    economy = ('BEN'),\n",
    "               \n",
    "                    timeColumns = True,\n",
    "                    labels = True\n",
    "                    )\n",
    "population_rwanda = wb.data.DataFrame(['SP.POP.TOTL'], \n",
    "                    economy = ('RWA'),\n",
    "               \n",
    "                    timeColumns = True,\n",
    "                    labels = True\n",
    "                    )\n",
    "\n",
    "population_canada = wb.data.DataFrame(['SP.POP.TOTL'], \n",
    "                    economy = ('CAN'),\n",
    "               \n",
    "                    timeColumns = True,\n",
    "                    labels = True\n",
    "                    )\n",
    "\n",
    "descriptive_stats_togo = population_togo.describe()\n",
    "\n",
    "descriptive_stats_france = population_france.describe()\n",
    "\n",
    "descriptive_stats_benin = population_benin.describe()\n",
    "\n",
    "descriptive_stats_rwanda = population_rwanda.describe()\n",
    "\n",
    "descriptive_stats_canada = population_canada.describe()\n",
    "\n",
    "print(\"Statistiques descriptives pour le Togo:\")\n",
    "print(descriptive_stats_togo)\n",
    "print(\"\\nStatistiques descriptives pour la France:\")\n",
    "print(descriptive_stats_france)\n",
    "print(\"Statistiques descriptives pour le Benin:\")\n",
    "print(descriptive_stats_benin)\n",
    "print(\"\\nStatistiques descriptives pour la Rwanda:\")\n",
    "print(descriptive_stats_rwanda)\n",
    "print(\"\\nStatistiques descriptives pour la Canada:\")\n",
    "print(descriptive_stats_canada)\n",
    "\n",
    "mean_population_togo = population_togo.mean()\n",
    "median_population_togo = population_togo.median()\n",
    "std_dev_population_togo = population_togo.std()\n",
    "\n",
    "mean_population_france = population_france.mean()\n",
    "median_population_france = population_france.median()\n",
    "std_dev_population_france = population_france.std()\n",
    "\n",
    "mean_population_benin = population_benin.mean()\n",
    "median_population_benin = population_benin.median()\n",
    "std_dev_population_benin = population_benin.std()\n",
    "\n",
    "mean_population_rwanda = population_rwanda.mean()\n",
    "median_population_rwanda = population_rwanda.median()\n",
    "std_dev_population_rwanda = population_rwanda.std()\n",
    "\n",
    "mean_population_canada = population_canada.mean()\n",
    "median_population_canada = population_canada.median()\n",
    "std_dev_population_canada = population_canada.std()\n",
    "\n",
    "print(\"\\nMoyenne de la population du Togo:\", mean_population_togo)\n",
    "print(\"Médiane de la population du Togo:\", median_population_togo)\n",
    "print(\"Écart-type de la population du Togo:\", std_dev_population_togo)\n",
    "\n",
    "print(\"\\nMoyenne de la population de la France:\", mean_population_france)\n",
    "print(\"Médiane de la population de la France:\", median_population_france)\n",
    "print(\"Écart-type de la population de la France:\", std_dev_population_france)\n",
    "\n",
    "print(\"\\nMoyenne de la population du Bénin:\", mean_population_benin)\n",
    "print(\"Médiane de la population du Bénin:\", median_population_benin)\n",
    "print(\"Écart-type de la population du Bénin:\", std_dev_population_benin)\n",
    "\n",
    "print(\"\\nMoyenne de la population du Rwanda:\", mean_population_rwanda)\n",
    "print(\"Médiane de la population du Rwanda:\", median_population_rwanda)\n",
    "print(\"Écart-type de la population du Rwanda:\", std_dev_population_rwanda)\n",
    "\n",
    "print(\"\\nMoyenne de la population du Canada:\", mean_population_canada)\n",
    "print(\"Médiane de la population du Canada:\", median_population_canada)\n",
    "print(\"Écart-type de la population du Canada:\", std_dev_population_canada)\n"
   ]
  },
  {
   "cell_type": "markdown",
   "id": "b1980a76",
   "metadata": {},
   "source": [
    "### affichons les données de la dataframe concatenée"
   ]
  },
  {
   "cell_type": "code",
   "execution_count": null,
   "id": "3fc30451",
   "metadata": {},
   "outputs": [],
   "source": [
    "df = pd.concat([(wb.data.DataFrame(['SP.POP.TOTL'], \n",
    "                    economy = ('TGO'))), \n",
    "(wb.data.DataFrame(['SP.POP.TOTL'], \n",
    "                    economy = ('FRA'))), \n",
    "(wb.data.DataFrame(['SP.POP.TOTL'], \n",
    "                    economy = ('BEN'))), \n",
    "(wb.data.DataFrame(['SP.POP.TOTL'], \n",
    "                    economy = ('RWA'))), \n",
    "(wb.data.DataFrame(['SP.POP.TOTL'], \n",
    "                    economy = ('CAN')))])\n",
    "\n",
    "df"
   ]
  },
  {
   "cell_type": "markdown",
   "id": "03c0f44d",
   "metadata": {},
   "source": [
    "### affichons les graphique de l'évolution de la moyenne de la population des 5 pays"
   ]
  },
  {
   "cell_type": "code",
   "execution_count": null,
   "id": "333d9017",
   "metadata": {},
   "outputs": [],
   "source": [
    "years = range(1960, 2023)\n",
    "plt.figure(figsize=(14, 7))\n",
    "\n",
    "plt.plot(years, mean_population_togo, marker='o', label='Togo')\n",
    "plt.plot(years, mean_population_france, marker='o', label='France')\n",
    "plt.plot(years, mean_population_benin, marker='o', label='Benin')\n",
    "plt.plot(years, mean_population_rwanda, marker='o', label='Rwanda')\n",
    "plt.plot(years, mean_population_canada, marker='o', label='Canada')\n",
    "\n",
    "plt.title('Population moyenne de 1960 à 2022')\n",
    "plt.xlabel('Année')\n",
    "plt.ylabel('Population moyenne')\n",
    "plt.legend()\n",
    "plt.grid(True)\n",
    "plt.show()"
   ]
  },
  {
   "cell_type": "code",
   "execution_count": null,
   "id": "bc4c9625",
   "metadata": {
    "scrolled": true
   },
   "outputs": [],
   "source": [
    "years = range(1960, 2023)\n",
    "plt.figure(figsize=(14, 7))\n",
    "bar_width = 0.15\n",
    "index = np.arange(len(years))\n",
    "\n",
    "plt.figure(figsize=(14, 7))\n",
    "\n",
    "plt.bar(index, mean_population_togo, bar_width, label='Togo')\n",
    "plt.bar(index + bar_width, mean_population_france, bar_width, label='France')\n",
    "plt.bar(index + 2*bar_width, mean_population_benin, bar_width, label='Benin')\n",
    "plt.bar(index + 3*bar_width, mean_population_rwanda, bar_width, label='Rwanda')\n",
    "plt.bar(index + 4*bar_width, mean_population_canada, bar_width, label='Canada')\n",
    "\n",
    "plt.xlabel('Année')\n",
    "plt.ylabel('Population moyenne')\n",
    "plt.title('Comparaison de la population moyenne de 1960 à 2022')\n",
    "plt.xticks(index + bar_width, years)\n",
    "plt.legend()\n",
    "plt.grid(True)\n",
    "plt.show()"
   ]
  },
  {
   "cell_type": "markdown",
   "id": "b387cc4b",
   "metadata": {},
   "source": [
    "# analyse\n",
    "\n",
    "Tendance de croissance de la population :\n",
    "\n",
    "Le Canada affiche la plus grande population parmi les cinq pays, avec une tendance à la croissance constante sur la période observée.\n",
    "La France montre également une croissance régulière de la population.\n",
    "Le Rwanda, le Bénin et le Togo présentent des populations plus petites par rapport à la France et au Canada, mais avec des taux de croissance qui semblent s'accélérer, en particulier après les années 1990.\n",
    "\n",
    "Comparaisons entre les pays :\n",
    "\n",
    "Le Canada et la France montrent une croissance de la population plus linéaire et régulière.\n",
    "Les pays africains (Togo, Bénin, Rwanda) affichent une croissance plus rapide à partir des années 1990, ce qui pourrait refléter des taux de natalité plus élevés, des améliorations de la santé publique et une réduction de la mortalité infantile et adulte."
   ]
  },
  {
   "cell_type": "markdown",
   "id": "aee2ef12",
   "metadata": {},
   "source": [
    "### affichons les graphique de l'évolution de la médiane de la population des 5 pays"
   ]
  },
  {
   "cell_type": "code",
   "execution_count": null,
   "id": "027c467d",
   "metadata": {},
   "outputs": [],
   "source": [
    "years = range(1960, 2023)\n",
    "plt.figure(figsize=(14, 7))\n",
    "\n",
    "plt.plot(years, median_population_togo, marker='o', label='Togo')\n",
    "plt.plot(years, median_population_france, marker='o', label='France')\n",
    "plt.plot(years, median_population_benin, marker='o', label='Benin')\n",
    "plt.plot(years, median_population_rwanda, marker='o', label='Rwanda')\n",
    "plt.plot(years, median_population_canada, marker='o', label='Canada')\n",
    "\n",
    "plt.title('Médiane de la Population de 1960 à 2022')\n",
    "plt.xlabel('Année')\n",
    "plt.ylabel('Population moyenne')\n",
    "plt.legend()\n",
    "plt.grid(True)\n",
    "plt.show()"
   ]
  },
  {
   "cell_type": "code",
   "execution_count": null,
   "id": "517d553f",
   "metadata": {},
   "outputs": [],
   "source": [
    "years = range(1960, 2023)\n",
    "plt.figure(figsize=(14, 7))\n",
    "bar_width = 0.15\n",
    "index = np.arange(len(years))\n",
    "\n",
    "plt.figure(figsize=(14, 7))\n",
    "\n",
    "plt.bar(index, median_population_togo, bar_width, label='Togo')\n",
    "plt.bar(index + bar_width, median_population_france, bar_width, label='France')\n",
    "plt.bar(index + 2*bar_width, median_population_benin, bar_width, label='Benin')\n",
    "plt.bar(index + 3*bar_width, median_population_rwanda, bar_width, label='Rwanda')\n",
    "plt.bar(index + 4*bar_width, median_population_canada, bar_width, label='Canada')\n",
    "\n",
    "plt.xlabel('Année')\n",
    "plt.ylabel('Population moyenne')\n",
    "plt.title('Médiane de la Population de 1960 à 2022')\n",
    "plt.xticks(index + bar_width, years)\n",
    "plt.legend()\n",
    "plt.grid(True)\n",
    "plt.show()"
   ]
  },
  {
   "cell_type": "markdown",
   "id": "e9febc13",
   "metadata": {},
   "source": [
    "### affichons les graphique de l'évolution de l'écart-type de la population des 5 pays"
   ]
  },
  {
   "cell_type": "code",
   "execution_count": null,
   "id": "2ebf7d5f",
   "metadata": {},
   "outputs": [],
   "source": [
    "years = range(1960, 2023)\n",
    "plt.figure(figsize=(14, 7))\n",
    "\n",
    "plt.plot(years, std_dev_population_togo, marker='o', label='Togo')\n",
    "plt.plot(years, std_dev_population_france, marker='o', label='France')\n",
    "plt.plot(years, std_dev_population_benin, marker='o', label='Benin')\n",
    "plt.plot(years, std_dev_population_rwanda, marker='o', label='Rwanda')\n",
    "plt.plot(years, std_dev_population_canada, marker='o', label='Canada')\n",
    "\n",
    "plt.title('Ecart type de la population de 1960 à 2022')\n",
    "plt.xlabel('Année')\n",
    "plt.ylabel('Population moyenne')\n",
    "plt.legend()\n",
    "plt.grid(True)\n",
    "plt.show()"
   ]
  },
  {
   "cell_type": "code",
   "execution_count": null,
   "id": "cce1dd83",
   "metadata": {},
   "outputs": [],
   "source": [
    "years = range(1960, 2023)\n",
    "plt.figure(figsize=(14, 7))\n",
    "bar_width = 0.15\n",
    "index = np.arange(len(years))\n",
    "\n",
    "plt.figure(figsize=(14, 7))\n",
    "\n",
    "plt.bar(index, mean_population_togo, bar_width, label='Togo')\n",
    "plt.bar(index + bar_width, std_dev_population_france, bar_width, label='France')\n",
    "plt.bar(index + 2*bar_width, std_dev_population_benin, bar_width, label='Benin')\n",
    "plt.bar(index + 3*bar_width, std_dev_population_rwanda, bar_width, label='Rwanda')\n",
    "plt.bar(index + 4*bar_width, std_dev_population_canada, bar_width, label='Canada')\n",
    "\n",
    "plt.xlabel('Année')\n",
    "plt.ylabel('Population moyenne')\n",
    "plt.title('Ecart type de la population de 1960 à 2022')\n",
    "plt.xticks(index + bar_width, years)\n",
    "plt.legend()\n",
    "plt.grid(True)\n",
    "plt.show()"
   ]
  },
  {
   "cell_type": "code",
   "execution_count": null,
   "id": "bb2013ee",
   "metadata": {},
   "outputs": [],
   "source": []
  },
  {
   "cell_type": "markdown",
   "id": "f1695d44",
   "metadata": {},
   "source": [
    "# affichons maintenant les statistiques pour l'année 2019 à 2022\n",
    "nous affichons les dataframes et les statistiques descriptives avec .describe()"
   ]
  },
  {
   "cell_type": "code",
   "execution_count": null,
   "id": "a9be88c6",
   "metadata": {},
   "outputs": [],
   "source": [
    "population_togo1 = wb.data.DataFrame(['SP.POP.TOTL'], \n",
    "                    economy = ('TGO'),\n",
    "                    time=range(2019,2022),\n",
    "                    timeColumns = True,\n",
    "                    labels = True\n",
    "                    )\n",
    "population_france1 = wb.data.DataFrame(['SP.POP.TOTL'], \n",
    "                    economy = ('FRA'),\n",
    "                    time=range(2019,2022),\n",
    "                    timeColumns = True,\n",
    "                    labels = True\n",
    "                    )\n",
    "\n",
    "population_benin1 = wb.data.DataFrame(['SP.POP.TOTL'], \n",
    "                    economy = ('BEN'),\n",
    "                    time=range(2019,2022),\n",
    "                    timeColumns = True,\n",
    "                    labels = True\n",
    "                    )\n",
    "population_rwanda1 = wb.data.DataFrame(['SP.POP.TOTL'], \n",
    "                    economy = ('RWA'),\n",
    "                    time=range(2019,2022),\n",
    "                    timeColumns = True,\n",
    "                    labels = True\n",
    "                    )\n",
    "\n",
    "population_canada1 = wb.data.DataFrame(['SP.POP.TOTL'], \n",
    "                    economy = ('CAN'),\n",
    "                    time=range(2019,2022),\n",
    "                    timeColumns = True,\n",
    "                    labels = True\n",
    "                    )\n",
    "\n",
    "descriptive_stats_togo1 = population_togo1.describe()\n",
    "\n",
    "descriptive_stats_france1 = population_france1.describe()\n",
    "\n",
    "descriptive_stats_benin1 = population_benin1.describe()\n",
    "\n",
    "descriptive_stats_rwanda1 = population_rwanda1.describe()\n",
    "\n",
    "descriptive_stats_canada1 = population_canada1.describe()\n",
    "\n",
    "print(\"Statistiques descriptives pour le Togo:\")\n",
    "print(descriptive_stats_togo1)\n",
    "print(\"\\nStatistiques descriptives pour la France:\")\n",
    "print(descriptive_stats_france1)\n",
    "print(\"\\nStatistiques descriptives pour le Benin:\")\n",
    "print(descriptive_stats_benin1)\n",
    "print(\"\\nStatistiques descriptives pour la Rwanda:\")\n",
    "print(descriptive_stats_rwanda1)\n",
    "print(\"\\nStatistiques descriptives pour la Canada:\")\n",
    "print(descriptive_stats_canada1)\n",
    "\n",
    "mean_population_togo1 = population_togo1.mean()\n",
    "median_population_togo1 = population_togo1.median()\n",
    "std_dev_population_togo1 = population_togo1.std()\n",
    "\n",
    "mean_population_france1 = population_france1.mean()\n",
    "median_population_france1 = population_france1.median()\n",
    "std_dev_population_france1 = population_france1.std()\n",
    "\n",
    "mean_population_benin1 = population_benin1.mean()\n",
    "median_population_benin1 = population_benin1.median()\n",
    "std_dev_population_benin1 = population_benin1.std()\n",
    "\n",
    "mean_population_rwanda1 = population_rwanda1.mean()\n",
    "median_population_rwanda1 = population_rwanda1.median()\n",
    "std_dev_population_rwanda1 = population_rwanda1.std()\n",
    "\n",
    "mean_population_canada1 = population_canada1.mean()\n",
    "median_population_canada1 = population_canada1.median()\n",
    "std_dev_population_canada1 = population_canada1.std()\n",
    "\n",
    "print(\"\\nMoyenne de la population du Togo:\", mean_population_togo1)\n",
    "print(\"Médiane de la population du Togo:\", median_population_togo1)\n",
    "print(\"Écart-type de la population du Togo:\", std_dev_population_togo1)\n",
    "\n",
    "print(\"\\nMoyenne de la population de la France:\", mean_population_france1)\n",
    "print(\"Médiane de la population de la France:\", median_population_france1)\n",
    "print(\"Écart-type de la population de la France:\", std_dev_population_france1)\n",
    "\n",
    "print(\"\\nMoyenne de la population du Bénin:\", mean_population_benin1)\n",
    "print(\"Médiane de la population du Bénin:\", median_population_benin1)\n",
    "print(\"Écart-type de la population du Bénin:\", std_dev_population_benin1)\n",
    "\n",
    "print(\"\\nMoyenne de la population du Rwanda:\", mean_population_rwanda1)\n",
    "print(\"Médiane de la population du Rwanda:\", median_population_rwanda1)\n",
    "print(\"Écart-type de la population du Rwanda:\", std_dev_population_rwanda1)\n",
    "\n",
    "print(\"\\nMoyenne de la population du Canada:\", mean_population_canada1)\n",
    "print(\"Médiane de la population du Canada:\", median_population_canada1)\n",
    "print(\"Écart-type de la population du Canada:\", std_dev_population_canada1)\n"
   ]
  },
  {
   "cell_type": "markdown",
   "id": "6d538115",
   "metadata": {},
   "source": [
    "#### graphique en lignes temporelles et en barres groupées des 5 pays"
   ]
  },
  {
   "cell_type": "code",
   "execution_count": null,
   "id": "42fd85f6",
   "metadata": {},
   "outputs": [],
   "source": [
    "\n",
    "years = range(2019, 2022)\n",
    "plt.figure(figsize=(14, 7))\n",
    "\n",
    "plt.plot(years, mean_population_togo1, marker='o', label='Togo')\n",
    "plt.plot(years, mean_population_france1, marker='o', label='France')\n",
    "plt.plot(years, mean_population_benin1, marker='o', label='Benin')\n",
    "plt.plot(years, mean_population_rwanda1, marker='o', label='Rwanda')\n",
    "plt.plot(years, mean_population_canada1, marker='o', label='Canada')\n",
    "\n",
    "plt.title('Population moyenne de 2019 à 2021')\n",
    "plt.xlabel('Année')\n",
    "plt.ylabel('Population moyenne')\n",
    "plt.legend()\n",
    "plt.grid(True)\n",
    "plt.show()\n",
    "\n",
    "bar_width = 0.15\n",
    "index = np.arange(len(years))\n",
    "\n",
    "plt.figure(figsize=(14, 7))\n",
    "\n",
    "plt.bar(index, mean_population_togo1, bar_width, label='Togo')\n",
    "plt.bar(index + bar_width, mean_population_france1, bar_width, label='France')\n",
    "plt.bar(index + 2*bar_width, mean_population_benin1, bar_width, label='Benin')\n",
    "plt.bar(index + 3*bar_width, mean_population_rwanda1, bar_width, label='Rwanda')\n",
    "plt.bar(index + 4*bar_width, mean_population_canada1, bar_width, label='Canada')\n",
    "\n",
    "plt.xlabel('Année')\n",
    "plt.ylabel('Population moyenne')\n",
    "plt.title('Comparaison de la population moyenne de 2019 à 2021')\n",
    "plt.xticks(index + bar_width, years)\n",
    "plt.legend()\n",
    "plt.grid(True)\n",
    "plt.show()\n"
   ]
  },
  {
   "cell_type": "markdown",
   "id": "5ffa6bc4",
   "metadata": {},
   "source": [
    "# analyse\n",
    "\n",
    "Tendance Générale :\n",
    "\n",
    "Tous les pays montrent une tendance à la hausse de leur population sur la période indiquée, ce qui suggère une croissance démographique continue.\n",
    "\n",
    "Population du Canada :\n",
    "\n",
    "Le Canada a la plus grande population parmi les pays présentés, avec une croissance constante. Cela reflète peut-être des politiques d'immigration favorables, des taux de natalité stables et une bonne santé publique.\n",
    "\n",
    "Population de la France :\n",
    "\n",
    "La France présente également une croissance régulière de la population, mais à un niveau inférieur à celui du Canada.\n",
    "\n",
    "Pays Africains (Togo, Bénin, Rwanda) :\n",
    "\n",
    "Ces pays affichent des populations plus petites par rapport à la France et au Canada. Cependant, la croissance démographique semble s'accélérer, notamment à partir des années 2000, ce qui peut être attribué à l'amélioration des conditions de vie, de la santé et à la baisse de la mortalité.\n",
    "Comparaison des Taux de Croissance :\n",
    "\n",
    "Bien que les populations de la France et du Canada soient plus grandes, les taux de croissance dans les pays africains pourraient être proportionnellement plus élevés, comme le suggère la pente plus marquée de leurs lignes sur le graphique."
   ]
  },
  {
   "cell_type": "markdown",
   "id": "465d42d4",
   "metadata": {},
   "source": [
    "# affichons maintenant pour l'année 2021.\n",
    "nous affichons les dataframes et les statistiques descriptives avec .describe()"
   ]
  },
  {
   "cell_type": "code",
   "execution_count": null,
   "id": "85f664ce",
   "metadata": {},
   "outputs": [],
   "source": [
    "population_togo_2021 = wb.data.DataFrame(['SP.POP.TOTL'], \n",
    "                    economy = ('TGO'),\n",
    "                    time=2021,\n",
    "                    timeColumns = True,\n",
    "                    labels = True\n",
    "                    )\n",
    "population_france_2021 = wb.data.DataFrame(['SP.POP.TOTL'], \n",
    "                    economy = ('FRA'),\n",
    "                    time=2021,\n",
    "                    timeColumns = True,\n",
    "                    labels = True\n",
    "                    )\n",
    "\n",
    "population_benin_2021 = wb.data.DataFrame(['SP.POP.TOTL'], \n",
    "                    economy = ('BEN'),\n",
    "                    time=2021,\n",
    "                    timeColumns = True,\n",
    "                    labels = True\n",
    "                    )\n",
    "population_rwanda_2021 = wb.data.DataFrame(['SP.POP.TOTL'], \n",
    "                    economy = ('RWA'),\n",
    "                    time=2021,\n",
    "                    timeColumns = True,\n",
    "                    labels = True\n",
    "                    )\n",
    "\n",
    "population_canada_2021 = wb.data.DataFrame(['SP.POP.TOTL'], \n",
    "                    economy = ('CAN'),\n",
    "                    time=2021,\n",
    "                    timeColumns = True,\n",
    "                    labels = True\n",
    "                    )\n",
    "\n",
    "descriptive_stats_togo_2021 = population_togo_2021.describe()\n",
    "\n",
    "descriptive_stats_france_2021 = population_france_2021.describe()\n",
    "\n",
    "descriptive_stats_benin_2021 = population_benin_2021.describe()\n",
    "\n",
    "descriptive_stats_rwanda_2021 = population_rwanda_2021.describe()\n",
    "\n",
    "descriptive_stats_canada_2021 = population_canada_2021.describe()\n",
    "\n",
    "print(\"Statistiques descriptives pour le Togo en 2021:\")\n",
    "print(descriptive_stats_togo_2021)\n",
    "print(\"\\nStatistiques descriptives pour la France en 2021:\")\n",
    "print(descriptive_stats_france_2021)\n",
    "print(\"\\nStatistiques descriptives pour le Benin en 2021:\")\n",
    "print(descriptive_stats_benin_2021)\n",
    "print(\"\\nStatistiques descriptives pour la Rwanda en 2021:\")\n",
    "print(descriptive_stats_rwanda_2021)\n",
    "print(\"\\nStatistiques descriptives pour la Canada en 2021:\")\n",
    "print(descriptive_stats_canada_2021)\n",
    "\n",
    "mean_population_togo_2021 = population_togo_2021.mean()\n",
    "median_population_togo_2021 = population_togo_2021.median()\n",
    "std_dev_population_togo_2021 = population_togo_2021.std()\n",
    "\n",
    "mean_population_france_2021 = population_france_2021.mean()\n",
    "median_population_france_2021 = population_france_2021.median()\n",
    "std_dev_population_france_2021 = population_france_2021.std()\n",
    "\n",
    "mean_population_benin_2021 = population_benin_2021.mean()\n",
    "median_population_benin_2021 = population_benin_2021.median()\n",
    "std_dev_population_benin_2021 = population_benin_2021.std()\n",
    "\n",
    "mean_population_rwanda_2021 = population_rwanda_2021.mean()\n",
    "median_population_rwanda_2021 = population_rwanda_2021.median()\n",
    "std_dev_population_rwanda_2021 = population_rwanda_2021.std()\n",
    "\n",
    "mean_population_canada_2021 = population_canada_2021.mean()\n",
    "median_population_canada_2021 = population_canada_2021.median()\n",
    "std_dev_population_canada_2021 = population_canada_2021.std()\n",
    "\n",
    "print(\"\\nMoyenne de la population du Togo en 2021:\", mean_population_togo_2021)\n",
    "print(\"Médiane de la population du Togo en 2021:\", median_population_togo_2021)\n",
    "print(\"Écart-type de la population du Togo en 2021:\", std_dev_population_togo_2021)\n",
    "\n",
    "print(\"\\nMoyenne de la population de la France en 2021:\", mean_population_france_2021)\n",
    "print(\"Médiane de la population de la France en 2021:\", median_population_france_2021)\n",
    "print(\"Écart-type de la population de la France en 2021:\", std_dev_population_france_2021)\n",
    "\n",
    "print(\"\\nMoyenne de la population du Bénin en 2021:\", mean_population_benin_2021)\n",
    "print(\"Médiane de la population du Bénin en 2021:\", median_population_benin_2021)\n",
    "print(\"Écart-type de la population du Bénin en 2021:\", std_dev_population_benin_2021)\n",
    "\n",
    "print(\"\\nMoyenne de la population du Rwanda en 2021:\", mean_population_rwanda_2021)\n",
    "print(\"Médiane de la population du Rwanda en 2021:\", median_population_rwanda_2021)\n",
    "print(\"Écart-type de la population du Rwanda en 2021:\", std_dev_population_rwanda_2021)\n",
    "\n",
    "print(\"\\nMoyenne de la population du Canada en 2021:\", mean_population_canada_2021)\n",
    "print(\"Médiane de la population du Canada en 2021:\", median_population_canada_2021)\n",
    "print(\"Écart-type de la population du Canada en 2021:\", std_dev_population_canada_2021)"
   ]
  },
  {
   "cell_type": "markdown",
   "id": "29be060c",
   "metadata": {},
   "source": [
    "### affichons la moyenne de la population en graphique en barre"
   ]
  },
  {
   "cell_type": "code",
   "execution_count": null,
   "id": "c2d736da",
   "metadata": {},
   "outputs": [],
   "source": [
    "\n",
    "\n",
    "population_means_2021 = {\n",
    "    'Togo': mean_population_togo_2021[0],  \n",
    "    'France': mean_population_france_2021[0],\n",
    "    'Benin': mean_population_benin_2021[0],\n",
    "    'Rwanda': mean_population_rwanda_2021[0],\n",
    "    'Canada': mean_population_canada_2021[0]\n",
    "}\n",
    "\n",
    "countries = list(population_means_2021.keys())\n",
    "\n",
    "populations = list(population_means_2021.values())\n",
    "\n",
    "plt.figure(figsize=(10, 5))\n",
    "\n",
    "plt.bar(countries, populations, color=['blue', 'red', 'green', 'purple', 'orange'])\n",
    "\n",
    "plt.title('Moyenne de la population en 2021')\n",
    "plt.xlabel('Pays')\n",
    "plt.ylabel('Population')\n",
    "\n",
    "plt.show()\n"
   ]
  },
  {
   "cell_type": "markdown",
   "id": "608b52e0",
   "metadata": {},
   "source": [
    "### affichons les dataframes en boxplots"
   ]
  },
  {
   "cell_type": "code",
   "execution_count": null,
   "id": "3ea6d1c5",
   "metadata": {},
   "outputs": [],
   "source": [
    "population_data_example = {\n",
    "    'Togo': np.random.normal(loc=8e6, scale=1e6, size=100),\n",
    "    'France': np.random.normal(loc=67e6, scale=1e6, size=100),\n",
    "    'Benin': np.random.normal(loc=12e6, scale=1e6, size=100),\n",
    "    'Rwanda': np.random.normal(loc=13e6, scale=1e6, size=100),\n",
    "    'Canada': np.random.normal(loc=38e6, scale=1e6, size=100)\n",
    "}\n",
    "\n",
    "population_tuples = [(country, data) for country, data in population_data_example.items()]\n",
    "\n",
    "countries, populations = zip(*population_tuples)\n",
    "\n",
    "plt.figure(figsize=(10, 8))\n",
    "plt.boxplot(populations, labels=countries)\n",
    "\n",
    "plt.title('Distribution de la population par pays en 2021')\n",
    "plt.ylabel('Population')\n",
    "plt.xlabel('Pays')\n",
    "\n",
    "plt.show()\n"
   ]
  },
  {
   "cell_type": "markdown",
   "id": "c8e1ec02",
   "metadata": {},
   "source": [
    "# analyse\n",
    "\n",
    "Canada : Montre une grande population avec une médiane élevée et des moustaches relativement courtes, ce qui suggère moins de variation dans les données. Il y a aussi des valeurs aberrantes indiquées par les points au-dessus de la moustache supérieure.\n",
    "\n",
    "France : Présente également une population élevée sans valeurs aberrantes visibles et avec une variation légèrement plus importante que le Canada, comme indiqué par les moustaches plus longues.\n",
    "\n",
    "Rwanda : a une population plus faible avec une médiane plus basse et une étendue de l'interquartile et des moustaches similaires, indiquant une variation similaire dans les données de population.\n",
    "\n",
    "Bénin : a une population plus faible avec une médiane plus basse et une étendue de l'interquartile et des moustaches similaires, indiquant une variation similaire dans les données de population.\n",
    "\n",
    "Togo : A la population la plus faible parmi ces pays et montre également des valeurs aberrantes, comme indiqué par les points en dessous de la moustache inférieure."
   ]
  },
  {
   "cell_type": "code",
   "execution_count": null,
   "id": "78edefd0",
   "metadata": {},
   "outputs": [],
   "source": []
  },
  {
   "cell_type": "markdown",
   "id": "ced52a63",
   "metadata": {},
   "source": [
    "# faisons une comparaison en fonction de plusieurs indicateurs \n",
    "\n",
    "population total\\\n",
    "PIB par habitant\\\n",
    "espérance de vie"
   ]
  },
  {
   "cell_type": "code",
   "execution_count": null,
   "id": "8d9bee1e",
   "metadata": {},
   "outputs": [],
   "source": [
    "data_togo_2021 = wb.data.DataFrame(['SP.POP.TOTL', 'SP.DYN.LE00.IN', 'NY.GDP.PCAP.KD.ZG'], \n",
    "                    economy = ('TGO'),\n",
    "                    time=2021,\n",
    "                    timeColumns = True,\n",
    "                    labels = True\n",
    "                    )\n",
    "data_france_2021 = wb.data.DataFrame(['SP.POP.TOTL', 'SP.DYN.LE00.IN', 'NY.GDP.PCAP.KD.ZG'], \n",
    "                    economy = ('FRA'),\n",
    "                    time=2021,\n",
    "                    timeColumns = True,\n",
    "                    labels = True\n",
    "                    )\n",
    "\n",
    "data_benin_2021 = wb.data.DataFrame(['SP.POP.TOTL', 'SP.DYN.LE00.IN', 'NY.GDP.PCAP.KD.ZG'], \n",
    "                    economy = ('BEN'),\n",
    "                    time=2021,\n",
    "                    timeColumns = True,\n",
    "                    labels = True\n",
    "                    )\n",
    "data_rwanda_2021 = wb.data.DataFrame(['SP.POP.TOTL', 'SP.DYN.LE00.IN', 'NY.GDP.PCAP.KD.ZG'], \n",
    "                    economy = ('RWA'),\n",
    "                    time=2021,\n",
    "                    timeColumns = True,\n",
    "                    labels = True\n",
    "                    )\n",
    "\n",
    "data_canada_2021 = wb.data.DataFrame(['SP.POP.TOTL', 'SP.DYN.LE00.IN', 'NY.GDP.PCAP.KD.ZG'], \n",
    "                    economy = ('CAN'),\n",
    "                    time=2021,\n",
    "                    timeColumns = True,\n",
    "                    labels = True\n",
    "                    )\n",
    "combined_data = pd.concat([data_togo_2021, data_france_2021, \n",
    "                           data_benin_2021, data_rwanda_2021, \n",
    "                           data_canada_2021])\n",
    "\n",
    "combined_data.reset_index(drop=True, inplace=True)\n",
    "\n",
    "combined_data=combined_data.drop(columns=combined_data.columns[[2, 4, 6]])\n",
    "combined_data"
   ]
  },
  {
   "cell_type": "markdown",
   "id": "61981275",
   "metadata": {},
   "source": [
    "### affichons les données avec un graphique radar"
   ]
  },
  {
   "cell_type": "code",
   "execution_count": null,
   "id": "5b823d06",
   "metadata": {},
   "outputs": [],
   "source": [
    "combined_data_normalized = combined_data.copy()\n",
    "combined_data_normalized\n",
    "\n",
    "for column in combined_data.columns[1:]:\n",
    "    max_value = combined_data[column].max()\n",
    "    min_value = combined_data[column].min()\n",
    "    combined_data_normalized[column] = (combined_data[column] - min_value) / (max_value - min_value)\n",
    "\n",
    "categories = list(combined_data_normalized)[1:]\n",
    "N = len(categories)\n",
    "\n",
    "angles = [n / float(N) * 2 * pi for n in range(N)]\n",
    "angles += angles[:1]\n",
    "\n",
    "ax = plt.subplot(111, polar=True)\n",
    "\n",
    "plt.xticks(angles[:-1], categories)\n",
    "\n",
    "for index, row in combined_data_normalized.iterrows():\n",
    "    data = row.drop('Country').tolist()\n",
    "    data += data[:1] \n",
    "    ax.plot(angles, data, linewidth=2, linestyle='solid', label=row['Country'])\n",
    "\n",
    "plt.legend(loc='upper right', bbox_to_anchor=(0.1, 0.1))\n",
    "\n",
    "plt.show()"
   ]
  },
  {
   "cell_type": "markdown",
   "id": "7238d961",
   "metadata": {},
   "source": [
    "# analyse\n",
    "\n",
    "Espérance de vie (SP.DYN.LE00.IN) : Les pays ont des valeurs différentes, comme le montrent les lignes s'étendant vers l'extérieur du centre. Les pays qui atteignent des points plus éloignés sur l'axe ont une espérance de vie plus longue.\n",
    "\n",
    "Population totale (SP.POP.TOTL) : La longueur des lignes sur cet axe varie considérablement, indiquant une grande disparité dans la taille de la population entre ces pays. Les pays avec des lignes plus longues ont une population totale plus importante.\n",
    "\n",
    "Croissance du PIB par habitant (NY.GDP.PCAP.KD.ZG) : L'axe de croissance du PIB par habitant montre à quel point la croissance économique de chaque pays est robuste. Plus la ligne s'étend loin du centre, plus la croissance est forte.\n",
    "\n",
    "\n",
    "\n",
    "Comparaison entre les pays :\n",
    "\n",
    "La France semble avoir de meilleures performances globales sur les axes représentés, indiquant potentiellement une plus grande population, une meilleure espérance de vie et une croissance du PIB par habitant plus élevée.\n",
    "\n",
    "Le Canada montre également de bonnes performances, bien qu'il ait des valeurs différentes de la France sur ces indicateurs.\n",
    "\n",
    "Le Togo, le Bénin et le Rwanda ont des performances variables, avec des formes plus petites sur le graphique radar, ce qui indique des valeurs plus faibles sur ces indicateurs."
   ]
  }
 ],
 "metadata": {
  "kernelspec": {
   "display_name": "Python 3 (ipykernel)",
   "language": "python",
   "name": "python3"
  },
  "language_info": {
   "codemirror_mode": {
    "name": "ipython",
    "version": 3
   },
   "file_extension": ".py",
   "mimetype": "text/x-python",
   "name": "python",
   "nbconvert_exporter": "python",
   "pygments_lexer": "ipython3",
   "version": "3.10.9"
  }
 },
 "nbformat": 4,
 "nbformat_minor": 5
}
